{
 "metadata": {
  "name": ""
 },
 "nbformat": 3,
 "nbformat_minor": 0,
 "worksheets": [
  {
   "cells": [
    {
     "cell_type": "code",
     "collapsed": false,
     "input": [
      "using Distributions\n",
      "mem = true"
     ],
     "language": "python",
     "metadata": {},
     "outputs": [
      {
       "metadata": {},
       "output_type": "pyout",
       "prompt_number": 1,
       "text": [
        "true"
       ]
      }
     ],
     "prompt_number": 1
    },
    {
     "cell_type": "markdown",
     "metadata": {},
     "source": [
      "##First proposal:\n",
      "\n",
      "sample starts a chain of samples, updates the values of the rv and gives the information to the childs\n"
     ]
    },
    {
     "cell_type": "code",
     "collapsed": false,
     "input": [
      "f(a,b) = a+ b\n",
      "f([17,32]...)"
     ],
     "language": "python",
     "metadata": {},
     "outputs": [
      {
       "metadata": {},
       "output_type": "pyout",
       "prompt_number": 57,
       "text": [
        "49"
       ]
      }
     ],
     "prompt_number": 57
    },
    {
     "cell_type": "code",
     "collapsed": false,
     "input": [
      "type RV\n",
      "    distgenerator::Function\n",
      "    value\n",
      "    parents\n",
      "    memoize ::Bool\n",
      "end\n",
      "type RV2\n",
      "    mechanism\n",
      "    observation    # to store observed values\n",
      "    memoizedvalue\n",
      "end"
     ],
     "language": "python",
     "metadata": {},
     "outputs": [],
     "prompt_number": 2
    },
    {
     "cell_type": "code",
     "collapsed": false,
     "input": [
      "# Works perfectly for a RV with one parent\n",
      "function sampleRVX(r :: RV)\n",
      "    if (r.value == null)\n",
      "        ##needs work\n",
      "        map(sampleRVX, r.parents)\n",
      "        print(values)\n",
      "        r.value = rand(r.distgenerator())\n",
      "    end\n",
      "    return r.value\n",
      "end\n",
      "\n",
      "\n",
      "function sampleRV(r::RV)\n",
      "    if (r.value == null)\n",
      "        if (length(r. parents) == 0)\n",
      "            r.value = rand(r.distgenerator())\n",
      "        elseif (length(r.parents) == 1)\n",
      "            a = r.parents[1] \n",
      "            sampleRV(a)\n",
      "            r.value = rand(r.distgenerator(a.value))\n",
      "        elseif (length(r.parents) == 2)\n",
      "            a = r.parents[1]\n",
      "            b = r.parents[2]\n",
      "            sampleRV(a)\n",
      "            sampleRV(b)\n",
      "            r.value = rand(r.distgenerator(a.value,b.value))\n",
      "        elseif (length(r.parents) == 3)\n",
      "            a = r.parents[1]\n",
      "            b = r.parents[2]\n",
      "            c = r.parents[3]\n",
      "            sampleRV(a)\n",
      "            sampleRV(b)\n",
      "            sampleRV(c)\n",
      "            r.value = rand(r.distgenerator(a.value,b.value,c.value))\n",
      "        else \n",
      "            error (\"Don't know how to deal with more than 3 parents\")\n",
      "        end\n",
      "    else\n",
      "        return r.value\n",
      "    end\n",
      "end\n",
      "\n",
      "##what if a negative??\n"
     ],
     "language": "python",
     "metadata": {},
     "outputs": [
      {
       "metadata": {},
       "output_type": "pyout",
       "prompt_number": 3,
       "text": [
        "sampleRV (generic function with 1 method)"
       ]
      }
     ],
     "prompt_number": 3
    },
    {
     "cell_type": "code",
     "collapsed": false,
     "input": [
      "X = RV(() -> Normal(), null, [], false)\n",
      "Y = RV(()-> Normal(), null, [], false)\n",
      "Z = RV((x)-> Normal(x,1), null, [X], false)  #Normal(X.value,1), null, [X], false)\n",
      "sampleRV(Z)"
     ],
     "language": "python",
     "metadata": {},
     "outputs": [
      {
       "metadata": {},
       "output_type": "pyout",
       "prompt_number": 4,
       "text": [
        "-2.5297509335666026"
       ]
      }
     ],
     "prompt_number": 4
    },
    {
     "cell_type": "markdown",
     "metadata": {},
     "source": [
      "### sample_cond([x,z], [[y,1], [a, 17]])\n",
      "\n",
      "for better understanding\n",
      "\n",
      "sample_cond([x,y,z], [[y,1],[x,1]])"
     ]
    },
    {
     "cell_type": "code",
     "collapsed": false,
     "input": [
      "type Model \n",
      "    randomVariables ##Array of RV\n",
      "    conditions ##2 D Array\n",
      "end"
     ],
     "language": "python",
     "metadata": {},
     "outputs": [],
     "prompt_number": 5
    },
    {
     "cell_type": "code",
     "collapsed": false,
     "input": [
      "type condition\n",
      "    rv::RV\n",
      "    value\n",
      "end"
     ],
     "language": "python",
     "metadata": {},
     "outputs": [],
     "prompt_number": 6
    },
    {
     "cell_type": "raw",
     "metadata": {},
     "source": [
      "function sample_cond(m::Model)\n",
      "    for i in m.randomVariables\n",
      "        sampleRV(i)\n",
      "    end\n",
      "    \n",
      "    truthValues = []\n",
      "    for i in m.conditions\n",
      "        truthValues = [truthValues ,i.value((i.rv.value))]\n",
      "    end \n",
      "    return truthValues\n",
      "end"
     ]
    },
    {
     "cell_type": "code",
     "collapsed": false,
     "input": [
      "##What if after the first sample the observation is not fullfilled? with a new sample the value will not change\n",
      "function rejectionSample(m::Model)\n",
      "    for i in m.randomVariables\n",
      "        sample(i) ##sample not defined ????\n",
      "    end\n",
      "    ##go through the conditions and see if they fit\n",
      "    sample = sample_cond(m)\n",
      "    for i in sample\n",
      "        if i == false\n",
      "            return false\n",
      "        end\n",
      "    end\n",
      "    return true\n",
      "end"
     ],
     "language": "python",
     "metadata": {},
     "outputs": [
      {
       "metadata": {},
       "output_type": "pyout",
       "prompt_number": 7,
       "text": [
        "rejectionSample (generic function with 1 method)"
       ]
      }
     ],
     "prompt_number": 7
    },
    {
     "cell_type": "code",
     "collapsed": false,
     "input": [
      "X = RV(() -> Normal(), null, [],false)\n",
      "Y = RV(()-> Normal(), null, [],false)\n",
      "Z = RV((x)-> Normal(x,1), null, [X],false)\n",
      "c = condition(X,(x) -> x < 9)\n",
      "l = condition(Z,(z)-> z < 0)\n",
      "M = Model([X,Y,Z], [c,l])"
     ],
     "language": "python",
     "metadata": {},
     "outputs": [
      {
       "metadata": {},
       "output_type": "pyout",
       "prompt_number": 8,
       "text": [
        "Model([RV((anonymous function),null,None[],false),RV((anonymous function),null,None[],false),RV((anonymous function),null,[RV((anonymous function),null,None[],false)],false)],[condition(RV((anonymous function),null,None[],false),(anonymous function)),condition(RV((anonymous function),null,[RV((anonymous function),null,None[],false)],false),(anonymous function))])"
       ]
      }
     ],
     "prompt_number": 8
    },
    {
     "cell_type": "markdown",
     "metadata": {},
     "source": [
      "###observe is like a condition. If we run observe(r1 = true) but r1 =false, \n",
      "###we will rerun the programm. Simple rejection sampling"
     ]
    },
    {
     "cell_type": "raw",
     "metadata": {},
     "source": [
      "sample_memoized(y) = begin\n",
      "   if y.value exists return y.value\n",
      "  list = map(sample, y.parents)\n",
      "  y.value = sample(acall , list...)\n",
      "    return y.value\n",
      "end\n",
      "sample(y)  =begin\n",
      "  s = sample_memoized(y)\n",
      "  reset(y)\n",
      "  return s\n",
      "end\n",
      "reset(y, exclude=[]) = begin\n",
      "  map(reset, y.parent, exclude)\n",
      "  y.value = null\n",
      "end\n",
      "    "
     ]
    },
    {
     "cell_type": "code",
     "collapsed": false,
     "input": [
      "function resetRV(x::RV)   #works\n",
      "    for i in x.parents\n",
      "        resetRV(i)\n",
      "    end\n",
      "    if (x.memoize != false && x.value != null)\n",
      "        return \n",
      "    else\n",
      "        x.value = null\n",
      "    end\n",
      "end\n",
      "\n",
      "function sampleProcess(x)\n",
      "    s = sample_memoized(x)\n",
      "    resetRV(x)\n",
      "    return s\n",
      "end\n",
      "\n",
      "function sample_memoized(x)\n",
      "    if (x.value != null)\n",
      "        return x.value\n",
      "    else\n",
      "        l = map(sampleRV, x.parents)\n",
      "        x.value = sampleRV(x)\n",
      "        return x.value\n",
      "    end\n",
      "end\n",
      "\n"
     ],
     "language": "python",
     "metadata": {},
     "outputs": [
      {
       "metadata": {},
       "output_type": "pyout",
       "prompt_number": 40,
       "text": [
        "sample_memoized (generic function with 1 method)"
       ]
      }
     ],
     "prompt_number": 40
    },
    {
     "cell_type": "code",
     "collapsed": false,
     "input": [
      "resetRV(Z)\n",
      "M\n",
      "sample_memoized(Z)\n",
      "(X,Z)   #works "
     ],
     "language": "python",
     "metadata": {},
     "outputs": [
      {
       "metadata": {},
       "output_type": "pyout",
       "prompt_number": 11,
       "text": [
        "(RV((anonymous function),1.1633034424285562,None[],false),RV((anonymous function),1.4948622066915949,[RV((anonymous function),1.1633034424285562,None[],false)],false))"
       ]
      }
     ],
     "prompt_number": 11
    },
    {
     "cell_type": "raw",
     "metadata": {},
     "source": [
      "sample_cond(y, cond, args) = \n",
      "  repeat \n",
      "    sample_memoized(args)\n",
      "    if counter++ > max, error('') end\n",
      "  until cond(args)\n",
      "  yval = sample_memoized(y)\n",
      "  reset...\n",
      "end\n",
      "    \n",
      "sample_cond(y, (x,z) -> x>0 and z<0), [X,Z])"
     ]
    },
    {
     "cell_type": "code",
     "collapsed": false,
     "input": [
      "function sample_cond1(rv, cond, args)   #isless` has no method matching isless(::Int64, ::Function)\n",
      "    \n",
      "    maximum = 10000\n",
      "    map(sample_memoized,args)\n",
      "    while false == cond(map((x -> x.value), args)...) && maximum >0 #do while\n",
      "        map(resetRV, args)\n",
      "        map(sample_memoized,args)\n",
      "        maximum = maximum -1\n",
      "    end\n",
      "    result = sample_memoized(rv)\n",
      "    map(resetRV, args)\n",
      "    resetRV(rv)\n",
      "    return (maximum,result)\n",
      "end"
     ],
     "language": "python",
     "metadata": {},
     "outputs": [
      {
       "metadata": {},
       "output_type": "pyout",
       "prompt_number": 12,
       "text": [
        "sample_cond1 (generic function with 1 method)"
       ]
      }
     ],
     "prompt_number": 12
    },
    {
     "cell_type": "code",
     "collapsed": false,
     "input": [
      "sample_cond1(Z, \n",
      "             (x,y,z) -> x > 1 && z > 1 && y < 1,   #macro w\u00e4re cool: @cond x > 0 && z> 0 && y <0\n",
      "             [X,Y,Z])"
     ],
     "language": "python",
     "metadata": {},
     "outputs": [
      {
       "metadata": {},
       "output_type": "pyout",
       "prompt_number": 17,
       "text": [
        "(9992,1.6083721305081249)"
       ]
      }
     ],
     "prompt_number": 17
    },
    {
     "cell_type": "code",
     "collapsed": false,
     "input": [
      "resetRV(Z)\n",
      "sample_memoized(Z)\n"
     ],
     "language": "python",
     "metadata": {},
     "outputs": [
      {
       "metadata": {},
       "output_type": "pyout",
       "prompt_number": 14,
       "text": [
        "-0.8870348251313387"
       ]
      }
     ],
     "prompt_number": 14
    },
    {
     "cell_type": "code",
     "collapsed": false,
     "input": [],
     "language": "python",
     "metadata": {},
     "outputs": [
      {
       "ename": "LoadError",
       "evalue": "`isless` has no method matching isless(::Int64, ::Function)\nwhile loading In[72], in expression starting on line 1",
       "output_type": "pyerr",
       "traceback": [
        "`isless` has no method matching isless(::Int64, ::Function)\nwhile loading In[72], in expression starting on line 1",
        "",
        " in > at operators.jl:33"
       ]
      }
     ],
     "prompt_number": 72
    },
    {
     "cell_type": "code",
     "collapsed": false,
     "input": [
      "x = rv()\n",
      "y = rv(x)\n",
      "sample(y)\n",
      "sample(y)\n",
      "sample(y)\n"
     ],
     "language": "python",
     "metadata": {},
     "outputs": [],
     "prompt_number": 73
    },
    {
     "cell_type": "code",
     "collapsed": false,
     "input": [
      "x = 0\n",
      "f(a) = x * a"
     ],
     "language": "python",
     "metadata": {},
     "outputs": [
      {
       "metadata": {},
       "output_type": "pyout",
       "prompt_number": 18,
       "text": [
        "f (generic function with 1 method)"
       ]
      }
     ],
     "prompt_number": 18
    },
    {
     "cell_type": "code",
     "collapsed": false,
     "input": [
      "f(18)"
     ],
     "language": "python",
     "metadata": {},
     "outputs": [
      {
       "metadata": {},
       "output_type": "pyout",
       "prompt_number": 19,
       "text": [
        "0"
       ]
      }
     ],
     "prompt_number": 19
    },
    {
     "cell_type": "code",
     "collapsed": false,
     "input": [
      "x = 2\n",
      "f(18)"
     ],
     "language": "python",
     "metadata": {},
     "outputs": [
      {
       "metadata": {},
       "output_type": "pyout",
       "prompt_number": 20,
       "text": [
        "36"
       ]
      }
     ],
     "prompt_number": 20
    },
    {
     "cell_type": "code",
     "collapsed": false,
     "input": [
      "A() = rand()"
     ],
     "language": "python",
     "metadata": {},
     "outputs": [
      {
       "metadata": {},
       "output_type": "pyout",
       "prompt_number": 21,
       "text": [
        "A (generic function with 1 method)"
       ]
      }
     ],
     "prompt_number": 21
    },
    {
     "cell_type": "code",
     "collapsed": false,
     "input": [
      "A()"
     ],
     "language": "python",
     "metadata": {},
     "outputs": [
      {
       "metadata": {},
       "output_type": "pyout",
       "prompt_number": 23,
       "text": [
        "0.347292747203634"
       ]
      }
     ],
     "prompt_number": 23
    },
    {
     "cell_type": "code",
     "collapsed": false,
     "input": [
      "B() = A() + 17"
     ],
     "language": "python",
     "metadata": {},
     "outputs": [
      {
       "metadata": {},
       "output_type": "pyout",
       "prompt_number": 24,
       "text": [
        "B (generic function with 1 method)"
       ]
      }
     ],
     "prompt_number": 24
    },
    {
     "cell_type": "code",
     "collapsed": false,
     "input": [
      "C() = A() + B()"
     ],
     "language": "python",
     "metadata": {},
     "outputs": [
      {
       "metadata": {},
       "output_type": "pyout",
       "prompt_number": 29,
       "text": [
        "C (generic function with 1 method)"
       ]
      }
     ],
     "prompt_number": 29
    },
    {
     "cell_type": "code",
     "collapsed": false,
     "input": [
      "C()"
     ],
     "language": "python",
     "metadata": {},
     "outputs": [
      {
       "metadata": {},
       "output_type": "pyout",
       "prompt_number": 30,
       "text": [
        "17.51292369486062"
       ]
      }
     ],
     "prompt_number": 30
    },
    {
     "cell_type": "code",
     "collapsed": false,
     "input": [
      "x = () -> rand() "
     ],
     "language": "python",
     "metadata": {},
     "outputs": [
      {
       "metadata": {},
       "output_type": "pyout",
       "prompt_number": 31,
       "text": [
        "(anonymous function)"
       ]
      }
     ],
     "prompt_number": 31
    },
    {
     "cell_type": "code",
     "collapsed": false,
     "input": [
      "x()"
     ],
     "language": "python",
     "metadata": {},
     "outputs": [
      {
       "metadata": {},
       "output_type": "pyout",
       "prompt_number": 38,
       "text": [
        "0.40426697108675724"
       ]
      }
     ],
     "prompt_number": 38
    },
    {
     "cell_type": "code",
     "collapsed": false,
     "input": [
      "reset"
     ],
     "language": "python",
     "metadata": {},
     "outputs": [
      {
       "metadata": {},
       "output_type": "pyout",
       "prompt_number": 39,
       "text": [
        "reset (generic function with 2 methods)"
       ]
      }
     ],
     "prompt_number": 39
    },
    {
     "cell_type": "code",
     "collapsed": false,
     "input": [
      "x = rv()\n",
      "y = 2 * x\n",
      "for i = 1..100, s[i]=sample(y), end\n",
      "observe(y, 17)\n",
      "do(y, 17)\n",
      "sample(x)"
     ],
     "language": "python",
     "metadata": {},
     "outputs": []
    },
    {
     "cell_type": "code",
     "collapsed": false,
     "input": [
      "x = gauss()\n",
      "y = x + x\n",
      "observe(y, 17)\n",
      "predict(x)"
     ],
     "language": "python",
     "metadata": {},
     "outputs": []
    },
    {
     "cell_type": "code",
     "collapsed": false,
     "input": [
      "a = rv()\n",
      "b = rv(a)\n",
      "c = rv(a)\n",
      "d = rv(b,c)\n",
      "for i \n",
      "  sample(d)   # with reset\n",
      "  ds[i] = d.value  \n",
      "  as[i] = a.value \n",
      "  reset([a,b,c,d])\n",
      "end"
     ],
     "language": "python",
     "metadata": {},
     "outputs": []
    }
   ],
   "metadata": {}
  }
 ]
}