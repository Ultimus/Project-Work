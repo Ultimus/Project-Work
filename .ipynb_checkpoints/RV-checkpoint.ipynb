{
 "metadata": {
  "name": ""
 },
 "nbformat": 3,
 "nbformat_minor": 0,
 "worksheets": [
  {
   "cells": [
    {
     "cell_type": "code",
     "collapsed": false,
     "input": [
      "using Distributions\n",
      "mem = true"
     ],
     "language": "python",
     "metadata": {},
     "outputs": [
      {
       "metadata": {},
       "output_type": "pyout",
       "prompt_number": 56,
       "text": [
        "true"
       ]
      }
     ],
     "prompt_number": 56
    },
    {
     "cell_type": "markdown",
     "metadata": {},
     "source": [
      "##First proposal:\n",
      "\n",
      "sample starts a chain of samples, updates the values of the rv and gives the information to the childs\n"
     ]
    },
    {
     "cell_type": "code",
     "collapsed": false,
     "input": [
      "f(a,b) = a+ b\n",
      "f([17,32]...)"
     ],
     "language": "python",
     "metadata": {},
     "outputs": [
      {
       "metadata": {},
       "output_type": "pyout",
       "prompt_number": 57,
       "text": [
        "49"
       ]
      }
     ],
     "prompt_number": 57
    },
    {
     "cell_type": "code",
     "collapsed": false,
     "input": [
      "type RV\n",
      "    distgenerator::Function\n",
      "    value\n",
      "    parents\n",
      "    memoize ::Bool\n",
      "end"
     ],
     "language": "python",
     "metadata": {},
     "outputs": [],
     "prompt_number": 58
    },
    {
     "cell_type": "code",
     "collapsed": false,
     "input": [
      "# Works perfectly for a RV with one parent\n",
      "function sampleRV(r :: RV)\n",
      "    if (r.value == null)\n",
      "        ##needs work\n",
      "        r.value = rand(r.distgenerator( map((x) -> x.value, r.parents)...))\n",
      "    end\n",
      "    return r.value\n",
      "end\n",
      "\n",
      "\n",
      "function sampleRVX(r::RV)\n",
      "    if (r.value == null)\n",
      "        if (length(r. parents) == 0)\n",
      "            r.value = rand(r.distgenerator())\n",
      "        elseif (length(r.parents) == 1)\n",
      "            a = r.parents[1] \n",
      "            sampleRV(a)\n",
      "            r.value = rand(r.distgenerator(a.value))\n",
      "        elseif (length(r.parents) == 2)\n",
      "            a = r.parents[1]\n",
      "            b = r.parents[2]\n",
      "            sampleRV(a)\n",
      "            sampleRV(b)\n",
      "            r.value = rand(r.distgenerator(a.value,b.value))\n",
      "        elseif (length(r.parents) == 3)\n",
      "            a = r.parents[1]\n",
      "            b = r.parents[2]\n",
      "            c = r.parents[3]\n",
      "            sampleRV(a)\n",
      "            sampleRV(b)\n",
      "            sampleRV(c)\n",
      "            r.value = rand(r.distgenerator(a.value,b.value,c.value))\n",
      "        else \n",
      "            error (\"Don't know how to deal with more than 3 parents\")\n",
      "        end\n",
      "    else\n",
      "        return r.value\n",
      "    end\n",
      "end\n",
      "\n",
      "##what if a negative??\n"
     ],
     "language": "python",
     "metadata": {},
     "outputs": [
      {
       "metadata": {},
       "output_type": "pyout",
       "prompt_number": 85,
       "text": [
        "sampleRVX (generic function with 1 method)"
       ]
      }
     ],
     "prompt_number": 85
    },
    {
     "cell_type": "code",
     "collapsed": false,
     "input": [
      "function addParents(rv::RV, p::Array{RV,1})\n",
      "    rv.parents = [rv.parents, p]\n",
      "end"
     ],
     "language": "python",
     "metadata": {},
     "outputs": [
      {
       "metadata": {},
       "output_type": "pyout",
       "prompt_number": 60,
       "text": [
        "addParents (generic function with 1 method)"
       ]
      }
     ],
     "prompt_number": 60
    },
    {
     "cell_type": "code",
     "collapsed": false,
     "input": [
      "X = RV(() -> Normal(), null, [], false)\n",
      "Y = RV(()-> Normal(), null, [], false)\n",
      "Z = RV((x)-> Normal(x,1), null, [X], false)\n",
      "sampleRV(Z)"
     ],
     "language": "python",
     "metadata": {},
     "outputs": [
      {
       "ename": "LoadError",
       "evalue": "`Normal` has no method matching Normal(::Function, ::Int64)\nwhile loading In[87], in expression starting on line 4",
       "output_type": "pyerr",
       "traceback": [
        "`Normal` has no method matching Normal(::Function, ::Int64)\nwhile loading In[87], in expression starting on line 4",
        "",
        " in anonymous at In[87]:3",
        " in sampleRV at In[85]:4"
       ]
      }
     ],
     "prompt_number": 87
    },
    {
     "cell_type": "markdown",
     "metadata": {},
     "source": [
      "### sample_cond([x,z], [[y,1], [a, 17]])\n",
      "\n",
      "for better understanding\n",
      "\n",
      "sample_cond([x,y,z], [[y,1],[x,1]])"
     ]
    },
    {
     "cell_type": "code",
     "collapsed": false,
     "input": [
      "type Model \n",
      "    randomVariables ##Array of RV\n",
      "    conditions ##2 D Array\n",
      "end"
     ],
     "language": "python",
     "metadata": {},
     "outputs": [],
     "prompt_number": 62
    },
    {
     "cell_type": "code",
     "collapsed": false,
     "input": [
      "type condition\n",
      "    rv::RV\n",
      "    value\n",
      "end"
     ],
     "language": "python",
     "metadata": {},
     "outputs": [],
     "prompt_number": 63
    },
    {
     "cell_type": "raw",
     "metadata": {},
     "source": [
      "function sample_cond(m::Model)\n",
      "    for i in m.randomVariables\n",
      "        sampleRV(i)\n",
      "    end\n",
      "    \n",
      "    truthValues = []\n",
      "    for i in m.conditions\n",
      "        truthValues = [truthValues ,i.value((i.rv.value))]\n",
      "    end \n",
      "    return truthValues\n",
      "end"
     ]
    },
    {
     "cell_type": "code",
     "collapsed": false,
     "input": [
      "##What if after the first sample the observation is not fullfilled? with a new sample the value will not change\n",
      "function rejectionSample(m::Model)\n",
      "    for i in m.randomVariables\n",
      "        sample(i) ##sample not defined ????\n",
      "    end\n",
      "    ##go through the conditions and see if they fit\n",
      "    sample = sample_cond(m)\n",
      "    for i in sample\n",
      "        if i == false\n",
      "            return false\n",
      "        end\n",
      "    end\n",
      "    return true\n",
      "end"
     ],
     "language": "python",
     "metadata": {},
     "outputs": [
      {
       "metadata": {},
       "output_type": "pyout",
       "prompt_number": 64,
       "text": [
        "rejectionSample (generic function with 1 method)"
       ]
      }
     ],
     "prompt_number": 64
    },
    {
     "cell_type": "code",
     "collapsed": false,
     "input": [
      "X = RV(() -> Normal(), null, [],false)\n",
      "Y = RV(()-> Normal(), null, [],false)\n",
      "Z = RV((x)-> Normal(x,1), null, [X],false)\n",
      "c = condition(X,(x) -> x < 9)\n",
      "l = condition(Z,(z)-> z < 0)\n",
      "M = Model([X,Y,Z], [c,l])"
     ],
     "language": "python",
     "metadata": {},
     "outputs": [
      {
       "metadata": {},
       "output_type": "pyout",
       "prompt_number": 65,
       "text": [
        "Model([RV((anonymous function),null,None[],false),RV((anonymous function),null,None[],false),RV((anonymous function),null,[RV((anonymous function),null,None[],false)],false)],[condition(RV((anonymous function),null,None[],false),(anonymous function)),condition(RV((anonymous function),null,[RV((anonymous function),null,None[],false)],false),(anonymous function))])"
       ]
      }
     ],
     "prompt_number": 65
    },
    {
     "cell_type": "markdown",
     "metadata": {},
     "source": [
      "###observe is like a condition. If we run observe(r1 = true) but r1 =false, \n",
      "###we will rerun the programm. Simple rejection sampling"
     ]
    },
    {
     "cell_type": "raw",
     "metadata": {},
     "source": [
      "sample_memoized(y) = begin\n",
      "   if y.value exists return y.value\n",
      "  list = map(sample, y.parents)\n",
      "  y.value = sample(acall , list...)\n",
      "    return y.value\n",
      "end\n",
      "sample(y)  =begin\n",
      "  s = sample_memoized(y)\n",
      "  reset(y)\n",
      "end\n",
      "reset(y, exclude=[]) = begin\n",
      "  map(reset, y.parent, exclude)\n",
      "  y.value = null\n",
      "end\n",
      "    "
     ]
    },
    {
     "cell_type": "code",
     "collapsed": false,
     "input": [
      "function resetRV(x::RV)   #works\n",
      "    for i in x.parents\n",
      "        resetRV(i)\n",
      "    end\n",
      "    if (x.memoize != false && x.value != null)\n",
      "        return \n",
      "    else\n",
      "        x.value = null\n",
      "    end\n",
      "end\n",
      "\n",
      "function sampleProcess(x)\n",
      "    s = sample_memoized(x)\n",
      "    resetRV(x)\n",
      "end\n",
      "\n",
      "function sample_memoized(x)\n",
      "    if (x.value != null)\n",
      "        return x.value\n",
      "    else\n",
      "        l = map(sampleRV, x.parents)\n",
      "        x.value = sampleRV(x)\n",
      "        return x.value\n",
      "    end\n",
      "end\n",
      "\n"
     ],
     "language": "python",
     "metadata": {},
     "outputs": [
      {
       "metadata": {},
       "output_type": "pyout",
       "prompt_number": 66,
       "text": [
        "sample_memoized (generic function with 1 method)"
       ]
      }
     ],
     "prompt_number": 66
    },
    {
     "cell_type": "code",
     "collapsed": false,
     "input": [
      "resetRV(Z)\n",
      "M\n",
      "sample_memoized(Z)\n",
      "(X,Z)   #works "
     ],
     "language": "python",
     "metadata": {},
     "outputs": [
      {
       "ename": "LoadError",
       "evalue": "`Normal` has no method matching Normal(::RV, ::Int64)\nwhile loading In[67], in expression starting on line 3",
       "output_type": "pyerr",
       "traceback": [
        "`Normal` has no method matching Normal(::RV, ::Int64)\nwhile loading In[67], in expression starting on line 3",
        "",
        " in anonymous at In[65]:3",
        " in sample_memoized at In[66]:22"
       ]
      }
     ],
     "prompt_number": 67
    },
    {
     "cell_type": "raw",
     "metadata": {},
     "source": [
      "sample_cond(y, cond, args) = \n",
      "  repeat \n",
      "    sample_memoized(args)\n",
      "    if counter++ > max, error('') end\n",
      "  until cond(args)\n",
      "  yval = sample_memoized(y)\n",
      "  reset...\n",
      "end\n",
      "    \n",
      "sample_cond(y, (x,z) -> x>0 and z<0), [X,Z])"
     ]
    },
    {
     "cell_type": "code",
     "collapsed": false,
     "input": [
      "sample_cond(y, cond )"
     ],
     "language": "python",
     "metadata": {},
     "outputs": [
      {
       "ename": "LoadError",
       "evalue": "sample_cond not defined\nwhile loading In[68], in expression starting on line 1",
       "output_type": "pyerr",
       "traceback": [
        "sample_cond not defined\nwhile loading In[68], in expression starting on line 1",
        ""
       ]
      }
     ],
     "prompt_number": 68
    },
    {
     "cell_type": "code",
     "collapsed": false,
     "input": [
      "function sample_cond1(rv, cond, args)   #isless` has no method matching isless(::Int64, ::Function)\n",
      "    \n",
      "    maximum = 10000\n",
      "    map(sample_memoized,args)\n",
      "    while false == cond(map((x -> x.value), args)...) #do while\n",
      "        map(resetRV, args)\n",
      "        map(sample_memoized,args)\n",
      "        maximum = maximum -1\n",
      "    end\n",
      "    result = sample_memoized(rv)\n",
      "    map(resetRV, args)\n",
      "    resetRV(rv)\n",
      "    return (maximum,result)\n",
      "end"
     ],
     "language": "python",
     "metadata": {},
     "outputs": [
      {
       "metadata": {},
       "output_type": "pyout",
       "prompt_number": 69,
       "text": [
        "sample_cond1 (generic function with 1 method)"
       ]
      }
     ],
     "prompt_number": 69
    },
    {
     "cell_type": "code",
     "collapsed": false,
     "input": [
      "sample_cond1(Z, \n",
      "             (x,y,z) -> x > 0 && z > 0 && y < 0,\n",
      "             [X,Y,Z])"
     ],
     "language": "python",
     "metadata": {},
     "outputs": [
      {
       "ename": "LoadError",
       "evalue": "`Normal` has no method matching Normal(::RV, ::Int64)\nwhile loading In[70], in expression starting on line 1",
       "output_type": "pyerr",
       "traceback": [
        "`Normal` has no method matching Normal(::RV, ::Int64)\nwhile loading In[70], in expression starting on line 1",
        "",
        " in anonymous at In[65]:3",
        " in sample_memoized at In[66]:22",
        " in map_to! at abstractarray.jl:1311",
        " in map at abstractarray.jl:1331",
        " in sample_cond1 at In[69]:4"
       ]
      }
     ],
     "prompt_number": 70
    },
    {
     "cell_type": "code",
     "collapsed": false,
     "input": [
      "resetRV(Z)\n",
      "sample_memoized(Z)\n"
     ],
     "language": "python",
     "metadata": {},
     "outputs": [
      {
       "ename": "LoadError",
       "evalue": "`Normal` has no method matching Normal(::RV, ::Int64)\nwhile loading In[71], in expression starting on line 2",
       "output_type": "pyerr",
       "traceback": [
        "`Normal` has no method matching Normal(::RV, ::Int64)\nwhile loading In[71], in expression starting on line 2",
        "",
        " in anonymous at In[65]:3",
        " in sample_memoized at In[66]:22"
       ]
      }
     ],
     "prompt_number": 71
    },
    {
     "cell_type": "code",
     "collapsed": false,
     "input": [
      "null > 0"
     ],
     "language": "python",
     "metadata": {},
     "outputs": [
      {
       "ename": "LoadError",
       "evalue": "`isless` has no method matching isless(::Int64, ::Function)\nwhile loading In[72], in expression starting on line 1",
       "output_type": "pyerr",
       "traceback": [
        "`isless` has no method matching isless(::Int64, ::Function)\nwhile loading In[72], in expression starting on line 1",
        "",
        " in > at operators.jl:33"
       ]
      }
     ],
     "prompt_number": 72
    },
    {
     "cell_type": "code",
     "collapsed": false,
     "input": [],
     "language": "python",
     "metadata": {},
     "outputs": [],
     "prompt_number": 73
    }
   ],
   "metadata": {}
  }
 ]
}