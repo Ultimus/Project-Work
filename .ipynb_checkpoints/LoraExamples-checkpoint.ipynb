{
 "metadata": {
  "name": ""
 },
 "nbformat": 3,
 "nbformat_minor": 0,
 "worksheets": [
  {
   "cells": [
    {
     "cell_type": "code",
     "collapsed": false,
     "input": [
      "using Lora, Distributions"
     ],
     "language": "python",
     "metadata": {},
     "outputs": [],
     "prompt_number": 9
    },
    {
     "cell_type": "markdown",
     "metadata": {},
     "source": [
      "#Likelihood Model"
     ]
    },
    {
     "cell_type": "markdown",
     "metadata": {},
     "source": [
      "##Model Specification by Explicitly Defining the Log-Target Function"
     ]
    },
    {
     "cell_type": "code",
     "collapsed": false,
     "input": [
      "f(x) = -dot(x,x)\n",
      "mcmodel= model(f, init=ones(3))\n",
      "mcmodel.eval(mcmodel.init)"
     ],
     "language": "python",
     "metadata": {},
     "outputs": [
      {
       "metadata": {},
       "output_type": "pyout",
       "prompt_number": 3,
       "text": [
        "-3.0"
       ]
      }
     ],
     "prompt_number": 3
    },
    {
     "cell_type": "code",
     "collapsed": false,
     "input": [
      "mcmodel = model(x -> -dot(x, x), grad=v -> -2v, init=ones(3))\n",
      "mcmodel.evalg(mcmodel.init)"
     ],
     "language": "python",
     "metadata": {},
     "outputs": [
      {
       "metadata": {},
       "output_type": "pyout",
       "prompt_number": 8,
       "text": [
        "3-element Array{Float64,1}:\n",
        " -2.0\n",
        " -2.0\n",
        " -2.0"
       ]
      }
     ],
     "prompt_number": 8
    },
    {
     "cell_type": "code",
     "collapsed": false,
     "input": [
      "mcmodel = model(Normal(), init=ones(3))"
     ],
     "language": "python",
     "metadata": {},
     "outputs": [
      {
       "metadata": {},
       "output_type": "pyout",
       "prompt_number": 20,
       "text": [
        "LikelihoodModel, with 1 parameter(s), with gradient\n"
       ]
      }
     ],
     "prompt_number": 20
    },
    {
     "cell_type": "code",
     "collapsed": false,
     "input": [
      "mcmodel.eval(mcmodel.init)"
     ],
     "language": "python",
     "metadata": {},
     "outputs": [
      {
       "metadata": {},
       "output_type": "pyout",
       "prompt_number": 22,
       "text": [
        "-1.4189385332046727"
       ]
      }
     ],
     "prompt_number": 22
    },
    {
     "cell_type": "code",
     "collapsed": false,
     "input": [
      "modelexpression = quote\n",
      "  v ~ Normal(0, 1)\n",
      "end\n",
      "\n",
      "#mcmodel = model(modelexpression, v=ones(3))\n",
      "#mcmodel = model(modelexpression, gradient=true, v=ones(3))\n",
      "#does not work\n"
     ],
     "language": "python",
     "metadata": {},
     "outputs": [
      {
       "metadata": {},
       "output_type": "pyout",
       "prompt_number": 28,
       "text": [
        "quote  # In[28], line 2:\n",
        "    @~ v Normal(0,1)\n",
        "end"
       ]
      }
     ],
     "prompt_number": 28
    },
    {
     "cell_type": "code",
     "collapsed": false,
     "input": [
      "g(x) = ARS(x -> -dot(x, x)/2)\n",
      "arsmodel = ARS(x -> -dot(x, x)/2; proposalscale=1.5, jumpscale=0.9)"
     ],
     "language": "python",
     "metadata": {},
     "outputs": [
      {
       "metadata": {},
       "output_type": "pyout",
       "prompt_number": 34,
       "text": [
        "ARS((anonymous function),1.5,0.9)"
       ]
      }
     ],
     "prompt_number": 34
    },
    {
     "cell_type": "code",
     "collapsed": false,
     "input": [
      "arsmodel.eval()"
     ],
     "language": "python",
     "metadata": {},
     "outputs": [
      {
       "ename": "LoadError",
       "evalue": "type ARS has no field eval\nwhile loading In[36], in expression starting on line 1",
       "output_type": "pyerr",
       "traceback": [
        "type ARS has no field eval\nwhile loading In[36], in expression starting on line 1",
        ""
       ]
      }
     ],
     "prompt_number": 36
    },
    {
     "cell_type": "code",
     "collapsed": false,
     "input": [
      "SliceSampler()\n",
      "\n",
      "SliceSampler(widths=[1.5, 1.1], stepout=false)"
     ],
     "language": "python",
     "metadata": {},
     "outputs": [
      {
       "metadata": {},
       "output_type": "pyout",
       "prompt_number": 37,
       "text": [
        "SliceSampler([1.5,1.1],false)"
       ]
      }
     ],
     "prompt_number": 37
    },
    {
     "cell_type": "code",
     "collapsed": false,
     "input": [],
     "language": "python",
     "metadata": {},
     "outputs": []
    }
   ],
   "metadata": {}
  }
 ]
}