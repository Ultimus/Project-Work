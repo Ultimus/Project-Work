{
 "metadata": {
  "language": "Julia",
  "name": ""
 },
 "nbformat": 3,
 "nbformat_minor": 0,
 "worksheets": [
  {
   "cells": [
    {
     "cell_type": "code",
     "collapsed": false,
     "input": [
      "flip = () -> (rand() < 0.5)\n",
      "flip()\n"
     ],
     "language": "python",
     "metadata": {},
     "outputs": [
      {
       "metadata": {},
       "output_type": "pyout",
       "prompt_number": 51,
       "text": [
        "false"
       ]
      }
     ],
     "prompt_number": 51
    },
    {
     "cell_type": "code",
     "collapsed": false,
     "input": [
      "counter = 0\n",
      "for i in 1:1000\n",
      "    if flip() == true \n",
      "        counter+= 1 \n",
      "    end\n",
      "        \n",
      "end    \n",
      "counter\n"
     ],
     "language": "python",
     "metadata": {},
     "outputs": [
      {
       "metadata": {},
       "output_type": "pyout",
       "prompt_number": 145,
       "text": [
        "466"
       ]
      }
     ],
     "prompt_number": 145
    },
    {
     "cell_type": "markdown",
     "metadata": {},
     "source": [
      "(* (gaussian 0 1) (gaussian 0 1) )\n"
     ]
    },
    {
     "cell_type": "code",
     "collapsed": false,
     "input": [
      "using Distributions\n",
      "d = Normal(0,1)\n",
      "e = Normal(0,1)\n",
      "rand(d)*rand(e)"
     ],
     "language": "python",
     "metadata": {},
     "outputs": [
      {
       "metadata": {},
       "output_type": "pyout",
       "prompt_number": 43,
       "text": [
        "Normal (constructor with 3 methods)"
       ]
      }
     ],
     "prompt_number": 43
    },
    {
     "cell_type": "markdown",
     "metadata": {},
     "source": [
      "(define two-gaussians (lambda () (* (gaussian 0 1) (gaussian 0 1) )))\n",
      "\n",
      "\n",
      "(density (repeat 100 two-gaussians))"
     ]
    },
    {
     "cell_type": "code",
     "collapsed": false,
     "input": [
      "two_gaussians =()-> (rand(Normal(0,1)) * rand(Normal(0,1)))\n",
      "two_gaussians()\n",
      "#idea1 : rand(two-gaussians, 100) type error\n",
      "#idea 2: for 1: 100 Problem it is not possible to round floats properly"
     ],
     "language": "python",
     "metadata": {},
     "outputs": [
      {
       "metadata": {},
       "output_type": "pyout",
       "prompt_number": 49,
       "text": [
        "-0.8135454877887618"
       ]
      }
     ],
     "prompt_number": 49
    },
    {
     "cell_type": "markdown",
     "metadata": {},
     "source": [
      "(define noisy-double (lambda (x) (if (flip) x (+ x x))))    # will probably double the input"
     ]
    },
    {
     "cell_type": "code",
     "collapsed": false,
     "input": [
      "function noisy_double(x)\n",
      "    if (flip ()) \n",
      "        return x\n",
      "    else \n",
      "        return x+x\n",
      "    end\n",
      "end"
     ],
     "language": "python",
     "metadata": {},
     "outputs": [
      {
       "metadata": {},
       "output_type": "pyout",
       "prompt_number": 60,
       "text": [
        "noisy_double (generic function with 1 method)"
       ]
      }
     ],
     "prompt_number": 60
    },
    {
     "cell_type": "code",
     "collapsed": false,
     "input": [
      "noisy_double(5)"
     ],
     "language": "python",
     "metadata": {},
     "outputs": [
      {
       "metadata": {},
       "output_type": "pyout",
       "prompt_number": 66,
       "text": [
        "5"
       ]
      }
     ],
     "prompt_number": 66
    },
    {
     "cell_type": "markdown",
     "metadata": {},
     "source": [
      "(define fair-coin (lambda () (if (flip 0.5) 'h 't))) ;the thunk is a fair coin\n",
      "\n",
      "(hist (repeat 20 fair-coin) \"fair coin\")"
     ]
    },
    {
     "cell_type": "code",
     "collapsed": false,
     "input": [
      "function fair_coin() \n",
      "    if (0.5 < rand())\n",
      "        return 't'\n",
      "    else\n",
      "        return 'f'\n",
      "    end\n",
      "end"
     ],
     "language": "python",
     "metadata": {},
     "outputs": [
      {
       "metadata": {},
       "output_type": "pyout",
       "prompt_number": 87,
       "text": [
        "fair_coin (generic function with 1 method)"
       ]
      }
     ],
     "prompt_number": 87
    },
    {
     "cell_type": "markdown",
     "metadata": {},
     "source": [
      "(define trick-coin (lambda () (if (flip 0.95) 'h 't)))\n",
      "\n",
      "(hist (repeat 20 trick-coin) \"trick coin\")"
     ]
    },
    {
     "cell_type": "code",
     "collapsed": false,
     "input": [
      "function trick_coin() \n",
      "    if (0.05 < rand())\n",
      "        return 't'\n",
      "    else\n",
      "        return 'f'\n",
      "    end\n",
      "end"
     ],
     "language": "python",
     "metadata": {},
     "outputs": [
      {
       "metadata": {},
       "output_type": "pyout",
       "prompt_number": 108,
       "text": [
        "trick_coin (generic function with 1 method)"
       ]
      }
     ],
     "prompt_number": 108
    },
    {
     "cell_type": "markdown",
     "metadata": {},
     "source": [
      "(define (make-coin weight) (lambda () (if (flip weight) 'h 't)))"
     ]
    },
    {
     "cell_type": "code",
     "collapsed": false,
     "input": [
      "function make_coin(weight)\n",
      "    newfunction = (function()\n",
      "        if (weight < rand()) \n",
      "            return 't'\n",
      "        else\n",
      "            return 'f'\n",
      "        end\n",
      "    end\n",
      "        )\n",
      "end"
     ],
     "language": "python",
     "metadata": {},
     "outputs": [
      {
       "metadata": {},
       "output_type": "pyout",
       "prompt_number": 136,
       "text": [
        "make_coin (generic function with 2 methods)"
       ]
      }
     ],
     "prompt_number": 136
    },
    {
     "cell_type": "markdown",
     "metadata": {},
     "source": [
      "(define (bend coin)\n",
      "  (lambda () (if (equal? (coin) 'h)\n",
      "                 ( (make-coin 0.7) )\n",
      "                 ( (make-coin 0.1) ) )))"
     ]
    },
    {
     "cell_type": "code",
     "collapsed": false,
     "input": [],
     "language": "python",
     "metadata": {},
     "outputs": [],
     "prompt_number": 131
    },
    {
     "cell_type": "markdown",
     "metadata": {},
     "source": [
      "(define make-coin (lambda (weight) (lambda () (flip weight))))\n",
      "\n",
      "(define coin (make-coin 0.8))\n",
      "\n",
      "(define data (repeat 1000 (lambda () (sum (map (lambda (x) (if x 1 0)) (repeat 10 coin))))))\n"
     ]
    },
    {
     "cell_type": "code",
     "collapsed": false,
     "input": [
      "coin = make_coin(0.8)\n",
      "result = fill(0, 1, 10)\n",
      "for i in 1:10000\n",
      "    counter = 0\n",
      "    for j in 1:10\n",
      "        if coin() == 't'\n",
      "            counter += 1\n",
      "        end\n",
      "    end\n",
      "    result[counter+1]+=1 #julia arrays index start at 1 not at 0\n",
      "end\n",
      "result"
     ],
     "language": "python",
     "metadata": {},
     "outputs": [
      {
       "metadata": {},
       "output_type": "pyout",
       "prompt_number": 189,
       "text": [
        "1x10 Array{Int64,2}:\n",
        " 1038  2750  2930  2106  878  240  50  7  1  0"
       ]
      }
     ],
     "prompt_number": 189
    },
    {
     "cell_type": "code",
     "collapsed": false,
     "input": [],
     "language": "python",
     "metadata": {},
     "outputs": [
      {
       "output_type": "stream",
       "stream": "stdout",
       "text": [
        "hello\n"
       ]
      },
      {
       "output_type": "stream",
       "stream": "stdout",
       "text": [
        "hello\n",
        "hello\n",
        "hello\n",
        "hello\n",
        "hello\n",
        "hello\n",
        "hello\n",
        "hello\n",
        "hello\n"
       ]
      }
     ],
     "prompt_number": 171
    },
    {
     "cell_type": "code",
     "collapsed": false,
     "input": [],
     "language": "python",
     "metadata": {},
     "outputs": [
      {
       "ename": "LoadError",
       "evalue": "j not defined\nwhile loading In[181], in expression starting on line 1",
       "output_type": "pyerr",
       "traceback": [
        "j not defined\nwhile loading In[181], in expression starting on line 1",
        ""
       ]
      }
     ],
     "prompt_number": 181
    },
    {
     "cell_type": "code",
     "collapsed": false,
     "input": [],
     "language": "python",
     "metadata": {},
     "outputs": []
    }
   ],
   "metadata": {}
  }
 ]
}