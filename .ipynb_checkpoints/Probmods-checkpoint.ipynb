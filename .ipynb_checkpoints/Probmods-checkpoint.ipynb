{
 "metadata": {
  "language": "Julia",
  "name": ""
 },
 "nbformat": 3,
 "nbformat_minor": 0,
 "worksheets": [
  {
   "cells": [
    {
     "cell_type": "code",
     "collapsed": false,
     "input": [
      "flip = () -> (rand() < 0.5)"
     ],
     "language": "python",
     "metadata": {},
     "outputs": [
      {
       "metadata": {},
       "output_type": "pyout",
       "prompt_number": 5,
       "text": [
        "(anonymous function)"
       ]
      }
     ],
     "prompt_number": 5
    },
    {
     "cell_type": "code",
     "collapsed": false,
     "input": [
      "counter = 0\n",
      "for i in 1:1000\n",
      "    if flip() == true \n",
      "        counter+= 1 \n",
      "    end\n",
      "        \n",
      "end    \n",
      "counter\n"
     ],
     "language": "python",
     "metadata": {},
     "outputs": [
      {
       "metadata": {},
       "output_type": "pyout",
       "prompt_number": 6,
       "text": [
        "495"
       ]
      }
     ],
     "prompt_number": 6
    },
    {
     "cell_type": "markdown",
     "metadata": {},
     "source": [
      "(* (gaussian 0 1) (gaussian 0 1) )\n"
     ]
    },
    {
     "cell_type": "code",
     "collapsed": false,
     "input": [
      "using Distributions\n",
      "d = Normal(0,1)\n",
      "e = Normal(0,1)\n",
      "rand(d)*rand(e)"
     ],
     "language": "python",
     "metadata": {},
     "outputs": [
      {
       "metadata": {},
       "output_type": "pyout",
       "prompt_number": 4,
       "text": [
        "-0.812733152843195"
       ]
      }
     ],
     "prompt_number": 4
    },
    {
     "cell_type": "markdown",
     "metadata": {},
     "source": [
      "(define two-gaussians (lambda () (* (gaussian 0 1) (gaussian 0 1) )))\n",
      "\n",
      "\n",
      "(density (repeat 100 two-gaussians))"
     ]
    },
    {
     "cell_type": "code",
     "collapsed": false,
     "input": [
      "two_gaussians =()-> (rand(Normal(0,1)) * rand(Normal(0,1)))\n",
      "two_gaussians()\n",
      "#idea1 : rand(two-gaussians, 100) type error\n",
      "#idea 2: for 1: 100 Problem it is not possible to round floats properly"
     ],
     "language": "python",
     "metadata": {},
     "outputs": [
      {
       "metadata": {},
       "output_type": "pyout",
       "prompt_number": 8,
       "text": [
        "-0.2512655966089716"
       ]
      }
     ],
     "prompt_number": 8
    },
    {
     "cell_type": "markdown",
     "metadata": {},
     "source": [
      "(define noisy-double (lambda (x) (if (flip) x (+ x x))))    # will probably double the input"
     ]
    },
    {
     "cell_type": "code",
     "collapsed": false,
     "input": [
      "function noisy_double(x)\n",
      "    if (flip ()) \n",
      "        return x\n",
      "    else \n",
      "        return x+x\n",
      "    end\n",
      "end"
     ],
     "language": "python",
     "metadata": {},
     "outputs": [
      {
       "metadata": {},
       "output_type": "pyout",
       "prompt_number": 9,
       "text": [
        "noisy_double (generic function with 1 method)"
       ]
      }
     ],
     "prompt_number": 9
    },
    {
     "cell_type": "code",
     "collapsed": false,
     "input": [
      "noisy_double(5)"
     ],
     "language": "python",
     "metadata": {},
     "outputs": [
      {
       "metadata": {},
       "output_type": "pyout",
       "prompt_number": 66,
       "text": [
        "5"
       ]
      }
     ],
     "prompt_number": 66
    },
    {
     "cell_type": "markdown",
     "metadata": {},
     "source": [
      "(define fair-coin (lambda () (if (flip 0.5) 'h 't))) ;the thunk is a fair coin\n",
      "\n",
      "(hist (repeat 20 fair-coin) \"fair coin\")"
     ]
    },
    {
     "cell_type": "code",
     "collapsed": false,
     "input": [
      "function fair_coin() \n",
      "    if (0.5 < rand())\n",
      "        return 't'\n",
      "    else\n",
      "        return 'f'\n",
      "    end\n",
      "end"
     ],
     "language": "python",
     "metadata": {},
     "outputs": [
      {
       "metadata": {},
       "output_type": "pyout",
       "prompt_number": 87,
       "text": [
        "fair_coin (generic function with 1 method)"
       ]
      }
     ],
     "prompt_number": 87
    },
    {
     "cell_type": "markdown",
     "metadata": {},
     "source": [
      "(define trick-coin (lambda () (if (flip 0.95) 'h 't)))\n",
      "\n",
      "(hist (repeat 20 trick-coin) \"trick coin\")"
     ]
    },
    {
     "cell_type": "code",
     "collapsed": false,
     "input": [
      "function trick_coin() \n",
      "    if (0.05 < rand())\n",
      "        return 't'\n",
      "    else\n",
      "        return 'f'\n",
      "    end\n",
      "end"
     ],
     "language": "python",
     "metadata": {},
     "outputs": [
      {
       "metadata": {},
       "output_type": "pyout",
       "prompt_number": 108,
       "text": [
        "trick_coin (generic function with 1 method)"
       ]
      }
     ],
     "prompt_number": 108
    },
    {
     "cell_type": "markdown",
     "metadata": {},
     "source": [
      "(define (make-coin weight) (lambda () (if (flip weight) 'h 't)))"
     ]
    },
    {
     "cell_type": "code",
     "collapsed": false,
     "input": [
      "function make_coin(weight)\n",
      "    newfunction = (function()\n",
      "        if (weight > rand()) \n",
      "            return 't'\n",
      "        else\n",
      "            return 'f'\n",
      "        end\n",
      "    end\n",
      "        )\n",
      "end"
     ],
     "language": "python",
     "metadata": {},
     "outputs": [
      {
       "metadata": {},
       "output_type": "pyout",
       "prompt_number": 12,
       "text": [
        "make_coin (generic function with 1 method)"
       ]
      }
     ],
     "prompt_number": 12
    },
    {
     "cell_type": "markdown",
     "metadata": {},
     "source": [
      "(define (bend coin)\n",
      "  (lambda () (if (equal? (coin) 'h)\n",
      "                 ( (make-coin 0.7) )\n",
      "                 ( (make-coin 0.1) ) )))"
     ]
    },
    {
     "cell_type": "code",
     "collapsed": false,
     "input": [],
     "language": "python",
     "metadata": {},
     "outputs": [],
     "prompt_number": 131
    },
    {
     "cell_type": "markdown",
     "metadata": {},
     "source": [
      "(define make-coin (lambda (weight) (lambda () (flip weight))))\n",
      "\n",
      "(define coin (make-coin 0.8))\n",
      "\n",
      "(define data (repeat 1000 (lambda () (sum (map (lambda (x) (if x 1 0)) (repeat 10 coin))))))\n"
     ]
    },
    {
     "cell_type": "code",
     "collapsed": false,
     "input": [
      "coin = make_coin(0.8)\n",
      "result = fill(0, 1, 10)\n",
      "for i in 1:10000\n",
      "    counter = 0\n",
      "    for j in 1:10\n",
      "        if coin() == 't'\n",
      "            counter += 1\n",
      "        end\n",
      "    end\n",
      "    result[counter+1]+=1 #julia arrays index start at 1 not at 0\n",
      "end\n",
      "result"
     ],
     "language": "python",
     "metadata": {},
     "outputs": [
      {
       "metadata": {},
       "output_type": "pyout",
       "prompt_number": 189,
       "text": [
        "1x10 Array{Int64,2}:\n",
        " 1038  2750  2930  2106  878  240  50  7  1  0"
       ]
      }
     ],
     "prompt_number": 189
    },
    {
     "cell_type": "markdown",
     "metadata": {},
     "source": [
      "(define lung-cancer (flip 0.01))\n",
      "\n",
      "(define cold (flip 0.2))\n",
      "\n",
      "(define cough (or cold lung-cancer))\n",
      "\n",
      "cough\n"
     ]
    },
    {
     "cell_type": "code",
     "collapsed": false,
     "input": [
      "function flip_w(weight = 0.5)   #introducing new flip function\n",
      "    newfunction = (function()\n",
      "        if (weight > rand()) \n",
      "            return true\n",
      "        else\n",
      "            return false\n",
      "        end\n",
      "    end\n",
      "        )\n",
      "end\n"
     ],
     "language": "python",
     "metadata": {},
     "outputs": [
      {
       "metadata": {},
       "output_type": "pyout",
       "prompt_number": 10,
       "text": [
        "flip_w (generic function with 2 methods)"
       ]
      }
     ],
     "prompt_number": 10
    },
    {
     "cell_type": "code",
     "collapsed": false,
     "input": [
      "lung_cancer = flip_w(0.01)\n",
      "cold = flip_w(0.2)\n",
      "\n",
      "cough = ()-> (lung_cancer() || cold())"
     ],
     "language": "python",
     "metadata": {},
     "outputs": [
      {
       "metadata": {},
       "output_type": "pyout",
       "prompt_number": 11,
       "text": [
        "(anonymous function)"
       ]
      }
     ],
     "prompt_number": 11
    },
    {
     "cell_type": "markdown",
     "metadata": {},
     "source": [
      "## Here is a more complex version of this causal model:\n"
     ]
    },
    {
     "cell_type": "code",
     "collapsed": false,
     "input": [
      "#lung cancer and cold are defindes a cell above\n",
      "TB = flip_w(0.005)\n",
      "stomach_flu= flip_w(0.1)\n",
      "other = flip_w(0.1)\n",
      "\n",
      "#(define cough\n",
      " # (or (and cold (flip 0.5))\n",
      "  #    (and lung-cancer (flip 0.3))\n",
      "   #   (and TB (flip 0.7))\n",
      "    #  (and other (flip 0.01))))\n",
      "\n",
      "cough_ = ()-> (\n",
      "(cold() && (rand() < 0.5)) ||\n",
      "(lung_cancer() && (rand() < 0.3)) ||\n",
      "(TB() && (rand() < 0.7)) ||\n",
      "(other() && (rand() < 0.01))\n",
      ")\n",
      "\n",
      "#(define fever\n",
      " # (or (and cold (flip 0.3))\n",
      "  #    (and stomach-flu (flip 0.5))\n",
      "   #   (and TB (flip 0.1))\n",
      "    #  (and other (flip 0.01))))\n",
      "\n",
      "fever = () -> (\n",
      "(cold() && (rand() < 0.3)) ||\n",
      "(stomach_flu() && (rand() < 0.5)) ||\n",
      "(TB() && (rand() < 0.1)) ||\n",
      "(other() && (rand() < 0.01))\n",
      ")\n",
      "\n",
      "#(define chest-pain\n",
      " # (or (and lung-cancer (flip 0.5))\n",
      "  #    (and TB (flip 0.5))\n",
      "   #   (and other (flip 0.01))))\n",
      "\n",
      "chest_pain = () -> (\n",
      "(lung_cancer() && (rand() < 0.5)) ||\n",
      "(TB() && (rand() < 0.5)) ||\n",
      "(other() && (rand() < 0.01))\n",
      ")\n",
      "\n",
      "#(define shortness-of-breath\n",
      " # (or (and lung-cancer (flip 0.5))\n",
      "  #    (and TB (flip 0.2))\n",
      "   #   (and other (flip 0.01))))\n",
      "\n",
      "shortness_of_breath = () -> (\n",
      "(lung_cancer() && (rand() < 0.5)) ||\n",
      "(TB() && (rand() < 0.2)) ||\n",
      "(other() && (rand() < 0.01))\n",
      ")\n",
      "\n",
      "{\"cough\" cough() \"fever\" fever() \"chest pain\" chest_pain() \"shortness of breath\" shortness_of_breath()}"
     ],
     "language": "python",
     "metadata": {},
     "outputs": [
      {
       "metadata": {},
       "output_type": "pyout",
       "prompt_number": 13,
       "text": [
        "1x8 Array{Any,2}:\n",
        " \"cough\"  true  \"fever\"  false  \u2026  false  \"shortness of breath\"  false"
       ]
      }
     ],
     "prompt_number": 13
    },
    {
     "cell_type": "markdown",
     "metadata": {},
     "source": [
      "(define (random-pair) (list (flip) (flip)))\n",
      "\n",
      "(hist (repeat 1000 random-pair) \"return values\")"
     ]
    },
    {
     "cell_type": "code",
     "collapsed": false,
     "input": [
      "using Match #match is pretty cool and got ranges which makes it even better than haskell\n",
      "\n",
      "random_pair= ()-> {flip() flip()}\n",
      "\n",
      "tt = 0\n",
      "tf = 0\n",
      "ft = 0\n",
      "ff = 0\n",
      "\n",
      "for i in 1 : 1000\n",
      "    check = random_pair()\n",
      "    @match check begin\n",
      "        {true true} => tt +=1\n",
      "        {true false} => tf +=1\n",
      "        {false true} => ft +=1\n",
      "        {false false} => ff +=1 \n",
      "    end    \n",
      "end\n",
      "\n",
      "{tt tf ft ff}"
     ],
     "language": "python",
     "metadata": {},
     "outputs": [
      {
       "metadata": {},
       "output_type": "pyout",
       "prompt_number": 14,
       "text": [
        "1x4 Array{Any,2}:\n",
        " 254  236  235  275"
       ]
      }
     ],
     "prompt_number": 14
    },
    {
     "cell_type": "markdown",
     "metadata": {},
     "source": [
      "##Product Rule"
     ]
    },
    {
     "cell_type": "code",
     "collapsed": false,
     "input": [
      "A = flip()\n",
      "B = if (A) flip_w(0.3) else flip_w(0.7) end ##pretty cool expression\n",
      "{A B()} ## not correct. the flip_w needs to be called directly\n"
     ],
     "language": "python",
     "metadata": {},
     "outputs": [
      {
       "metadata": {},
       "output_type": "pyout",
       "prompt_number": 99,
       "text": [
        "1x2 Array{Any,2}:\n",
        " true  false"
       ]
      }
     ],
     "prompt_number": 99
    },
    {
     "cell_type": "markdown",
     "metadata": {},
     "source": [
      "##Stochastic recursion"
     ]
    },
    {
     "cell_type": "code",
     "collapsed": false,
     "input": [
      "function geometric(g)\n",
      "    if (g > rand())\n",
      "        return 0\n",
      "    else\n",
      "        return 1 + geometric(g)\n",
      "    end\n",
      "end"
     ],
     "language": "python",
     "metadata": {},
     "outputs": [
      {
       "metadata": {},
       "output_type": "pyout",
       "prompt_number": 4,
       "text": [
        "geometric (generic function with 1 method)"
       ]
      }
     ],
     "prompt_number": 4
    },
    {
     "cell_type": "code",
     "collapsed": false,
     "input": [
      "{geometric(0.1) geometric(0.3) geometric(0.5) geometric(0.7) geometric(0.9)}"
     ],
     "language": "python",
     "metadata": {},
     "outputs": [
      {
       "metadata": {},
       "output_type": "pyout",
       "prompt_number": 36,
       "text": [
        "1x5 Array{Any,2}:\n",
        " 1  1  2  0  0"
       ]
      }
     ],
     "prompt_number": 36
    },
    {
     "cell_type": "markdown",
     "metadata": {},
     "source": [
      "##Persistent Randomness"
     ]
    },
    {
     "cell_type": "code",
     "collapsed": false,
     "input": [
      "function uniform_draw(array)\n",
      "    length = size(array,2)\n",
      "    return array[trunc((rand())*length)+1]\n",
      "end\n"
     ],
     "language": "python",
     "metadata": {},
     "outputs": [
      {
       "metadata": {},
       "output_type": "pyout",
       "prompt_number": 16,
       "text": [
        "uniform_draw (generic function with 1 method)"
       ]
      }
     ],
     "prompt_number": 16
    },
    {
     "cell_type": "code",
     "collapsed": false,
     "input": [
      "for i in 1:10\n",
      "    println(uniform_draw({\"brown\" \"green\" \"yellow\"}))\n",
      "end"
     ],
     "language": "python",
     "metadata": {},
     "outputs": [
      {
       "output_type": "stream",
       "stream": "stdout",
       "text": [
        "green\n"
       ]
      },
      {
       "output_type": "stream",
       "stream": "stdout",
       "text": [
        "brown\n",
        "green\n",
        "brown\n",
        "yellow\n",
        "brown\n",
        "brown\n",
        "green\n",
        "yellow\n",
        "yellow\n"
       ]
      }
     ],
     "prompt_number": 17
    },
    {
     "cell_type": "markdown",
     "metadata": {},
     "source": [
      "(define mem-flip (mem flip))\n",
      "\n",
      "(equal? (mem-flip) (mem-flip))"
     ]
    },
    {
     "cell_type": "code",
     "collapsed": false,
     "input": [
      "mem_flip= flip()\n",
      "mem_flip\n"
     ],
     "language": "python",
     "metadata": {},
     "outputs": [
      {
       "metadata": {},
       "output_type": "pyout",
       "prompt_number": 18,
       "text": [
        "false"
       ]
      }
     ],
     "prompt_number": 18
    },
    {
     "cell_type": "markdown",
     "metadata": {},
     "source": [
      "(define eye-color\n",
      "  (mem (lambda (person) (uniform-draw '(blue green brown)))))\n",
      "\n",
      "(list\n",
      " (eye-color 'bob)\n",
      " (eye-color 'alice)\n",
      " (eye-color 'bob) )"
     ]
    },
    {
     "cell_type": "code",
     "collapsed": false,
     "input": [
      "function eye_color()\n",
      "    return uniform_draw({\"brown\" \"green\" \"blue\"}) \n",
      "end\n",
      "bob = eye_color()\n",
      "bob\n",
      "\n",
      "#Maybe not exactly what church made"
     ],
     "language": "python",
     "metadata": {},
     "outputs": [
      {
       "metadata": {},
       "output_type": "pyout",
       "prompt_number": 153,
       "text": [
        "eye_color (generic function with 1 method)"
       ]
      }
     ],
     "prompt_number": 153
    },
    {
     "cell_type": "markdown",
     "metadata": {},
     "source": [
      "(define flip-n (mem (lambda (n) (flip))))\n",
      "\n",
      "(list (list (flip-n 1) (flip-n 12) (flip-n 47) (flip-n 1548))\n",
      "\n",
      "      (list (flip-n 1) (flip-n 12) (flip-n 47) (flip-n 1548)))"
     ]
    },
    {
     "cell_type": "markdown",
     "metadata": {},
     "source": [
      "##Bayesian Tug of War"
     ]
    },
    {
     "cell_type": "markdown",
     "metadata": {},
     "source": [
      "(define strength (mem (lambda (person) (gaussian 0 1))))\n",
      "\n",
      "(define lazy (lambda (person) (flip 0.25)))\n",
      "\n",
      "(define (pulling person)\n",
      "\n",
      "  (if (lazy person) (/ (strength person) 2) (strength person)))\n",
      "\n",
      "(define (total-pulling team)\n",
      "\n",
      "  (sum (map pulling team)))\n",
      "\n",
      "(define (winner team1 team2) (if (< (total-pulling team1) (total-pulling team2)) team2 team1))"
     ]
    },
    {
     "cell_type": "code",
     "collapsed": false,
     "input": [
      "\n",
      "strength() =rand(Normal(0,1)) #returns a concrete value\n",
      "lazy =flip_w(0.25)\n",
      "function pulling(person) #persons have strength, but no other propertys\n",
      "    if (lazy()) \n",
      "        return person / 2\n",
      "    else\n",
      "        return person\n",
      "    end\n",
      "end\n",
      "    \n",
      "function total_pulling(team)\n",
      "        return sum (map(pulling, team))\n",
      "end\n",
      "\n",
      "function winner (team1, team2)\n",
      "    if (total_pulling(team1) < total_pulling(team2))\n",
      "        return team2\n",
      "    else\n",
      "        return team1\n",
      "    end\n",
      "end"
     ],
     "language": "python",
     "metadata": {},
     "outputs": [
      {
       "metadata": {},
       "output_type": "pyout",
       "prompt_number": 31,
       "text": [
        "winner (generic function with 1 method)"
       ]
      }
     ],
     "prompt_number": 31
    },
    {
     "cell_type": "code",
     "collapsed": false,
     "input": [
      "bob = strength()\n",
      "sue= strength()\n",
      "timmy= strength()\n",
      "mike = strength()\n",
      "winner({sue,bob}, {timmy, mike})  #returns doubles, object orientation might work, create a function that always returns the same value"
     ],
     "language": "python",
     "metadata": {},
     "outputs": [
      {
       "metadata": {},
       "output_type": "pyout",
       "prompt_number": 34,
       "text": [
        "2-element Array{Any,1}:\n",
        " 0.243826\n",
        " 0.217499"
       ]
      }
     ],
     "prompt_number": 34
    },
    {
     "cell_type": "markdown",
     "metadata": {},
     "source": [
      "##Intuitive physics"
     ]
    },
    {
     "cell_type": "code",
     "collapsed": false,
     "input": [
      "## return a uniform random sample from the interval (a, b)\n",
      "function rand_uniform(a, b)\n",
      "    a + rand()*(b - a)\n",
      "end\n",
      "\n",
      "##http://www.johndcook.com/julia_rng.html\n",
      "## needs to be checked for correctness"
     ],
     "language": "python",
     "metadata": {},
     "outputs": [
      {
       "metadata": {},
       "output_type": "pyout",
       "prompt_number": 35,
       "text": [
        "rand_uniform (generic function with 1 method)"
       ]
      }
     ],
     "prompt_number": 35
    },
    {
     "cell_type": "markdown",
     "metadata": {},
     "source": [
      "#Conditioning"
     ]
    },
    {
     "cell_type": "markdown",
     "metadata": {},
     "source": [
      "##Hypothetical Reasoning with query"
     ]
    },
    {
     "cell_type": "raw",
     "metadata": {},
     "source": [
      "(define (take-sample)\n",
      "  (rejection-query\n",
      "\n",
      "   (define A (if (flip) 1 0))\n",
      "   (define B (if (flip) 1 0))\n",
      "   (define C (if (flip) 1 0))\n",
      "   (define D (+ A B C))\n",
      "\n",
      "   A\n",
      "\n",
      "   (condition (equal? D 3))))\n",
      "\n",
      "(hist (repeat 100 take-sample) \"Value of A, given that D is 3\")"
     ]
    },
    {
     "cell_type": "code",
     "collapsed": false,
     "input": [
      "counter = 0\n",
      "for i in 1 : 100\n",
      "a = if (flip()) 1 else 0 end\n",
      "b = if (flip()) 1 else 0 end\n",
      "c = if (flip()) 1 else 0 end\n",
      "d = a + b + c\n",
      "\n",
      "if (d == 3) \n",
      "        if (a == 1)\n",
      "            counter +=1\n",
      "        end\n",
      "    end\n",
      "end\n",
      "counter"
     ],
     "language": "python",
     "metadata": {},
     "outputs": [
      {
       "metadata": {},
       "output_type": "pyout",
       "prompt_number": 46,
       "text": [
        "11"
       ]
      }
     ],
     "prompt_number": 46
    },
    {
     "cell_type": "raw",
     "metadata": {},
     "source": [
      "(define (take-sample)\n",
      "  (rejection-query\n",
      "\n",
      "   (define A (if (flip) 1 0))\n",
      "   (define B (if (flip) 1 0))\n",
      "   (define C (if (flip) 1 0))\n",
      "   (define D (+ A B C))\n",
      "\n",
      "   A\n",
      "\n",
      "   (condition (>= D 2))))\n",
      "\n",
      "(hist (repeat 100 take-sample) \"Value of A, given that D is greater than or equal to 2\")"
     ]
    },
    {
     "cell_type": "code",
     "collapsed": false,
     "input": [
      "counter = 0\n",
      "for i in 1 : 100\n",
      "    a = if (flip()) 1 else 0 end\n",
      "    b = if (flip()) 1 else 0 end\n",
      "    c = if (flip()) 1 else 0 end\n",
      "    d = a + b + c\n",
      " \n",
      "    if (d >= 2)\n",
      "            counter +=1\n",
      "    end\n",
      "end\n",
      "counter/ 100"
     ],
     "language": "python",
     "metadata": {},
     "outputs": [
      {
       "metadata": {},
       "output_type": "pyout",
       "prompt_number": 52,
       "text": [
        "0.5"
       ]
      }
     ],
     "prompt_number": 52
    },
    {
     "cell_type": "markdown",
     "metadata": {},
     "source": [
      "##Rejection Sampling"
     ]
    },
    {
     "cell_type": "raw",
     "metadata": {},
     "source": [
      "(define (take-sample)\n",
      "   (define A (if (flip) 1 0))\n",
      "   (define B (if (flip) 1 0))\n",
      "   (define C (if (flip) 1 0))\n",
      "   (define D (+ A B C))\n",
      "   (if (>= D 2) A (take-sample)))\n",
      "\n",
      "(hist (repeat 100 take-sample) \"Value of A, given that D is greater than or equal to 2\")"
     ]
    },
    {
     "cell_type": "code",
     "collapsed": false,
     "input": [
      "function take_sample()\n",
      "    a = if (flip()) 1 else 0 end\n",
      "    b = if (flip()) 1 else 0 end\n",
      "    c = if (flip()) 1 else 0 end\n",
      "    d = a + b + c\n",
      "    if (d >= 2) return a\n",
      "        else take_sample()   \n",
      "    end\n",
      "end\n",
      "counter = 0\n",
      "for i in 1:100\n",
      "    if (take_sample() == 1) counter +=1 end\n",
      "end\n",
      "\n",
      "    counter"
     ],
     "language": "python",
     "metadata": {},
     "outputs": [
      {
       "metadata": {},
       "output_type": "pyout",
       "prompt_number": 60,
       "text": [
        "70"
       ]
      }
     ],
     "prompt_number": 60
    },
    {
     "cell_type": "markdown",
     "metadata": {},
     "source": [
      "##Bayes Rule"
     ]
    },
    {
     "cell_type": "raw",
     "metadata": {},
     "source": [
      "(define observed-data true)\n",
      "\n",
      "(define (prior) (flip))\n",
      "\n",
      "(define (observe h) (if h (flip 0.9) (flip 0.1)))\n",
      "\n",
      "(rejection-query\n",
      "\n",
      " (define hypothesis (prior))\n",
      " (define data (observe hypothesis))\n",
      "\n",
      " hypothesis\n",
      "\n",
      " (equal? data observed-data))"
     ]
    },
    {
     "cell_type": "code",
     "collapsed": false,
     "input": [
      "prior = flip()\n",
      "function observe(h)\n",
      "    if (h) return (rand() <0.9) else return (rand() < 0.1) end\n",
      "end\n",
      "\n",
      "function bayes_rule()\n",
      "    hypothesis = prior\n",
      "    data = observe(hypothesis)\n",
      "    if (data == true) hypothesis else bayes_rule() end\n",
      "end\n",
      "##the query might be implemented as one function with three arguments model, what we want to know, what we know\n",
      "##eval might help"
     ],
     "language": "python",
     "metadata": {},
     "outputs": [
      {
       "metadata": {},
       "output_type": "pyout",
       "prompt_number": 72,
       "text": [
        "bayes_rule (generic function with 1 method)"
       ]
      }
     ],
     "prompt_number": 72
    },
    {
     "cell_type": "markdown",
     "metadata": {},
     "source": [
      "##Implementations of query"
     ]
    },
    {
     "cell_type": "code",
     "collapsed": false,
     "input": [],
     "language": "python",
     "metadata": {},
     "outputs": []
    }
   ],
   "metadata": {}
  }
 ]
}