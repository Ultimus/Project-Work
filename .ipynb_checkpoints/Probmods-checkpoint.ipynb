{
 "metadata": {
  "language": "Julia",
  "name": ""
 },
 "nbformat": 3,
 "nbformat_minor": 0,
 "worksheets": [
  {
   "cells": [
    {
     "cell_type": "code",
     "collapsed": false,
     "input": [
      "flip = () -> (rand() < 0.5)"
     ],
     "language": "python",
     "metadata": {},
     "outputs": [
      {
       "metadata": {},
       "output_type": "pyout",
       "prompt_number": 2,
       "text": [
        "true"
       ]
      }
     ],
     "prompt_number": 2
    },
    {
     "cell_type": "code",
     "collapsed": false,
     "input": [
      "counter = 0\n",
      "for i in 1:1000\n",
      "    if flip() == true \n",
      "        counter+= 1 \n",
      "    end\n",
      "        \n",
      "end    \n",
      "counter\n"
     ],
     "language": "python",
     "metadata": {},
     "outputs": [
      {
       "metadata": {},
       "output_type": "pyout",
       "prompt_number": 145,
       "text": [
        "466"
       ]
      }
     ],
     "prompt_number": 145
    },
    {
     "cell_type": "markdown",
     "metadata": {},
     "source": [
      "(* (gaussian 0 1) (gaussian 0 1) )\n"
     ]
    },
    {
     "cell_type": "code",
     "collapsed": false,
     "input": [
      "using Distributions\n",
      "d = Normal(0,1)\n",
      "e = Normal(0,1)\n",
      "rand(d)*rand(e)"
     ],
     "language": "python",
     "metadata": {},
     "outputs": [
      {
       "metadata": {},
       "output_type": "pyout",
       "prompt_number": 43,
       "text": [
        "Normal (constructor with 3 methods)"
       ]
      }
     ],
     "prompt_number": 43
    },
    {
     "cell_type": "markdown",
     "metadata": {},
     "source": [
      "(define two-gaussians (lambda () (* (gaussian 0 1) (gaussian 0 1) )))\n",
      "\n",
      "\n",
      "(density (repeat 100 two-gaussians))"
     ]
    },
    {
     "cell_type": "code",
     "collapsed": false,
     "input": [
      "two_gaussians =()-> (rand(Normal(0,1)) * rand(Normal(0,1)))\n",
      "two_gaussians()\n",
      "#idea1 : rand(two-gaussians, 100) type error\n",
      "#idea 2: for 1: 100 Problem it is not possible to round floats properly"
     ],
     "language": "python",
     "metadata": {},
     "outputs": [
      {
       "metadata": {},
       "output_type": "pyout",
       "prompt_number": 49,
       "text": [
        "-0.8135454877887618"
       ]
      }
     ],
     "prompt_number": 49
    },
    {
     "cell_type": "markdown",
     "metadata": {},
     "source": [
      "(define noisy-double (lambda (x) (if (flip) x (+ x x))))    # will probably double the input"
     ]
    },
    {
     "cell_type": "code",
     "collapsed": false,
     "input": [
      "function noisy_double(x)\n",
      "    if (flip ()) \n",
      "        return x\n",
      "    else \n",
      "        return x+x\n",
      "    end\n",
      "end"
     ],
     "language": "python",
     "metadata": {},
     "outputs": [
      {
       "metadata": {},
       "output_type": "pyout",
       "prompt_number": 60,
       "text": [
        "noisy_double (generic function with 1 method)"
       ]
      }
     ],
     "prompt_number": 60
    },
    {
     "cell_type": "code",
     "collapsed": false,
     "input": [
      "noisy_double(5)"
     ],
     "language": "python",
     "metadata": {},
     "outputs": [
      {
       "metadata": {},
       "output_type": "pyout",
       "prompt_number": 66,
       "text": [
        "5"
       ]
      }
     ],
     "prompt_number": 66
    },
    {
     "cell_type": "markdown",
     "metadata": {},
     "source": [
      "(define fair-coin (lambda () (if (flip 0.5) 'h 't))) ;the thunk is a fair coin\n",
      "\n",
      "(hist (repeat 20 fair-coin) \"fair coin\")"
     ]
    },
    {
     "cell_type": "code",
     "collapsed": false,
     "input": [
      "function fair_coin() \n",
      "    if (0.5 < rand())\n",
      "        return 't'\n",
      "    else\n",
      "        return 'f'\n",
      "    end\n",
      "end"
     ],
     "language": "python",
     "metadata": {},
     "outputs": [
      {
       "metadata": {},
       "output_type": "pyout",
       "prompt_number": 87,
       "text": [
        "fair_coin (generic function with 1 method)"
       ]
      }
     ],
     "prompt_number": 87
    },
    {
     "cell_type": "markdown",
     "metadata": {},
     "source": [
      "(define trick-coin (lambda () (if (flip 0.95) 'h 't)))\n",
      "\n",
      "(hist (repeat 20 trick-coin) \"trick coin\")"
     ]
    },
    {
     "cell_type": "code",
     "collapsed": false,
     "input": [
      "function trick_coin() \n",
      "    if (0.05 < rand())\n",
      "        return 't'\n",
      "    else\n",
      "        return 'f'\n",
      "    end\n",
      "end"
     ],
     "language": "python",
     "metadata": {},
     "outputs": [
      {
       "metadata": {},
       "output_type": "pyout",
       "prompt_number": 108,
       "text": [
        "trick_coin (generic function with 1 method)"
       ]
      }
     ],
     "prompt_number": 108
    },
    {
     "cell_type": "markdown",
     "metadata": {},
     "source": [
      "(define (make-coin weight) (lambda () (if (flip weight) 'h 't)))"
     ]
    },
    {
     "cell_type": "code",
     "collapsed": false,
     "input": [
      "function make_coin(weight)\n",
      "    newfunction = (function()\n",
      "        if (weight > rand()) \n",
      "            return 't'\n",
      "        else\n",
      "            return 'f'\n",
      "        end\n",
      "    end\n",
      "        )\n",
      "end"
     ],
     "language": "python",
     "metadata": {},
     "outputs": [
      {
       "metadata": {},
       "output_type": "pyout",
       "prompt_number": 12,
       "text": [
        "make_coin (generic function with 1 method)"
       ]
      }
     ],
     "prompt_number": 12
    },
    {
     "cell_type": "markdown",
     "metadata": {},
     "source": [
      "(define (bend coin)\n",
      "  (lambda () (if (equal? (coin) 'h)\n",
      "                 ( (make-coin 0.7) )\n",
      "                 ( (make-coin 0.1) ) )))"
     ]
    },
    {
     "cell_type": "code",
     "collapsed": false,
     "input": [],
     "language": "python",
     "metadata": {},
     "outputs": [],
     "prompt_number": 131
    },
    {
     "cell_type": "markdown",
     "metadata": {},
     "source": [
      "(define make-coin (lambda (weight) (lambda () (flip weight))))\n",
      "\n",
      "(define coin (make-coin 0.8))\n",
      "\n",
      "(define data (repeat 1000 (lambda () (sum (map (lambda (x) (if x 1 0)) (repeat 10 coin))))))\n"
     ]
    },
    {
     "cell_type": "code",
     "collapsed": false,
     "input": [
      "coin = make_coin(0.8)\n",
      "result = fill(0, 1, 10)\n",
      "for i in 1:10000\n",
      "    counter = 0\n",
      "    for j in 1:10\n",
      "        if coin() == 't'\n",
      "            counter += 1\n",
      "        end\n",
      "    end\n",
      "    result[counter+1]+=1 #julia arrays index start at 1 not at 0\n",
      "end\n",
      "result"
     ],
     "language": "python",
     "metadata": {},
     "outputs": [
      {
       "metadata": {},
       "output_type": "pyout",
       "prompt_number": 189,
       "text": [
        "1x10 Array{Int64,2}:\n",
        " 1038  2750  2930  2106  878  240  50  7  1  0"
       ]
      }
     ],
     "prompt_number": 189
    },
    {
     "cell_type": "markdown",
     "metadata": {},
     "source": [
      "(define lung-cancer (flip 0.01))\n",
      "\n",
      "(define cold (flip 0.2))\n",
      "\n",
      "(define cough (or cold lung-cancer))\n",
      "\n",
      "cough\n"
     ]
    },
    {
     "cell_type": "code",
     "collapsed": false,
     "input": [
      "function flip_w(weight = 0.5)   #introducing new flip function\n",
      "    newfunction = (function()\n",
      "        if (weight > rand()) \n",
      "            return true\n",
      "        else\n",
      "            return false\n",
      "        end\n",
      "    end\n",
      "        )\n",
      "end\n"
     ],
     "language": "python",
     "metadata": {},
     "outputs": [
      {
       "metadata": {},
       "output_type": "pyout",
       "prompt_number": 101,
       "text": [
        "flip_w (generic function with 2 methods)"
       ]
      }
     ],
     "prompt_number": 101
    },
    {
     "cell_type": "code",
     "collapsed": false,
     "input": [
      "lung_cancer = flip_w(0.01)\n",
      "cold = flip_w(0.2)\n",
      "\n",
      "cough = ()-> (lung_cancer() || cold())"
     ],
     "language": "python",
     "metadata": {},
     "outputs": [
      {
       "metadata": {},
       "output_type": "pyout",
       "prompt_number": 52,
       "text": [
        "(anonymous function)"
       ]
      }
     ],
     "prompt_number": 52
    },
    {
     "cell_type": "markdown",
     "metadata": {},
     "source": [
      "## Here is a more complex version of this causal model:\n"
     ]
    },
    {
     "cell_type": "code",
     "collapsed": false,
     "input": [
      "#lung cancer and cold are defindes a cell above\n",
      "TB = flip_w(0.005)\n",
      "stomach_flu= flip_w(0.1)\n",
      "other = flip_w(0.1)\n",
      "\n",
      "#(define cough\n",
      " # (or (and cold (flip 0.5))\n",
      "  #    (and lung-cancer (flip 0.3))\n",
      "   #   (and TB (flip 0.7))\n",
      "    #  (and other (flip 0.01))))\n",
      "\n",
      "cough_ = ()-> (\n",
      "(cold() && (rand() < 0.5)) ||\n",
      "(lung_cancer() && (rand() < 0.3)) ||\n",
      "(TB() && (rand() < 0.7)) ||\n",
      "(other() && (rand() < 0.01))\n",
      ")\n",
      "\n",
      "#(define fever\n",
      " # (or (and cold (flip 0.3))\n",
      "  #    (and stomach-flu (flip 0.5))\n",
      "   #   (and TB (flip 0.1))\n",
      "    #  (and other (flip 0.01))))\n",
      "\n",
      "fever = () -> (\n",
      "(cold() && (rand() < 0.3)) ||\n",
      "(stomach_flu() && (rand() < 0.5)) ||\n",
      "(TB() && (rand() < 0.1)) ||\n",
      "(other() && (rand() < 0.01))\n",
      ")\n",
      "\n",
      "#(define chest-pain\n",
      " # (or (and lung-cancer (flip 0.5))\n",
      "  #    (and TB (flip 0.5))\n",
      "   #   (and other (flip 0.01))))\n",
      "\n",
      "chest_pain = () -> (\n",
      "(lung_cancer() && (rand() < 0.5)) ||\n",
      "(TB() && (rand() < 0.5)) ||\n",
      "(other() && (rand() < 0.01))\n",
      ")\n",
      "\n",
      "#(define shortness-of-breath\n",
      " # (or (and lung-cancer (flip 0.5))\n",
      "  #    (and TB (flip 0.2))\n",
      "   #   (and other (flip 0.01))))\n",
      "\n",
      "shortness_of_breath = () -> (\n",
      "(lung_cancer() && (rand() < 0.5)) ||\n",
      "(TB() && (rand() < 0.2)) ||\n",
      "(other() && (rand() < 0.01))\n",
      ")\n",
      "\n",
      "{\"cough\" cough() \"fever\" fever() \"chest pain\" chest_pain() \"shortness of breath\" shortness_of_breath()}"
     ],
     "language": "python",
     "metadata": {},
     "outputs": [
      {
       "metadata": {},
       "output_type": "pyout",
       "prompt_number": 70,
       "text": [
        "1x8 Array{Any,2}:\n",
        " \"cough\"  true  \"fever\"  false  \u2026  false  \"shortness of breath\"  false"
       ]
      }
     ],
     "prompt_number": 70
    },
    {
     "cell_type": "markdown",
     "metadata": {},
     "source": [
      "(define (random-pair) (list (flip) (flip)))\n",
      "\n",
      "(hist (repeat 1000 random-pair) \"return values\")"
     ]
    },
    {
     "cell_type": "code",
     "collapsed": false,
     "input": [
      "using Match #match is pretty cool and got ranges which makes it even better than haskell\n",
      "\n",
      "random_pair= ()-> {flip() flip()}\n",
      "\n",
      "tt = 0\n",
      "tf = 0\n",
      "ft = 0\n",
      "ff = 0\n",
      "\n",
      "for i in 1 : 1000\n",
      "    check = random_pair()\n",
      "    @match check begin\n",
      "        {true true} => tt +=1\n",
      "        {true false} => tf +=1\n",
      "        {false true} => ft +=1\n",
      "        {false false} => ff +=1 \n",
      "    end    \n",
      "end\n",
      "\n",
      "{tt tf ft ff}"
     ],
     "language": "python",
     "metadata": {},
     "outputs": [
      {
       "metadata": {},
       "output_type": "pyout",
       "prompt_number": 84,
       "text": [
        "1x4 Array{Any,2}:\n",
        " 246  261  255  238"
       ]
      }
     ],
     "prompt_number": 84
    },
    {
     "cell_type": "markdown",
     "metadata": {},
     "source": [
      "##Product Rule"
     ]
    },
    {
     "cell_type": "code",
     "collapsed": false,
     "input": [
      "A = flip()\n",
      "B = if (A) flip_w(0.3) else flip_w(0.7) end ##pretty cool expression\n",
      "{A B()} ## not correct. the flip_w needs to be called directly\n"
     ],
     "language": "python",
     "metadata": {},
     "outputs": [
      {
       "metadata": {},
       "output_type": "pyout",
       "prompt_number": 99,
       "text": [
        "1x2 Array{Any,2}:\n",
        " true  false"
       ]
      }
     ],
     "prompt_number": 99
    },
    {
     "cell_type": "markdown",
     "metadata": {},
     "source": [
      "##Sum Rule or Marginalization"
     ]
    },
    {
     "cell_type": "code",
     "collapsed": false,
     "input": [],
     "language": "python",
     "metadata": {},
     "outputs": []
    }
   ],
   "metadata": {}
  }
 ]
}