{
 "cells": [
  {
   "cell_type": "markdown",
   "metadata": {},
   "source": [
    "### This file contains several examples from other books and websites implemented with our latest approach\n"
   ]
  },
  {
   "cell_type": "code",
   "execution_count": null,
   "metadata": {
    "collapsed": false
   },
   "outputs": [],
   "source": [
    "using Distributions\n",
    "using Exp002\n",
    "using Gadfly"
   ]
  },
  {
   "cell_type": "markdown",
   "metadata": {},
   "source": [
    "#### Anglican examples:"
   ]
  },
  {
   "cell_type": "markdown",
   "metadata": {},
   "source": [
    "##### Indian GPA Problem"
   ]
  },
  {
   "cell_type": "raw",
   "metadata": {},
   "source": [
    "\n",
    "\n",
    "(defn american-gpa  []\n",
    "  (if (sample (flip 0.95)) \n",
    "    (* 4 (sample (beta 8 2))) \n",
    "    (if (sample (flip 0.85)) \n",
    "       4 \n",
    "       0)))\n",
    "(plot/histogram (repeatedly 10000 american-gpa) :bins 50 :normalize :probability-density)\n",
    "\n"
   ]
  },
  {
   "cell_type": "code",
   "execution_count": null,
   "metadata": {
    "collapsed": false
   },
   "outputs": [],
   "source": [
    "function american_gpa()\n",
    "    a = RV(()-> rand(Bernoulli(0.95)), [])\n",
    "    b = RV(()-> (rand(Beta(8,2))), [])\n",
    "    c = RV(()-> rand(Bernoulli(0.85)), [])\n",
    "    \n",
    "    if sampleRV(a) == 1\n",
    "        return 4 * sampleRV(b)\n",
    "    else \n",
    "        if sampleRV(c) == 1\n",
    "            return 4\n",
    "        else\n",
    "            return 0\n",
    "        end\n",
    "    end \n",
    "end"
   ]
  },
  {
   "cell_type": "code",
   "execution_count": null,
   "metadata": {
    "collapsed": false
   },
   "outputs": [],
   "source": [
    "\n",
    "results = Array(Real, 1000)\n",
    "for i in 1 :1000\n",
    "    results[i] = american_gpa()\n",
    "end\n",
    "h = hist(results,[0:0.1:4])\n",
    "plot(x = h[1], y = [h[2],0])\n",
    "#success"
   ]
  },
  {
   "cell_type": "markdown",
   "metadata": {},
   "source": [
    "![Image Alt](demoImages/anglican1.png)"
   ]
  },
  {
   "cell_type": "raw",
   "metadata": {},
   "source": [
    "(defn indian-gpa [] \n",
    "  (if (sample (flip 0.99)) \n",
    "    (* 10 (sample (beta 5 5))) \n",
    "    (if (sample (flip 0.1))\n",
    "            0 \n",
    "            10)))\n",
    "(plot/histogram (repeatedly 10000 indian-gpa) :bins 50 :normalize :probability-density)"
   ]
  },
  {
   "cell_type": "code",
   "execution_count": null,
   "metadata": {
    "collapsed": false
   },
   "outputs": [],
   "source": [
    "function indian_gpa()\n",
    "    a = RV(()-> rand(Bernoulli(0.99)), [])\n",
    "    b = RV(()-> rand(Beta (5,5)), [])\n",
    "    c = RV(()-> rand(Bernoulli(0.1)), [])\n",
    "    if sampleRV(a) == 1\n",
    "        return 10* sampleRV(b)\n",
    "    else\n",
    "        if sampleRV(c) == 1\n",
    "            return 0\n",
    "        else \n",
    "            return 10\n",
    "        end\n",
    "    end\n",
    "end"
   ]
  },
  {
   "cell_type": "code",
   "execution_count": null,
   "metadata": {
    "collapsed": false
   },
   "outputs": [],
   "source": [
    "results = Array(Real, 1000)\n",
    "for i in 1 :1000\n",
    "    results[i] = indian_gpa()\n",
    "end\n",
    "h = hist(results,[0:0.2:11])\n",
    "plot(x = h[1], y = [h[2],0])"
   ]
  },
  {
   "cell_type": "markdown",
   "metadata": {},
   "source": [
    "![Image Alt](demoImages/anglican2.png)"
   ]
  },
  {
   "cell_type": "markdown",
   "metadata": {},
   "source": [
    "#### Anglican, Mixture of complex Distributions"
   ]
  },
  {
   "cell_type": "raw",
   "metadata": {},
   "source": [
    "(defn student-gpa [] \n",
    "  (if (sample (flip 0.25))\n",
    "    (american-gpa)\n",
    "    (indian-gpa)))\n",
    "(plot/histogram (repeatedly 10000 student-gpa) :bins 50 :normalize :probability-density)"
   ]
  },
  {
   "cell_type": "code",
   "execution_count": null,
   "metadata": {
    "collapsed": false
   },
   "outputs": [],
   "source": [
    "function student_gpa()\n",
    "    if sampleRV(RV(()-> rand(Bernoulli(0.25)), [])) == 1\n",
    "        return american_gpa()\n",
    "    else\n",
    "        return indian_gpa()\n",
    "    end\n",
    "end"
   ]
  },
  {
   "cell_type": "code",
   "execution_count": null,
   "metadata": {
    "collapsed": false
   },
   "outputs": [],
   "source": [
    "results = Array(Real, 1000)\n",
    "for i in 1 :1000\n",
    "    results[i] = student_gpa()\n",
    "end\n",
    "h = hist(results,[0:0.2:11])\n",
    "plot(x = h[1], y = [h[2],0])"
   ]
  },
  {
   "cell_type": "markdown",
   "metadata": {},
   "source": [
    "![Image Alt](demoImages/anglican3.png)"
   ]
  },
  {
   "cell_type": "raw",
   "metadata": {},
   "source": [
    "(with-primitive-procedures [student-gpa american-gpa indian-gpa] \n",
    "    (defquery which-nationality [observed-gpa tolerance]\n",
    "    (let [nationality (sample (categorical [[\"USA\" 0.25] [\"India\" 0.75] ]))  \n",
    "          student_gpa (if (= nationality \"USA\") \n",
    "                          (american-gpa)\n",
    "                          (indian-gpa))]\n",
    "          (observe (normal student_gpa tolerance) observed-gpa)\n",
    "          (predict :nationality nationality))))\n",
    "\n",
    "(def N 10000)\n",
    "(def tolerance 0.01)\n",
    "(def sampler (->> (doquery :smc which-nationality [4.0 tolerance] :number-of-particles 100)\n",
    "                  (filter #(not= Double/NEGATIVE_INFINITY (get-log-weight %)))))\n",
    "(def samples (drop 100 (take (+ N 100) sampler)))\n",
    "(def num-usa (count (filter #(= % \"USA\") (map :nationality (map get-predicts samples)))))\n",
    "[\"USA\" (/ num-usa N) \"India\" (/ (- N num-usa) N) (count samples)]\n",
    "\n",
    "; Be careful with this code!   Changing gpa to a value other \n",
    "; than 0, 4, or 10 will cause this code not to halt.\n",
    "\n",
    "(def gpa 4)\n",
    "\n",
    "(defn dirac\n",
    "  \"Dirac distribution\"\n",
    "  [x]\n",
    "    (reify\n",
    "      distribution\n",
    "      (sample [this] x)\n",
    "      (observe [this value] (if (= x value) 0.0 (- (/ 1.0 0.0))))))\n",
    "\n",
    "(with-primitive-procedures [student-gpa american-gpa indian-gpa dirac] \n",
    "    (defquery which-nationality-with-dirac [observed-gpa]\n",
    "    (let [nationality (sample (categorical [[\"USA\" 0.6] [\"India\" 0.4] ]))  \n",
    "          student_gpa (if (= nationality \"USA\") \n",
    "                          (american-gpa)\n",
    "                          (indian-gpa))]\n",
    "          (observe (dirac student_gpa) observed-gpa)\n",
    "          (predict :nationality nationality))))\n",
    "(def N 100)\n",
    "\n",
    "(def sampler (->> (doquery :smc which-nationality-with-dirac [gpa] :number-of-particles 100)\n",
    "                  (filter #(not= Double/NEGATIVE_INFINITY (get-log-weight %)))))\n",
    "\n",
    "(def samples (drop 100 (take (+ N 100) sampler)))\n",
    "(def num-usa (count (filter #(= % \"USA\") (map :nationality (map get-predicts samples)))))\n",
    "[\"USA\" (float (/ num-usa N)) \"India\" (float (/ (- N num-usa) N)) \"N\" N]"
   ]
  },
  {
   "cell_type": "code",
   "execution_count": null,
   "metadata": {
    "collapsed": false
   },
   "outputs": [],
   "source": [
    "sigma = 0.01\n",
    "gpa = 4.0\n",
    "nationality = RV(()-> rand(Bernoulli(0.25)), [])\n",
    "student = RV((x)-> if x == 1 american_gpa() else indian_gpa() end, [nationality])\n",
    "cond = RV((x) -> abs(x-gpa) < sigma, [student]) \n",
    "h = sampleRVn(nationality, cond,100)\n",
    "hist(h,[-1:3])"
   ]
  },
  {
   "cell_type": "markdown",
   "metadata": {
    "collapsed": true
   },
   "source": [
    "### Probmods examples"
   ]
  },
  {
   "cell_type": "markdown",
   "metadata": {},
   "source": [
    "#### Rejection sampling"
   ]
  },
  {
   "cell_type": "raw",
   "metadata": {},
   "source": [
    "(define (take-sample)\n",
    "   (define A (if (flip) 1 0))\n",
    "   (define B (if (flip) 1 0))\n",
    "   (define C (if (flip) 1 0))\n",
    "   (define D (+ A B C))\n",
    "   (if (>= D 2) A (take-sample)))\n",
    "\n",
    "(hist (repeat 100 take-sample) \"Value of A, given that D is greater than or equal to 2\")"
   ]
  },
  {
   "cell_type": "code",
   "execution_count": null,
   "metadata": {
    "collapsed": false
   },
   "outputs": [],
   "source": [
    "A = RV(()-> rand(Bernoulli()),[])\n",
    "B = RV(()-> rand(Bernoulli()),[])\n",
    "C = RV(()-> rand(Bernoulli()),[])\n",
    "D = RV((x,y,z) -> x+y+z, [A,B,C])\n",
    "cond = RV((x)-> x >=2 , [D])\n",
    "h = sort(sampleRVn(A, cond, 100))    \n",
    "h = hist(h,[-1:1])\n",
    "plot(x = h[1][2:3], y = h[2])"
   ]
  },
  {
   "cell_type": "markdown",
   "metadata": {},
   "source": [
    "![Image Alt](probmods1.png)"
   ]
  },
  {
   "cell_type": "markdown",
   "metadata": {},
   "source": [
    "#### Example: Causal Inference in Medical Diagnosis <br>\n",
    "##### Breast Cancer"
   ]
  },
  {
   "cell_type": "raw",
   "metadata": {},
   "source": [
    "(define samples\n",
    " (mh-query 100 100\n",
    "   (define breast-cancer (flip 0.01))\n",
    "\n",
    "   (define positive-mammogram (if breast-cancer (flip 0.8) (flip 0.096)))\n",
    "\n",
    "   breast-cancer\n",
    "\n",
    "   positive-mammogram\n",
    " )\n",
    ")\n",
    "(hist samples \"breast cancer\")"
   ]
  },
  {
   "cell_type": "code",
   "execution_count": null,
   "metadata": {
    "collapsed": false
   },
   "outputs": [],
   "source": [
    "breast_cancer = RV(()-> rand(Bernoulli(0.01)), [])\n",
    "positive_mammogram = RV((x)-> if x == 1 rand(Bernoulli(0.8)) else rand(Bernoulli(0.096)) end,[breast_cancer])\n",
    "cond = RV((x)-> x == 1, [positive_mammogram])\n",
    "\n",
    "h = hist(sampleRVn(breast_cancer, cond, 100),[-1:1])\n",
    "plot(x = h[1][2:3], y = h[2])"
   ]
  },
  {
   "cell_type": "markdown",
   "metadata": {},
   "source": [
    "![Image Alt](demoImages/probmods2.png)"
   ]
  },
  {
   "cell_type": "markdown",
   "metadata": {},
   "source": [
    "#### Breast Cancer with cyst"
   ]
  },
  {
   "cell_type": "raw",
   "metadata": {},
   "source": [
    "(define samples\n",
    " (mh-query 100 100\n",
    "   (define breast-cancer (flip 0.01))\n",
    "   (define benign-cyst (flip 0.2))\n",
    "\n",
    "   (define positive-mammogram (or (and breast-cancer (flip 0.8)) (and benign-cyst (flip 0.5))))\n",
    "\n",
    "   breast-cancer\n",
    "\n",
    "   positive-mammogram\n",
    " )\n",
    ")\n",
    "(hist samples \"breast cancer\")"
   ]
  },
  {
   "cell_type": "code",
   "execution_count": null,
   "metadata": {
    "collapsed": false
   },
   "outputs": [],
   "source": [
    "breast_cancer = RV(()-> rand(Bernoulli(0.01)), [])\n",
    "benign_cyst = RV(()-> rand(Bernoulli(0.2)),[])\n",
    "positive_mammogram = RV((x,y)-> (rand(Bernoulli(0.8)) == 1 && x == 1) || (rand(Bernoulli(0.5)) == 1 && y == 1),[breast_cancer, benign_cyst])\n",
    "cond = RV((x)-> x == 1, [positive_mammogram])\n",
    "\n",
    "hist(sampleRVn(breast_cancer, cond, 100),[-1:1])"
   ]
  },
  {
   "cell_type": "markdown",
   "metadata": {},
   "source": [
    "![Image Alt](demoImages/probmods3.png)"
   ]
  },
  {
   "cell_type": "markdown",
   "metadata": {},
   "source": [
    "#### Flu example"
   ]
  },
  {
   "cell_type": "raw",
   "metadata": {},
   "source": [
    "(define samples\n",
    "  (mh-query 1000 100\n",
    "    (define lung-cancer (flip 0.01))\n",
    "    (define TB (flip 0.005))\n",
    "    (define cold (flip 0.2))\n",
    "    (define stomach-flu (flip 0.1))\n",
    "    (define other (flip 0.1))\n",
    "\n",
    "    (define cough (or (and cold (flip 0.5)) (and lung-cancer (flip 0.3)) (and TB (flip 0.7)) (and other (flip 0.01))))\n",
    "    (define fever (or (and cold (flip 0.3)) (and stomach-flu (flip 0.5)) (and TB (flip 0.2)) (and other (flip 0.01))))\n",
    "    (define chest-pain (or (and lung-cancer (flip 0.4)) (and TB (flip 0.5)) (and other( flip 0.01))))\n",
    "    (define shortness-of-breath (or (and lung-cancer (flip 0.4)) (and TB (flip 0.5)) (and other (flip 0.01))))\n",
    "\n",
    "    (list lung-cancer TB)\n",
    "\n",
    "    (and cough fever chest-pain shortness-of-breath)\n",
    "\n",
    "  )\n",
    ")\n",
    "(hist samples \"Joint inferences for lung cancer and TB\")"
   ]
  },
  {
   "cell_type": "code",
   "execution_count": null,
   "metadata": {
    "collapsed": true
   },
   "outputs": [],
   "source": [
    "## easy to implement. Result unknown because script does not work on my computer"
   ]
  },
  {
   "cell_type": "markdown",
   "metadata": {},
   "source": [
    "#### cough and flu example with intervention"
   ]
  },
  {
   "cell_type": "raw",
   "metadata": {},
   "source": [
    "(define (sample)\n",
    "  (define smokes (flip 0.2))\n",
    "  \n",
    "  (define lung-disease (or (flip 0.001) (and smokes (flip 0.1))))\n",
    "  (define cold true) ;we intervene to make cold true.\n",
    "  \n",
    "  (define cough (or (and cold (flip 0.5)) (and lung-disease (flip 0.5)) (flip 0.01)))\n",
    "  (define fever (or (and cold (flip 0.3)) (flip 0.01)))\n",
    "  (define chest-pain (or (and lung-disease (flip 0.2)) (flip 0.01)))\n",
    "  (define shortness-of-breath (or (and lung-disease (flip 0.2)) (flip 0.01)))\n",
    "  \n",
    "  (list cough cold))\n",
    "\n",
    "(define samples (repeat 200 sample))\n",
    "  \n",
    "(hist (map first samples) \"cough\")\n",
    "(hist (map second samples) \"cold\")"
   ]
  },
  {
   "cell_type": "markdown",
   "metadata": {},
   "source": [
    "#### Statistical Dependence"
   ]
  },
  {
   "cell_type": "raw",
   "metadata": {},
   "source": [
    "(define (samples B-val)\n",
    "  (mh-query\n",
    "   100 10\n",
    "   (define C (flip))\n",
    "   (define B (if C (flip 0.5) (flip 0.9)))\n",
    "   (define A (if C (flip 0.1) (flip 0.4)))\n",
    "   A\n",
    "   (eq? B B-val)))\n",
    "\n",
    "(hist (samples true) \"A if B is true.\")\n",
    "(hist (samples false) \"A if B is false.\")"
   ]
  },
  {
   "cell_type": "code",
   "execution_count": null,
   "metadata": {
    "collapsed": false
   },
   "outputs": [],
   "source": [
    "C = RV(()-> rand(Bernoulli()), [])\n",
    "B = RV((x)-> if x == 1 rand(Bernoulli()) else rand(Bernoulli(0.9)) end,[C])\n",
    "A = RV((x)-> if x == 1 rand(Bernoulli(0.1)) else rand(Bernoulli(0.4)) end,[C])\n",
    "cond= RV((x)-> x == 1, [B])\n",
    "hist(sampleRVn(A,cond,100), [-1:1])"
   ]
  },
  {
   "cell_type": "markdown",
   "metadata": {},
   "source": [
    "![Image Alt](demoImages/probmods4.png)"
   ]
  },
  {
   "cell_type": "markdown",
   "metadata": {},
   "source": [
    "#### explaining away"
   ]
  },
  {
   "cell_type": "raw",
   "metadata": {},
   "source": [
    "(define (samples B-val)\n",
    "  (mh-query\n",
    "   100 10\n",
    "   (define A (flip))\n",
    "   (define B (flip))\n",
    "   (define C (if (or A B) (flip 0.9) (flip 0.2)))\n",
    "    A\n",
    "   (and C (eq? B B-val))))\n",
    "\n",
    "(hist (samples true) \"A if B is true.\")\n",
    "(hist (samples false) \"A if B is false.\")"
   ]
  },
  {
   "cell_type": "code",
   "execution_count": null,
   "metadata": {
    "collapsed": false
   },
   "outputs": [],
   "source": [
    "A = RV(()-> rand(Bernoulli()), [])\n",
    "B = RV(()-> rand(Bernoulli()), [])\n",
    "C = RV((x,y)-> if (x == 1 || y == 1) rand(Bernoulli(0.9)) else rand(Bernoulli(0.2)) end,[A,B])\n",
    "cond= RV((x,y)-> x == 1 && y == 1, [C,B])\n",
    "hist(sampleRVn(A,cond,100), [-1:1])"
   ]
  },
  {
   "cell_type": "markdown",
   "metadata": {},
   "source": [
    "![Image Alt](demoImages/probmods5.png)"
   ]
  },
  {
   "cell_type": "markdown",
   "metadata": {},
   "source": [
    "#### Trait attribution"
   ]
  },
  {
   "cell_type": "raw",
   "metadata": {},
   "source": [
    "(define samples\n",
    "  (mh-query 1000 10\n",
    "\n",
    "   (define exam-fair (flip .8))\n",
    "   (define does-homework (flip .8))\n",
    "\n",
    "   (define pass? (flip (if exam-fair\n",
    "                           (if does-homework 0.9 0.4)\n",
    "                           (if does-homework 0.6 0.2))))\n",
    "\n",
    "   (list does-homework exam-fair)\n",
    "\n",
    "   (not pass?)))\n",
    "\n",
    "(hist samples \"Joint: Student Does Homework?, Exam Fair?\")\n",
    "(hist (map first samples) \"Student Does Homework\")\n",
    "(hist (map second samples) \"Exam Fair\")"
   ]
  },
  {
   "cell_type": "code",
   "execution_count": null,
   "metadata": {
    "collapsed": true
   },
   "outputs": [],
   "source": [
    "#can we do this easily? \n",
    "# here we need sampleRVn([does_homework, exam_fair], cond, 100)"
   ]
  },
  {
   "cell_type": "markdown",
   "metadata": {},
   "source": [
    "#### blickets and blocking"
   ]
  },
  {
   "cell_type": "raw",
   "metadata": {},
   "source": [
    "(define samples\n",
    "  (mh-query 100 100\n",
    "\n",
    "    (define blicket (mem (lambda (block) (flip 0.2))))\n",
    "    (define (power block) (if (blicket block) 0.9 0.05))\n",
    "\n",
    "    (define (machine blocks)\n",
    "      (if (null? blocks)\n",
    "          (flip 0.05)\n",
    "          (or (flip (power (first blocks)))\n",
    "              (machine (rest blocks)))))\n",
    "\n",
    "    (blicket 'A)\n",
    "\n",
    "    (machine (list 'A 'B))))\n",
    "\n",
    "(hist samples \"Is A a blicket?\")"
   ]
  },
  {
   "cell_type": "code",
   "execution_count": null,
   "metadata": {
    "collapsed": true
   },
   "outputs": [],
   "source": [
    "# i do not understand this"
   ]
  },
  {
   "cell_type": "markdown",
   "metadata": {
    "collapsed": true
   },
   "source": [
    "### Venture examples"
   ]
  },
  {
   "cell_type": "markdown",
   "metadata": {},
   "source": [
    "#### Better inspection"
   ]
  },
  {
   "cell_type": "raw",
   "metadata": {},
   "source": [
    "assume x = normal(0, 1);\n",
    "assume y = normal(x, 1);\n",
    "observe y = 2\n",
    "define more_data = run(accumulate_dataset(100, do(posterior, collect(x))))\n",
    "plot(\"h0\", more_data)\n"
   ]
  },
  {
   "cell_type": "code",
   "execution_count": null,
   "metadata": {
    "collapsed": false
   },
   "outputs": [],
   "source": [
    "x = RV(()-> rand(Normal(0,1)),[])\n",
    "y = RV((x)-> rand(Normal(x,1)),[x])\n",
    "cond = RV((x)-> x == 2, [y])\n",
    "sampleRVn(x, cond,100)\n",
    "#could not fulfill condition after 10000 attempts\n",
    "#venture observations are hard to fulfill"
   ]
  },
  {
   "cell_type": "code",
   "execution_count": null,
   "metadata": {
    "collapsed": true
   },
   "outputs": [],
   "source": []
  }
 ],
 "metadata": {
  "kernelspec": {
   "display_name": "Julia 0.3.12-pre",
   "language": "julia",
   "name": "julia-0.3"
  },
  "language_info": {
   "file_extension": ".jl",
   "mimetype": "application/julia",
   "name": "julia",
   "version": "0.3.12"
  }
 },
 "nbformat": 4,
 "nbformat_minor": 0
}
