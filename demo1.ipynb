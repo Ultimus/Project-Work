{
 "cells": [
  {
   "cell_type": "markdown",
   "metadata": {},
   "source": [
    "### This file contains several examples from other books and websites implemented with our latest approach\n"
   ]
  },
  {
   "cell_type": "code",
   "execution_count": 1,
   "metadata": {
    "collapsed": false
   },
   "outputs": [],
   "source": [
    "using Distributions\n",
    "using Exp002"
   ]
  },
  {
   "cell_type": "code",
   "execution_count": null,
   "metadata": {
    "collapsed": true
   },
   "outputs": [],
   "source": [
    "using Gadfly"
   ]
  },
  {
   "cell_type": "markdown",
   "metadata": {},
   "source": [
    "#### Anglican examples:"
   ]
  },
  {
   "cell_type": "markdown",
   "metadata": {},
   "source": [
    "##### Indian GPA Problem"
   ]
  },
  {
   "cell_type": "raw",
   "metadata": {},
   "source": [
    "\n",
    "\n",
    "(defn american-gpa  []\n",
    "  (if (sample (flip 0.95)) \n",
    "    (* 4 (sample (beta 8 2))) \n",
    "    (if (sample (flip 0.85)) \n",
    "       4 \n",
    "       0)))\n",
    "(plot/histogram (repeatedly 10000 american-gpa) :bins 50 :normalize :probability-density)\n",
    "\n"
   ]
  },
  {
   "cell_type": "code",
   "execution_count": 2,
   "metadata": {
    "collapsed": false
   },
   "outputs": [
    {
     "data": {
      "text/plain": [
       "american_gpa (generic function with 1 method)"
      ]
     },
     "execution_count": 2,
     "metadata": {},
     "output_type": "execute_result"
    }
   ],
   "source": [
    "function american_gpa()\n",
    "    a = RV(()-> rand(Bernoulli(0.95)), [])\n",
    "    b = RV(()-> (rand(Beta(8,2))), [])\n",
    "    c = RV(()-> rand(Bernoulli(0.85)), [])\n",
    "    \n",
    "    if sampleRV(a) == 1\n",
    "        return 4 * sampleRV(b)\n",
    "    else \n",
    "        if sampleRV(c) == 1\n",
    "            return 4\n",
    "        else\n",
    "            return 0\n",
    "        end\n",
    "    end \n",
    "end"
   ]
  },
  {
   "cell_type": "code",
   "execution_count": null,
   "metadata": {
    "collapsed": false
   },
   "outputs": [],
   "source": [
    "\n",
    "results = Array(Real, 1000)\n",
    "for i in 1 :1000\n",
    "    results[i] = american_gpa()\n",
    "end\n",
    "h = hist(results,[0:0.1:4])\n",
    "plot(x = h[1], y = [h[2],0])\n",
    "#success"
   ]
  },
  {
   "cell_type": "raw",
   "metadata": {},
   "source": [
    "(defn indian-gpa [] \n",
    "  (if (sample (flip 0.99)) \n",
    "    (* 10 (sample (beta 5 5))) \n",
    "    (if (sample (flip 0.1))\n",
    "            0 \n",
    "            10)))\n",
    "(plot/histogram (repeatedly 10000 indian-gpa) :bins 50 :normalize :probability-density)"
   ]
  },
  {
   "cell_type": "code",
   "execution_count": 3,
   "metadata": {
    "collapsed": false
   },
   "outputs": [
    {
     "data": {
      "text/plain": [
       "indian_gpa (generic function with 1 method)"
      ]
     },
     "execution_count": 3,
     "metadata": {},
     "output_type": "execute_result"
    }
   ],
   "source": [
    "function indian_gpa()\n",
    "    a = RV(()-> rand(Bernoulli(0.99)), [])\n",
    "    b = RV(()-> rand(Beta (5,5)), [])\n",
    "    c = RV(()-> rand(Bernoulli(0.1)), [])\n",
    "    if sampleRV(a) == 1\n",
    "        return 10* sampleRV(b)\n",
    "    else\n",
    "        if sampleRV(c) == 1\n",
    "            return 0\n",
    "        else \n",
    "            return 10\n",
    "        end\n",
    "    end\n",
    "end"
   ]
  },
  {
   "cell_type": "code",
   "execution_count": null,
   "metadata": {
    "collapsed": false
   },
   "outputs": [],
   "source": [
    "results = Array(Real, 1000)\n",
    "for i in 1 :1000\n",
    "    results[i] = indian_gpa()\n",
    "end\n",
    "h = hist(results,[0:0.2:11])\n",
    "plot(x = h[1], y = [h[2],0])"
   ]
  },
  {
   "cell_type": "markdown",
   "metadata": {},
   "source": [
    "#### Anglican, Mixture of complex Distributions"
   ]
  },
  {
   "cell_type": "raw",
   "metadata": {},
   "source": [
    "(defn student-gpa [] \n",
    "  (if (sample (flip 0.25))\n",
    "    (american-gpa)\n",
    "    (indian-gpa)))\n",
    "(plot/histogram (repeatedly 10000 student-gpa) :bins 50 :normalize :probability-density)"
   ]
  },
  {
   "cell_type": "code",
   "execution_count": 4,
   "metadata": {
    "collapsed": false
   },
   "outputs": [
    {
     "data": {
      "text/plain": [
       "student_gpa (generic function with 1 method)"
      ]
     },
     "execution_count": 4,
     "metadata": {},
     "output_type": "execute_result"
    }
   ],
   "source": [
    "function student_gpa()\n",
    "    if sampleRV(RV(()-> rand(Bernoulli(0.25)), [])) == 1\n",
    "        return american_gpa()\n",
    "    else\n",
    "        return indian_gpa()\n",
    "    end\n",
    "end"
   ]
  },
  {
   "cell_type": "code",
   "execution_count": null,
   "metadata": {
    "collapsed": false
   },
   "outputs": [],
   "source": [
    "results = Array(Real, 1000)\n",
    "for i in 1 :1000\n",
    "    results[i] = student_gpa()\n",
    "end\n",
    "h = hist(results,[0:0.2:11])\n",
    "plot(x = h[1], y = [h[2],0])"
   ]
  },
  {
   "cell_type": "raw",
   "metadata": {},
   "source": [
    "(with-primitive-procedures [student-gpa american-gpa indian-gpa] \n",
    "    (defquery which-nationality [observed-gpa tolerance]\n",
    "    (let [nationality (sample (categorical [[\"USA\" 0.25] [\"India\" 0.75] ]))  \n",
    "          student_gpa (if (= nationality \"USA\") \n",
    "                          (american-gpa)\n",
    "                          (indian-gpa))]\n",
    "          (observe (normal student_gpa tolerance) observed-gpa)\n",
    "          (predict :nationality nationality))))\n",
    "\n",
    "(def N 10000)\n",
    "(def tolerance 0.01)\n",
    "(def sampler (->> (doquery :smc which-nationality [4.0 tolerance] :number-of-particles 100)\n",
    "                  (filter #(not= Double/NEGATIVE_INFINITY (get-log-weight %)))))\n",
    "(def samples (drop 100 (take (+ N 100) sampler)))\n",
    "(def num-usa (count (filter #(= % \"USA\") (map :nationality (map get-predicts samples)))))\n",
    "[\"USA\" (/ num-usa N) \"India\" (/ (- N num-usa) N) (count samples)]\n",
    "\n",
    "; Be careful with this code!   Changing gpa to a value other \n",
    "; than 0, 4, or 10 will cause this code not to halt.\n",
    "\n",
    "(def gpa 4)\n",
    "\n",
    "(defn dirac\n",
    "  \"Dirac distribution\"\n",
    "  [x]\n",
    "    (reify\n",
    "      distribution\n",
    "      (sample [this] x)\n",
    "      (observe [this value] (if (= x value) 0.0 (- (/ 1.0 0.0))))))\n",
    "\n",
    "(with-primitive-procedures [student-gpa american-gpa indian-gpa dirac] \n",
    "    (defquery which-nationality-with-dirac [observed-gpa]\n",
    "    (let [nationality (sample (categorical [[\"USA\" 0.6] [\"India\" 0.4] ]))  \n",
    "          student_gpa (if (= nationality \"USA\") \n",
    "                          (american-gpa)\n",
    "                          (indian-gpa))]\n",
    "          (observe (dirac student_gpa) observed-gpa)\n",
    "          (predict :nationality nationality))))\n",
    "(def N 100)\n",
    "\n",
    "(def sampler (->> (doquery :smc which-nationality-with-dirac [gpa] :number-of-particles 100)\n",
    "                  (filter #(not= Double/NEGATIVE_INFINITY (get-log-weight %)))))\n",
    "\n",
    "(def samples (drop 100 (take (+ N 100) sampler)))\n",
    "(def num-usa (count (filter #(= % \"USA\") (map :nationality (map get-predicts samples)))))\n",
    "[\"USA\" (float (/ num-usa N)) \"India\" (float (/ (- N num-usa) N)) \"N\" N]"
   ]
  },
  {
   "cell_type": "code",
   "execution_count": 11,
   "metadata": {
    "collapsed": false
   },
   "outputs": [
    {
     "data": {
      "text/plain": [
       "([-1,0,1,2,3],[26,74,0,0])"
      ]
     },
     "execution_count": 11,
     "metadata": {},
     "output_type": "execute_result"
    }
   ],
   "source": [
    "sigma = 0.01\n",
    "gpa = 4.0\n",
    "nationality = RV(()-> rand(Bernoulli(0.25)), [])\n",
    "student = RV((x)-> if x == 1 american_gpa() else indian_gpa() end, [nationality])\n",
    "cond = RV((x) -> abs(x-gpa) < sigma, [student]) \n",
    "h = sampleRVn(nationality, cond,100)\n",
    "hist(h,[-1:3])"
   ]
  },
  {
   "cell_type": "code",
   "execution_count": 14,
   "metadata": {
    "collapsed": false
   },
   "outputs": [
    {
     "data": {
      "text/plain": [
       "2-element Array{Float64,1}:\n",
       " 0.417954\n",
       " 0.582046"
      ]
     },
     "execution_count": 14,
     "metadata": {},
     "output_type": "execute_result"
    }
   ],
   "source": [
    "rand(Dirichlet([1.0,2.0]))"
   ]
  },
  {
   "cell_type": "code",
   "execution_count": null,
   "metadata": {
    "collapsed": true
   },
   "outputs": [],
   "source": []
  }
 ],
 "metadata": {
  "kernelspec": {
   "display_name": "Julia 0.3.12-pre",
   "language": "julia",
   "name": "julia-0.3"
  },
  "language_info": {
   "file_extension": ".jl",
   "mimetype": "application/julia",
   "name": "julia",
   "version": "0.3.12"
  }
 },
 "nbformat": 4,
 "nbformat_minor": 0
}
