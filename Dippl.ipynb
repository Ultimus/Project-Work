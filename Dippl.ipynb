{
 "metadata": {
  "name": ""
 },
 "nbformat": 3,
 "nbformat_minor": 0,
 "worksheets": [
  {
   "cells": [
    {
     "cell_type": "code",
     "collapsed": false,
     "input": [
      "function transition(x) \n",
      "    return (if x\n",
      "                rand() < 0.7\n",
      "            else\n",
      "                rand() < 0.3\n",
      "            end\n",
      "            )\n",
      "end\n",
      "\n",
      "function observe(s) \n",
      "  return s ? rand() < 0.9 : rand() < 0.1\n",
      "end\n",
      "\n"
     ],
     "language": "python",
     "metadata": {},
     "outputs": [
      {
       "metadata": {},
       "output_type": "pyout",
       "prompt_number": 9,
       "text": [
        "observe (generic function with 1 method)"
       ]
      }
     ],
     "prompt_number": 9
    },
    {
     "cell_type": "markdown",
     "metadata": {},
     "source": [
      "##Here is a fairly standard version of the HMM:"
     ]
    },
    {
     "cell_type": "code",
     "collapsed": false,
     "input": [
      "\n",
      "#TESTS!!!\n",
      "\n",
      "arr = [1 2 3]\n",
      "[arr [6]]\n",
      "data = {\"states\" => [99 88 77] ,\"observations\" => [0.1 1.9 2.3]}\n",
      "(data[\"states\"])[(length(data[\"states\"]))] #ugly as hell. return the last element of the array inside the hash map\n",
      "(size(data[\"states\"]))[2]\n",
      "[size(data[\"states\"])]\n",
      "\n",
      "data = {\"states\" => [data[\"states\"] [66]],\n",
      " \"observations\" => [data[\"observations\"] [3.4]]}\n",
      "#data = {\"states\" => [99 88 77] ,\"observations\" => [0.1 1.9 2.3]}\n",
      "l = (length(data[\"states\"]))\n",
      "print(l)\n",
      "(data[\"states\"])[(length(data[\"states\"]))]"
     ],
     "language": "python",
     "metadata": {},
     "outputs": [
      {
       "output_type": "stream",
       "stream": "stdout",
       "text": [
        "4"
       ]
      },
      {
       "metadata": {},
       "output_type": "pyout",
       "prompt_number": 99,
       "text": [
        "66"
       ]
      }
     ],
     "prompt_number": 99
    },
    {
     "cell_type": "code",
     "collapsed": false,
     "input": [
      "function hmm(n) \n",
      "  prev = (n==1) ? {\"states\"=>[true], \"observations\" =>[]} : hmm(n-1)\n",
      "  newstate = transition(prev[\"states\"][(length(prev[\"states\"]))])\n",
      "  newobs = observe(newstate)   \n",
      "  result = {\"states\" => [prev[\"states\"],[newstate]],\n",
      "          \"observations\" => [prev[\"observations\"],[newobs]]}\n",
      "  return result\n",
      "end\n"
     ],
     "language": "python",
     "metadata": {},
     "outputs": [
      {
       "metadata": {},
       "output_type": "pyout",
       "prompt_number": 132,
       "text": [
        "hmm (generic function with 1 method)"
       ]
      }
     ],
     "prompt_number": 132
    },
    {
     "cell_type": "code",
     "collapsed": false,
     "input": [
      "hmm(4)"
     ],
     "language": "python",
     "metadata": {},
     "outputs": [
      {
       "metadata": {},
       "output_type": "pyout",
       "prompt_number": 133,
       "text": [
        "Dict{Any,Any} with 2 entries:\n",
        "  \"observations\" => Bool[true,true,false,true]\n",
        "  \"states\"       => Bool[true,true,true,true,true]"
       ]
      }
     ],
     "prompt_number": 133
    },
    {
     "cell_type": "code",
     "collapsed": false,
     "input": [],
     "language": "python",
     "metadata": {},
     "outputs": [
      {
       "metadata": {},
       "output_type": "pyout",
       "prompt_number": 85,
       "text": [
        "2"
       ]
      }
     ],
     "prompt_number": 85
    },
    {
     "cell_type": "code",
     "collapsed": false,
     "input": [],
     "language": "python",
     "metadata": {},
     "outputs": []
    }
   ],
   "metadata": {}
  }
 ]
}