{
 "cells": [
  {
   "cell_type": "markdown",
   "metadata": {},
   "source": [
    "#Anglican"
   ]
  },
  {
   "cell_type": "markdown",
   "metadata": {},
   "source": [
    "##Addition"
   ]
  },
  {
   "cell_type": "code",
   "execution_count": 1,
   "metadata": {
    "collapsed": false
   },
   "outputs": [
    {
     "data": {
      "text/plain": [
       "19"
      ]
     },
     "execution_count": 1,
     "metadata": {},
     "output_type": "execute_result"
    }
   ],
   "source": [
    "using Distributions\n",
    "\n",
    "counter= 0\n",
    "for i in 1:1000\n",
    "    a = 100 - rand(Poisson(100))\n",
    "    b = 100 - rand(Poisson(100))\n",
    "   \n",
    "    if((a+b) == 7)\n",
    "        counter +=1\n",
    "    end\n",
    "end\n",
    "counter  "
   ]
  },
  {
   "cell_type": "markdown",
   "metadata": {},
   "source": [
    "##Birthday"
   ]
  },
  {
   "cell_type": "raw",
   "metadata": {},
   "source": [
    "[assume birthday (mem (lambda (i) (uniform-discrete 1 366)))]\n",
    "[assume N 23]\n",
    "[assume pair-equal \n",
    "  (lambda (i j) \n",
    "    (if (> i N) \n",
    "      false\n",
    "      (if (> j N)\n",
    "        (pair-equal (+ i 1) (+ i 2))\n",
    "        (if (= (birthday i) (birthday j)) \n",
    "          true\n",
    "          (pair-equal i (+ j 1))))))]\n",
    "[predict (pair-equal 1 2)]"
   ]
  },
  {
   "cell_type": "code",
   "execution_count": 9,
   "metadata": {
    "collapsed": false
   },
   "outputs": [
    {
     "data": {
      "text/plain": [
       "0"
      ]
     },
     "execution_count": 9,
     "metadata": {},
     "output_type": "execute_result"
    }
   ],
   "source": [
    "birthday = rand(DiscreteUniform(1, 366))  #again problem with mem\n",
    "n = 23\n",
    "function pair_equal(i,j)\n",
    "    if (i > n)\n",
    "        return false\n",
    "    else\n",
    "        if (j > n)\n",
    "            pair_equal((i +1), (i+2))\n",
    "        else\n",
    "            if(birthday == i && brithday == j)\n",
    "                return true\n",
    "            else\n",
    "                pair_equal(i, (j+1))\n",
    "            end\n",
    "        end\n",
    "    end\n",
    "end\n",
    "counter = 0\n",
    "for i in 1:1000\n",
    "    if (pair_equal(1,2))\n",
    "        counter +=1\n",
    "    end\n",
    "end\n",
    "    counter"
   ]
  },
  {
   "cell_type": "code",
   "execution_count": 25,
   "metadata": {
    "collapsed": false
   },
   "outputs": [
    {
     "data": {
      "text/plain": [
       "1.4142135623730951"
      ]
     },
     "execution_count": 25,
     "metadata": {},
     "output_type": "execute_result"
    }
   ],
   "source": []
  },
  {
   "cell_type": "code",
   "execution_count": null,
   "metadata": {
    "collapsed": false
   },
   "outputs": [],
   "source": []
  }
 ],
 "metadata": {
  "kernelspec": {
   "display_name": "Julia 0.3.12-pre",
   "language": "julia",
   "name": "julia-0.3"
  },
  "language_info": {
   "file_extension": ".jl",
   "mimetype": "application/julia",
   "name": "julia",
   "version": "0.3.12"
  }
 },
 "nbformat": 4,
 "nbformat_minor": 0
}
