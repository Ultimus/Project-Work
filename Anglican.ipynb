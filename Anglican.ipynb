{
 "metadata": {
  "language": "Julia",
  "name": ""
 },
 "nbformat": 3,
 "nbformat_minor": 0,
 "worksheets": [
  {
   "cells": [
    {
     "cell_type": "markdown",
     "metadata": {},
     "source": [
      "#Anglican"
     ]
    },
    {
     "cell_type": "markdown",
     "metadata": {},
     "source": [
      "##Addition"
     ]
    },
    {
     "cell_type": "code",
     "collapsed": false,
     "input": [
      "using Distributions\n",
      "\n",
      "counter= 0\n",
      "for i in 1:1000\n",
      "    a = 100 - rand(Poisson(100))\n",
      "    b = 100 - rand(Poisson(100))\n",
      "   \n",
      "    if((a+b) == 7)\n",
      "        counter +=1\n",
      "    end\n",
      "end\n",
      "counter  "
     ],
     "language": "python",
     "metadata": {},
     "outputs": [
      {
       "metadata": {},
       "output_type": "pyout",
       "prompt_number": 1,
       "text": [
        "19"
       ]
      }
     ],
     "prompt_number": 1
    },
    {
     "cell_type": "markdown",
     "metadata": {},
     "source": [
      "##Birthday"
     ]
    },
    {
     "cell_type": "raw",
     "metadata": {},
     "source": [
      "[assume birthday (mem (lambda (i) (uniform-discrete 1 366)))]\n",
      "[assume N 23]\n",
      "[assume pair-equal \n",
      "  (lambda (i j) \n",
      "    (if (> i N) \n",
      "      false\n",
      "      (if (> j N)\n",
      "        (pair-equal (+ i 1) (+ i 2))\n",
      "        (if (= (birthday i) (birthday j)) \n",
      "          true\n",
      "          (pair-equal i (+ j 1))))))]\n",
      "[predict (pair-equal 1 2)]"
     ]
    },
    {
     "cell_type": "code",
     "collapsed": false,
     "input": [
      "birthday = rand(DiscreteUniform(1, 366))  #again problem with mem\n",
      "n = 23\n",
      "function pair_equal(i,j)\n",
      "    if (i > n)\n",
      "        return false\n",
      "    else\n",
      "        if (j > n)\n",
      "            pair_equal((i +1), (i+2))\n",
      "        else\n",
      "            if(birthday == i && brithday == j)\n",
      "                return true\n",
      "            else\n",
      "                pair_equal(i, (j+1))\n",
      "            end\n",
      "        end\n",
      "    end\n",
      "end\n",
      "counter = 0\n",
      "for i in 1:1000\n",
      "    if (pair_equal(1,2))\n",
      "        counter +=1\n",
      "    end\n",
      "end\n",
      "    counter"
     ],
     "language": "python",
     "metadata": {},
     "outputs": [
      {
       "metadata": {},
       "output_type": "pyout",
       "prompt_number": 9,
       "text": [
        "0"
       ]
      }
     ],
     "prompt_number": 9
    },
    {
     "cell_type": "code",
     "collapsed": false,
     "input": [],
     "language": "python",
     "metadata": {},
     "outputs": [
      {
       "metadata": {},
       "output_type": "pyout",
       "prompt_number": 25,
       "text": [
        "1.4142135623730951"
       ]
      }
     ],
     "prompt_number": 25
    },
    {
     "cell_type": "code",
     "collapsed": false,
     "input": [],
     "language": "python",
     "metadata": {},
     "outputs": []
    }
   ],
   "metadata": {}
  }
 ]
}