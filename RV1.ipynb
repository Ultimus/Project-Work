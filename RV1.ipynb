{
 "metadata": {
  "name": ""
 },
 "nbformat": 3,
 "nbformat_minor": 0,
 "worksheets": [
  {
   "cells": [
    {
     "cell_type": "code",
     "collapsed": false,
     "input": [
      "using Distributions\n"
     ],
     "language": "python",
     "metadata": {},
     "outputs": [],
     "prompt_number": 1
    },
    {
     "cell_type": "code",
     "collapsed": false,
     "input": [
      "type RV\n",
      "    distgenerator::Function\n",
      "    value\n",
      "    parents\n",
      "end"
     ],
     "language": "python",
     "metadata": {},
     "outputs": [],
     "prompt_number": 2
    },
    {
     "cell_type": "code",
     "collapsed": false,
     "input": [
      "#hash table approach\n",
      "function sampleRVH(r:: RV, d::Dict{Any,Any}) #d:: Dict{Uint64, Float64})# \n",
      "    if (get(d, hash(r), null) == null)\n",
      "        if (r.parents == []) # case top variable without parents\n",
      "            return merge(d, {hash(r) => rand(r.distgenerator())}) \n",
      "        end\n",
      "        #case variable with parents\n",
      "       vals = Float64[]\n",
      "\n",
      "       for i in r.parents            \n",
      "           merge!(d, sampleRVH(i,d))\n",
      "           push!(vals, d[hash(i)]) #collect all values\n",
      "        end\n",
      "        return merge(d, {hash(r) => rand(r.distgenerator(vals...))})\n",
      "    else\n",
      "        return d\n",
      "    end\n",
      "    return d\n",
      "end"
     ],
     "language": "python",
     "metadata": {},
     "outputs": [
      {
       "metadata": {},
       "output_type": "pyout",
       "prompt_number": 8,
       "text": [
        "sampleRVH (generic function with 2 methods)"
       ]
      }
     ],
     "prompt_number": 8
    },
    {
     "cell_type": "code",
     "collapsed": false,
     "input": [
      "A = RV(() -> Normal(), null, [])\n",
      "B = RV((x)-> Normal(x,1), null, [A])\n",
      "C = RV((x)-> Normal(x,1), null, [A])\n",
      "D = RV((x,y)-> Normal(x, abs(y)), null, [B,C])\n",
      "\n",
      "sampleRVH(D,{5 => 5})"
     ],
     "language": "python",
     "metadata": {},
     "outputs": [
      {
       "metadata": {},
       "output_type": "pyout",
       "prompt_number": 11,
       "text": [
        "Dict{Any,Any} with 5 entries:\n",
        "  0x26f926dd641b1c5c => 0.017089065764699873\n",
        "  0xcf8210489ebdc3b3 => -0.5596886085759288\n",
        "  5                  => 5\n",
        "  0xa627d3d3c8ad1c8a => -0.7389443430017422\n",
        "  0x642a609ab73ee1f4 => 0.45734452128391967"
       ]
      }
     ],
     "prompt_number": 11
    },
    {
     "cell_type": "code",
     "collapsed": false,
     "input": [
      "# Zu Fu\u00df Korrekt:\n",
      "W = RV(() -> Bernoulli(), null, [])\n",
      "X = RV((x)-> Bernoulli(x), null, [W])\n",
      "Y = RV((x)-> Bernoulli(x), null, [W])\n",
      "Z = RV((x,y)-> Binomial(x, y), null, [X,Y]) # a bit boring\n",
      "\n",
      "W.value = rand(W.distgenerator())\n",
      "X.value = rand(X.distgenerator(W.value))\n",
      "Y.value = rand(Y.distgenerator(W.value))\n",
      "Z.value = rand(Z.distgenerator(X.value, Y.value))\n",
      "println((W.value, X.value, Y.value, Z.value))\n",
      "\n",
      "#zu Fu\u00df falsch\n",
      "W.value = rand(W.distgenerator())\n",
      "X.value= rand(X.distgenerator(W.value))\n",
      "W.value = rand(W.distgenerator())\n",
      "Y.value = rand(Y.distgenerator(W.value))\n",
      "Z.value = rand(Z.distgenerator(X.value, Y.value))\n",
      "println((W.value, X.value, Y.value, Z.value))"
     ],
     "language": "python",
     "metadata": {},
     "outputs": [
      {
       "ename": "LoadError",
       "evalue": "RV not defined\nwhile loading In[1], in expression starting on line 2",
       "output_type": "pyerr",
       "traceback": [
        "RV not defined\nwhile loading In[1], in expression starting on line 2",
        ""
       ]
      }
     ],
     "prompt_number": 1
    },
    {
     "cell_type": "code",
     "collapsed": false,
     "input": [],
     "language": "python",
     "metadata": {},
     "outputs": []
    }
   ],
   "metadata": {}
  }
 ]
}