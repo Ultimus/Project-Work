{
 "metadata": {
  "name": ""
 },
 "nbformat": 3,
 "nbformat_minor": 0,
 "worksheets": [
  {
   "cells": [
    {
     "cell_type": "code",
     "collapsed": false,
     "input": [
      "using Distributions"
     ],
     "language": "python",
     "metadata": {},
     "outputs": [],
     "prompt_number": 1
    },
    {
     "cell_type": "markdown",
     "metadata": {},
     "source": [
      "##First proposal:\n",
      "\n",
      "sample starts a chain of samples, updates the values of the rv and gives the information to the childs\n"
     ]
    },
    {
     "cell_type": "code",
     "collapsed": false,
     "input": [
      "type RV\n",
      "    distgenerator::Function\n",
      "    value\n",
      "    parents    \n",
      "end"
     ],
     "language": "python",
     "metadata": {},
     "outputs": [],
     "prompt_number": 2
    },
    {
     "cell_type": "code",
     "collapsed": false,
     "input": [
      "# Works perfectly for a RV with one parent\n",
      "function sample(r::RV)\n",
      "    if (r.value == null)\n",
      "        if (length(r. parents) == 0)\n",
      "            r.value = rand(r.distgenerator())\n",
      "        elseif (length(r.parents) == 1)\n",
      "            a = r.parents[1] \n",
      "            sample(a)\n",
      "            r.value = rand(r.distgenerator(a.value))\n",
      "        elseif (length(r.parents) == 2)\n",
      "            a = r.parents[1]\n",
      "            b = r.parents[2]\n",
      "            sample(a)\n",
      "            sample(b)\n",
      "            r.value = rand(r.distgenerator(a.value,b.value))\n",
      "        elseif (length(r.parents) == 3)\n",
      "            a = r.parents[1]\n",
      "            b = r.parents[2]\n",
      "            c = r.parents[3]\n",
      "            sample(a)\n",
      "            sample(b)\n",
      "            sample(c)\n",
      "            r.value = rand(r.distgenerator(a.value,b.value,c.value))\n",
      "        else \n",
      "            error (\"Don't know how to deal with more than 3 parents\")\n",
      "        end\n",
      "    else\n",
      "        return r.value\n",
      "    end\n",
      "end\n",
      "\n",
      "##what if a negative??\n"
     ],
     "language": "python",
     "metadata": {},
     "outputs": [
      {
       "metadata": {},
       "output_type": "pyout",
       "prompt_number": 187,
       "text": [
        "sample (generic function with 1 method)"
       ]
      }
     ],
     "prompt_number": 187
    },
    {
     "cell_type": "code",
     "collapsed": false,
     "input": [
      "function addParents(rv::RV, p::Array{RV,1})\n",
      "    rv.parents = [rv.parents, p]\n",
      "end"
     ],
     "language": "python",
     "metadata": {},
     "outputs": [
      {
       "metadata": {},
       "output_type": "pyout",
       "prompt_number": 15,
       "text": [
        "addParents (generic function with 1 method)"
       ]
      }
     ],
     "prompt_number": 15
    },
    {
     "cell_type": "code",
     "collapsed": false,
     "input": [
      "X = RV(() -> Normal(), null, [])\n",
      "Y = RV(()-> Normal(), null, [])\n",
      "Z = RV((x)-> Normal(x,1), null, [X])\n"
     ],
     "language": "python",
     "metadata": {},
     "outputs": [
      {
       "metadata": {},
       "output_type": "pyout",
       "prompt_number": 193,
       "text": [
        "RV((anonymous function),null,[RV((anonymous function),null,None[])])"
       ]
      }
     ],
     "prompt_number": 193
    },
    {
     "cell_type": "code",
     "collapsed": false,
     "input": [
      "sample(Z)"
     ],
     "language": "python",
     "metadata": {},
     "outputs": [
      {
       "metadata": {},
       "output_type": "pyout",
       "prompt_number": 194,
       "text": [
        "-1.6251542336153495"
       ]
      }
     ],
     "prompt_number": 194
    },
    {
     "cell_type": "markdown",
     "metadata": {},
     "source": [
      "### sample_cond([x,z], [[y,1], [a, 17]])\n",
      "\n",
      "for better understanding\n",
      "\n",
      "sample_cond([x,y,z], [[y,1],[x,1]])"
     ]
    },
    {
     "cell_type": "code",
     "collapsed": false,
     "input": [
      "type Model \n",
      "    randomVariables ##Array of RV\n",
      "    conditions ##2 D Array\n",
      "end"
     ],
     "language": "python",
     "metadata": {},
     "outputs": [],
     "prompt_number": 120
    },
    {
     "cell_type": "code",
     "collapsed": false,
     "input": [
      "type condition\n",
      "    rv::RV\n",
      "    value\n",
      "end"
     ],
     "language": "python",
     "metadata": {},
     "outputs": [],
     "prompt_number": 121
    },
    {
     "cell_type": "code",
     "collapsed": false,
     "input": [
      "function sample_cond(m::Model)\n",
      "    for i in m.randomVariables\n",
      "        sample(i)\n",
      "    end\n",
      "    \n",
      "    truthValues = []\n",
      "    for i in m.conditions\n",
      "        truthValues = [truthValues ,(i.rv.value == i.value)]\n",
      "    end \n",
      "    return truthValues\n",
      "end"
     ],
     "language": "python",
     "metadata": {},
     "outputs": [
      {
       "metadata": {},
       "output_type": "pyout",
       "prompt_number": 210,
       "text": [
        "sample_cond (generic function with 1 method)"
       ]
      }
     ],
     "prompt_number": 210
    },
    {
     "cell_type": "code",
     "collapsed": false,
     "input": [
      "##What if after the first sample the observation is not fullfilled? with a new sample the value will not change\n",
      "function rejectionSample(m::Model)\n",
      "    for i in m.randomVariables\n",
      "        sample(i)\n",
      "    end\n",
      "    ##go through the conditions and see if they fit\n",
      "    \n",
      "\n",
      "end"
     ],
     "language": "python",
     "metadata": {},
     "outputs": [
      {
       "metadata": {},
       "output_type": "pyout",
       "prompt_number": 112,
       "text": [
        "(anonymous function)"
       ]
      }
     ],
     "prompt_number": 112
    },
    {
     "cell_type": "code",
     "collapsed": false,
     "input": [
      "X = RV(() -> Normal(), null, [])\n",
      "Y = RV(()-> Normal(), null, [])\n",
      "Z = RV((x)-> Normal(x,1), null, [X])\n",
      "c = condition(Y,1)\n",
      "l = condition(Z,5)\n",
      "M = Model([X,Y,Z], [c,l])"
     ],
     "language": "python",
     "metadata": {},
     "outputs": [
      {
       "metadata": {},
       "output_type": "pyout",
       "prompt_number": 211,
       "text": [
        "Model([RV((anonymous function),null,None[]),RV((anonymous function),null,None[]),RV((anonymous function),null,[RV((anonymous function),null,None[])])],[condition(RV((anonymous function),null,None[]),1),condition(RV((anonymous function),null,[RV((anonymous function),null,None[])]),5)])"
       ]
      }
     ],
     "prompt_number": 211
    },
    {
     "cell_type": "code",
     "collapsed": false,
     "input": [
      "sample_cond(M)"
     ],
     "language": "python",
     "metadata": {},
     "outputs": [
      {
       "output_type": "stream",
       "stream": "stdout",
       "text": [
        "Hello\n",
        "Hello\n"
       ]
      },
      {
       "metadata": {},
       "output_type": "pyout",
       "prompt_number": 212,
       "text": [
        "2-element Array{Bool,1}:\n",
        " false\n",
        " false"
       ]
      }
     ],
     "prompt_number": 212
    },
    {
     "cell_type": "code",
     "collapsed": false,
     "input": [],
     "language": "python",
     "metadata": {},
     "outputs": [],
     "prompt_number": 6
    },
    {
     "cell_type": "code",
     "collapsed": false,
     "input": [],
     "language": "python",
     "metadata": {},
     "outputs": [],
     "prompt_number": 7
    },
    {
     "cell_type": "code",
     "collapsed": false,
     "input": [],
     "language": "python",
     "metadata": {},
     "outputs": [],
     "prompt_number": 8
    },
    {
     "cell_type": "code",
     "collapsed": false,
     "input": [],
     "language": "python",
     "metadata": {},
     "outputs": [],
     "prompt_number": 9
    },
    {
     "cell_type": "code",
     "collapsed": false,
     "input": [],
     "language": "python",
     "metadata": {},
     "outputs": [],
     "prompt_number": 10
    },
    {
     "cell_type": "code",
     "collapsed": false,
     "input": [],
     "language": "python",
     "metadata": {},
     "outputs": [],
     "prompt_number": 11
    },
    {
     "cell_type": "code",
     "collapsed": false,
     "input": [],
     "language": "python",
     "metadata": {},
     "outputs": [],
     "prompt_number": 12
    },
    {
     "cell_type": "code",
     "collapsed": false,
     "input": [],
     "language": "python",
     "metadata": {},
     "outputs": []
    }
   ],
   "metadata": {}
  }
 ]
}