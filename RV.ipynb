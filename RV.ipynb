{
 "metadata": {
  "name": ""
 },
 "nbformat": 3,
 "nbformat_minor": 0,
 "worksheets": [
  {
   "cells": [
    {
     "cell_type": "markdown",
     "metadata": {},
     "source": [
      "This is a new, more functional, approach to PPL in julia. \n",
      "\n",
      "\n",
      "Note: functions with a ! set state."
     ]
    },
    {
     "cell_type": "code",
     "collapsed": false,
     "input": [
      "using Distributions"
     ],
     "language": "python",
     "metadata": {},
     "outputs": [],
     "prompt_number": 1
    },
    {
     "cell_type": "markdown",
     "metadata": {},
     "source": [
      "A RV is a new type that is used for sampling graphical models. \n",
      "<br>It contains a distribution function, which can be called with rand, a name (optional, but can save bytes) and parents, whos value is important for the distgenerator function.\n"
     ]
    },
    {
     "cell_type": "code",
     "collapsed": false,
     "input": [
      "type RV\n",
      "    distgenerator::Function\n",
      "    name #String or Char\n",
      "    parents\n",
      "end"
     ],
     "language": "python",
     "metadata": {},
     "outputs": [],
     "prompt_number": 2
    },
    {
     "cell_type": "markdown",
     "metadata": {},
     "source": [
      "Some test examples for 2 diamond structured models"
     ]
    },
    {
     "cell_type": "code",
     "collapsed": false,
     "input": [
      "A = RV(() -> Normal(), \"A\", [])\n",
      "B = RV((x)-> Normal(x,1), \"B\", [A])\n",
      "C = RV((x)-> Normal(x,1), \"C\", [A])\n",
      "D = RV((x,y)-> Normal(x, abs(y)), \"D\", [B,C])\n",
      "\n",
      "\n",
      "W = RV(() -> Bernoulli(), 'W', [])\n",
      "X = RV((x)-> Bernoulli(x), 'X', [W])\n",
      "Y = RV((x)-> Bernoulli(x), 'Y', [W])\n",
      "Z = RV((x,y)-> Binomial(int(x), int(y)), 'Z', [X,Y])\n",
      "\n",
      "#stay"
     ],
     "language": "python",
     "metadata": {},
     "outputs": [
      {
       "metadata": {},
       "output_type": "pyout",
       "prompt_number": 3,
       "text": [
        "RV((anonymous function),'Z',[RV((anonymous function),'X',[RV((anonymous function),'W',None[])]),RV((anonymous function),'Y',[RV((anonymous function),'W',None[])])])"
       ]
      }
     ],
     "prompt_number": 3
    },
    {
     "cell_type": "markdown",
     "metadata": {},
     "source": [
      "The basic sampleMethods. <br> The parents are called recursive and sampled. It's values are needed for the distgenerator function of the RV for which the sampleRV function is called. <br>\n",
      "The return value is a dictionary, which contains all variables that were sampled along the path to get a value for the RV."
     ]
    },
    {
     "cell_type": "code",
     "collapsed": false,
     "input": [
      "function sampleRV(r::RV)\n",
      "    function f!(r::RV, d::Dict{Any,Any})\n",
      "        key = hash(r)\n",
      "        if !haskey(d, key)\n",
      "            vals = map((s)->f!(s,d), r.parents)\n",
      "            d[key] = rand(r.distgenerator(vals...))\n",
      "        end\n",
      "        return d[key]\n",
      "    end\n",
      "    d = Dict()\n",
      "    f!(r, d)\n",
      "    return d\n",
      "end\n",
      "\n",
      "function sampleRVN(r::RV)\n",
      "    function f!(r::RV, d::Dict{Any,Any})\n",
      "        key = r.name\n",
      "        if !haskey(d, key)\n",
      "            vals = map((s)->f!(s,d), r.parents)\n",
      "            d[key] = rand(r.distgenerator(vals...))\n",
      "        end\n",
      "        return d[key]\n",
      "    end\n",
      "    d = Dict()\n",
      "    f!(r, d)\n",
      "    return d\n",
      "end\n"
     ],
     "language": "python",
     "metadata": {},
     "outputs": [
      {
       "metadata": {},
       "output_type": "pyout",
       "prompt_number": 4,
       "text": [
        "sampleRVN (generic function with 1 method)"
       ]
      }
     ],
     "prompt_number": 4
    },
    {
     "cell_type": "markdown",
     "metadata": {},
     "source": [
      "To give the user a more friendly opportunity to write a condition for a sample, a condition macro is introduced. <br>\n",
      "It's purpose is to translate a quoted condition like :(A < 0) into a lookup in the dictionary\n",
      "<br>\n",
      "The macro is not perfect and will be reworked soon"
     ]
    },
    {
     "cell_type": "code",
     "collapsed": false,
     "input": [
      "#function and macro for the rejection sampler condition\n",
      "\n",
      "substitute(expr::Expr) = Expr(expr.head, substitute(expr.args)...)\n",
      "substitute(expr::Symbol) = substitute(eval(expr))\n",
      "substitute(expr::RV) = :($(d[(expr.name)]))\n",
      "substitute(expr::Array) = map(substitute, expr)\n",
      "substitute(expr) = expr\n",
      "\n",
      "macro cond(expr)\n",
      "    return :(substitute(expr))\n",
      "end"
     ],
     "language": "python",
     "metadata": {},
     "outputs": [],
     "prompt_number": 5
    },
    {
     "cell_type": "markdown",
     "metadata": {},
     "source": [
      "A simple version for a rejection sampler.\n",
      "<br>\n",
      "The variable is sampled and the condition checked until the condition returns true, OR the condition could not be fullfilled after a given number of attempts.\n",
      "<br> The return value is a dictionary that contains all values that were needed to sample the RV and fullfills the condition."
     ]
    },
    {
     "cell_type": "code",
     "collapsed": false,
     "input": [
      "function RVrejectionSampler(r :: RV, expr, trys:: Int64 = 10000, margin:: Float64 = 0.0) \n",
      "    global d = sampleRVN(r)\n",
      "    cond = @cond expr\n",
      "    while eval(cond) == false && trys > 0\n",
      "        d = sampleRVN(r)\n",
      "        cond = @cond expr\n",
      "        trys -= 1\n",
      "    end\n",
      "    if trys == 0 return error (\"Did not reach goal within given number of attempts\") end\n",
      "    \n",
      "    return d\n",
      "end"
     ],
     "language": "python",
     "metadata": {},
     "outputs": [
      {
       "metadata": {},
       "output_type": "pyout",
       "prompt_number": 6,
       "text": [
        "RVrejectionSampler (generic function with 3 methods)"
       ]
      }
     ],
     "prompt_number": 6
    },
    {
     "cell_type": "code",
     "collapsed": false,
     "input": [
      "function sampleRVTimes(r::RV, n :: Integer)\n",
      "    result = Dict[]\n",
      "    for i in 1:n\n",
      "        push!(result, sampleRVN(r))\n",
      "    end\n",
      "    result\n",
      "end\n",
      "\n",
      "#stay"
     ],
     "language": "python",
     "metadata": {},
     "outputs": [
      {
       "metadata": {},
       "output_type": "pyout",
       "prompt_number": 12,
       "text": [
        "sampleRVTimes (generic function with 1 method)"
       ]
      }
     ],
     "prompt_number": 12
    },
    {
     "cell_type": "code",
     "collapsed": false,
     "input": [
      "RVrejectionSampler(D, :(A<0 &&B<0&& C >0&& D>0 && A > -1))"
     ],
     "language": "python",
     "metadata": {},
     "outputs": [
      {
       "metadata": {},
       "output_type": "pyout",
       "prompt_number": 8,
       "text": [
        "Dict{Any,Any} with 4 entries:\n",
        "  \"B\" => -0.54078120915752\n",
        "  \"A\" => -0.22345922228756873\n",
        "  \"C\" => 0.8562161361582264\n",
        "  \"D\" => 0.5799848897379817"
       ]
      }
     ],
     "prompt_number": 8
    },
    {
     "cell_type": "code",
     "collapsed": false,
     "input": [
      "function rejectionSampler(r::RV)\n",
      "    f = map(x -> x[r.name],sampleRVTimes(r,5))\n",
      "    #g funktion \n",
      "    c = maximum(f)\n",
      "    result = Float64[]\n",
      "    #c * g(x) m\u00fcssen immer >= f(x) sein\n",
      "    for i in 1:5\n",
      "        if rand() <= f[i]/ c\n",
      "            println(f[i])\n",
      "            push!(result,f[i])\n",
      "        end\n",
      "    end\n",
      "    result\n",
      "end"
     ],
     "language": "python",
     "metadata": {},
     "outputs": [
      {
       "metadata": {},
       "output_type": "pyout",
       "prompt_number": 66,
       "text": [
        "rejectionSampler (generic function with 1 method)"
       ]
      }
     ],
     "prompt_number": 66
    },
    {
     "cell_type": "code",
     "collapsed": false,
     "input": [
      "rejectionSampler(Z)"
     ],
     "language": "python",
     "metadata": {},
     "outputs": [
      {
       "output_type": "stream",
       "stream": "stdout",
       "text": [
        "1\n"
       ]
      },
      {
       "output_type": "stream",
       "stream": "stdout",
       "text": [
        "1\n"
       ]
      },
      {
       "metadata": {},
       "output_type": "pyout",
       "prompt_number": 67,
       "text": [
        "2-element Array{Float64,1}:\n",
        " 1.0\n",
        " 1.0"
       ]
      }
     ],
     "prompt_number": 67
    },
    {
     "cell_type": "code",
     "collapsed": false,
     "input": [],
     "language": "python",
     "metadata": {},
     "outputs": [
      {
       "metadata": {},
       "output_type": "pyout",
       "prompt_number": 59,
       "text": [
        "true"
       ]
      }
     ],
     "prompt_number": 59
    },
    {
     "cell_type": "code",
     "collapsed": false,
     "input": [],
     "language": "python",
     "metadata": {},
     "outputs": []
    }
   ],
   "metadata": {}
  }
 ]
}