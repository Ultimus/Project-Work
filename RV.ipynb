{
 "cells": [
  {
   "cell_type": "code",
   "execution_count": null,
   "metadata": {
    "collapsed": false
   },
   "outputs": [],
   "source": [
    "using Distributions\n",
    "#shortcut\n",
    "flip(x) = Bernoulli(x)"
   ]
  },
  {
   "cell_type": "markdown",
   "metadata": {},
   "source": [
    "A RV is a new type that is used for sampling graphical models.\n",
    "It contains a distribution function, which can be called with rand, a name (optional, but can save bytes) and parents, whos value is important for the distgenerator function."
   ]
  },
  {
   "cell_type": "code",
   "execution_count": null,
   "metadata": {
    "collapsed": true
   },
   "outputs": [],
   "source": [
    "type RV\n",
    "    distgenerator::Function\n",
    "    name #String or Char\n",
    "    parents\n",
    "end"
   ]
  },
  {
   "cell_type": "code",
   "execution_count": null,
   "metadata": {
    "collapsed": false
   },
   "outputs": [],
   "source": [
    "A = RV(() -> Normal(), \"A\", [])\n",
    "B = RV((x)-> Normal(x,1), \"B\", [A])\n",
    "C = RV((x)-> Normal(x,1), \"C\", [A])\n",
    "D = RV((x,y)-> Normal(x, abs(y)), \"D\", [B,C])\n",
    "\n",
    "\n",
    "W = RV(() -> Bernoulli(), 'W', [])\n",
    "X = RV((x)-> Bernoulli(x), 'X', [W])\n",
    "Y = RV((x)-> Bernoulli(x), 'Y', [W])\n",
    "Z = RV((x,y)-> Binomial(int(x), int(y)), 'Z', [X,Y])\n",
    "\n",
    "P = RV(()-> Poisson(4), \"P\", [])"
   ]
  },
  {
   "cell_type": "markdown",
   "metadata": {},
   "source": [
    "The basic sampleMethods.\n",
    "The parents are called recursive and sampled. It's values are needed for the distgenerator function of the RV for which the sampleRV function is called.<br>\n",
    "sampleRV samples one or more RV's and returns the sampled values.<br>\n",
    "It is also possible to sample with a trace, in that case, the return value is a dictionary with the RV's name or hash as key."
   ]
  },
  {
   "cell_type": "code",
   "execution_count": null,
   "metadata": {
    "collapsed": false
   },
   "outputs": [],
   "source": [
    "\n",
    "\n",
    "function sampleRV(r::RV)\n",
    "    # generate a single sample from scratch\n",
    "    return sampleRV(r, Dict())\n",
    "end\n",
    "\n",
    "function sampleRV(r::RV, d::Dict{Any,Any})\n",
    "    # generate a single sample but recycle already sampled values\n",
    "    key = r.name\n",
    "    if !haskey(d, key)\n",
    "        vals   = map((s)->sampleRV(s,d), r.parents)\n",
    "        d[key] = rand(r.distgenerator(vals...))\n",
    "    end\n",
    "    return d[key]\n",
    "end\n",
    "\n",
    "function sampleRV(rs::Array{RV,1}, d=Dict())\n",
    "    # sample simultaneously from several random variables\n",
    "    return [sampleRV(r,d) for r in rs]\n",
    "end\n",
    "\n",
    "#sample with a trace of needed variables. The parents are sampled too\n",
    "#a dictionary is returned with all RV's hash as keys\n",
    "function sampleRVTrace(r::RV)\n",
    "    function f!(r::RV, d::Dict{Any,Any})\n",
    "        key = hash(r)\n",
    "        if !haskey(d, key)\n",
    "            vals = map((s)->f!(s,d), r.parents)\n",
    "            d[key] = rand(r.distgenerator(vals...))\n",
    "        end\n",
    "        return d[key]\n",
    "    end\n",
    "    d = Dict()\n",
    "    f!(r, d)\n",
    "    return d\n",
    "end\n",
    "\n",
    "#same as sampleRVTrace but instead, the RV.name is used\n",
    "#this version allocates fewer bytes\n",
    "function sampleRVNTrace(r::RV)\n",
    "    function f!(r::RV, d::Dict{Any,Any})\n",
    "        key = r.name\n",
    "        if !haskey(d, key)\n",
    "            vals = map((s)->f!(s,d), r.parents)\n",
    "            d[key] = rand(r.distgenerator(vals...))\n",
    "        end\n",
    "        return d[key]\n",
    "    end\n",
    "    d = Dict()\n",
    "    f!(r, d)\n",
    "    return d\n",
    "end"
   ]
  },
  {
   "cell_type": "code",
   "execution_count": null,
   "metadata": {
    "collapsed": false
   },
   "outputs": [],
   "source": [
    "sampleRV([A,D])"
   ]
  },
  {
   "cell_type": "markdown",
   "metadata": {},
   "source": [
    "samples a given RV n times. An array is returned, which containes all sampled values as Float64"
   ]
  },
  {
   "cell_type": "code",
   "execution_count": null,
   "metadata": {
    "collapsed": false
   },
   "outputs": [],
   "source": [
    "function sampleRVTimes(r::RV, n :: Integer)\n",
    "    result = Array(Float64,n)\n",
    "    for i in 1:n\n",
    "        result[i] = sampleRV(r)\n",
    "    end\n",
    "    result\n",
    "end"
   ]
  },
  {
   "cell_type": "markdown",
   "metadata": {},
   "source": [
    "a rejectionSampler that takes the maximum value of the samples as the envelope function.<br>\n",
    " The Rv is sampled n-times. An array with accepted values will be returned<br>\n",
    " M is a factor for tuning the envelope function c. <br>\n",
    "It can be passed to the hist() function to see the PDF"
   ]
  },
  {
   "cell_type": "code",
   "execution_count": null,
   "metadata": {
    "collapsed": false
   },
   "outputs": [],
   "source": [
    "#sigma for variance\n",
    "function rejectionSampler(r::RV, observed_value, sigma = 0.1 :: Float64, n=1000::Int64, trys=1000::Int64)\n",
    "    f = sampleRVTimes(r,n)\n",
    "    #g funktion \n",
    "    result = Float64[]\n",
    "    #c * g(x) müssen immer >= f(x) sein\n",
    "    i = 1\n",
    "    while i < n\n",
    "        if (f[i] - observed_value)^2 < sigma \n",
    "            push!(result,f[i])\n",
    "        end\n",
    "        i += 1\n",
    "    end\n",
    "    result\n",
    "end\n",
    "\n",
    "function sample_cond(r :: RV, observed_value, rvoi ::RV, sigma = 0.1 :: Float64, n=1000::Int64, trys=1000::Int64)\n",
    "    result = Array(Float64,n)\n",
    "    for j in 1 : n      \n",
    "        for i in 1:trys\n",
    "            s = sampleRV([r,rvoi])\n",
    "            if abs(s[1] -observed_value) < sigma\n",
    "                result[j] = s[2]\n",
    "            end\n",
    "        end\n",
    "    end\n",
    "    result\n",
    "end\n",
    "\n",
    "function sample_cond(r :: RV, observed_value, rvoi, sigma = 0.1 :: Float64, n=1000::Int64, trys=1000::Int64)\n",
    "    result = Array(Array,n)\n",
    "    for j in 1 : n      \n",
    "        for i in 1:trys\n",
    "            s = sampleRV([r,rvoi])\n",
    "            if abs(s[1] -observed_value) < sigma\n",
    "                result[j] = s[2:size(s)[1]]\n",
    "            end\n",
    "        end\n",
    "    end\n",
    "    result\n",
    "end"
   ]
  },
  {
   "cell_type": "code",
   "execution_count": null,
   "metadata": {
    "collapsed": false
   },
   "outputs": [],
   "source": [
    "sample_cond(D,1,[A,B])"
   ]
  }
 ],
 "metadata": {
  "kernelspec": {
   "display_name": "Julia 0.3.12-pre",
   "language": "julia",
   "name": "julia-0.3"
  },
  "language_info": {
   "file_extension": ".jl",
   "mimetype": "application/julia",
   "name": "julia",
   "version": "0.3.12"
  }
 },
 "nbformat": 4,
 "nbformat_minor": 0
}
