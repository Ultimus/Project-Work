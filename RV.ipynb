{
 "metadata": {
  "name": ""
 },
 "nbformat": 3,
 "nbformat_minor": 0,
 "worksheets": [
  {
   "cells": [
    {
     "cell_type": "markdown",
     "metadata": {},
     "source": [
      "This is a new, more functional, approach to PPL in julia. \n",
      "\n",
      "\n",
      "Note: functions with a ! set state."
     ]
    },
    {
     "cell_type": "code",
     "collapsed": false,
     "input": [
      "using Distributions"
     ],
     "language": "python",
     "metadata": {},
     "outputs": [],
     "prompt_number": 1
    },
    {
     "cell_type": "markdown",
     "metadata": {},
     "source": [
      "A RV is a new type that is used for sampling graphical models. \n",
      "<br>It contains a distribution function, which can be called with rand, a name (optional, but can save bytes) and parents, whos value is important for the distgenerator function.\n"
     ]
    },
    {
     "cell_type": "code",
     "collapsed": false,
     "input": [
      "type RV\n",
      "    distgenerator::Function\n",
      "    name #String or Char\n",
      "    parents\n",
      "end"
     ],
     "language": "python",
     "metadata": {},
     "outputs": [],
     "prompt_number": 2
    },
    {
     "cell_type": "markdown",
     "metadata": {},
     "source": [
      "Some test examples for 2 diamond structured models"
     ]
    },
    {
     "cell_type": "code",
     "collapsed": false,
     "input": [
      "A = RV(() -> Normal(), \"A\", [])\n",
      "B = RV((x)-> Normal(x,1), \"B\", [A])\n",
      "C = RV((x)-> Normal(x,1), \"C\", [A])\n",
      "D = RV((x,y)-> Normal(x, abs(y)), \"D\", [B,C])\n",
      "\n",
      "\n",
      "W = RV(() -> Bernoulli(), 'W', [])\n",
      "X = RV((x)-> Bernoulli(x), 'X', [W])\n",
      "Y = RV((x)-> Bernoulli(x), 'Y', [W])\n",
      "Z = RV((x,y)-> Binomial(int(x), int(y)), 'Z', [X,Y])\n",
      "\n",
      "#stay"
     ],
     "language": "python",
     "metadata": {},
     "outputs": [
      {
       "metadata": {},
       "output_type": "pyout",
       "prompt_number": 3,
       "text": [
        "RV((anonymous function),'Z',[RV((anonymous function),'X',[RV((anonymous function),'W',None[])]),RV((anonymous function),'Y',[RV((anonymous function),'W',None[])])])"
       ]
      },
      {
       "metadata": {},
       "output_type": "pyout",
       "prompt_number": 4,
       "text": [
        "RV((anonymous function),'Z',[RV((anonymous function),'X',[RV((anonymous function),'W',None[])]),RV((anonymous function),'Y',[RV((anonymous function),'W',None[])])])"
       ]
      }
     ],
     "prompt_number": 4
    },
    {
     "cell_type": "markdown",
     "metadata": {},
     "source": [
      "The basic sampleMethods. <br> The parents are called recursive and sampled. It's values are needed for the distgenerator function of the RV for which the sampleRV function is called. <br>\n",
      "The return value is a dictionary, which contains all variables that were sampled along the path to get a value for the RV."
     ]
    },
    {
     "cell_type": "code",
     "collapsed": false,
     "input": [
      "function sampleRV(r::RV)\n",
      "    function f!(r::RV, d::Dict{Any,Any})\n",
      "        key = hash(r)\n",
      "        if !haskey(d, key)\n",
      "            vals = map((s)->f!(s,d), r.parents)\n",
      "            d[key] = rand(r.distgenerator(vals...))\n",
      "        end\n",
      "        return d[key]\n",
      "    end\n",
      "    d = Dict()\n",
      "    f!(r, d)\n",
      "    return d\n",
      "end\n",
      "\n",
      "function sampleRVN(r::RV)\n",
      "    function f!(r::RV, d::Dict{Any,Any})\n",
      "        key = r.name\n",
      "        if !haskey(d, key)\n",
      "            vals = map((s)->f!(s,d), r.parents)\n",
      "            d[key] = rand(r.distgenerator(vals...))\n",
      "        end\n",
      "        return d[key]\n",
      "    end\n",
      "    d = Dict()\n",
      "    f!(r, d)\n",
      "    return d\n",
      "end\n"
     ],
     "language": "python",
     "metadata": {},
     "outputs": [
      {
       "metadata": {},
       "output_type": "pyout",
       "prompt_number": 5,
       "text": [
        "sampleRVN (generic function with 1 method)"
       ]
      }
     ],
     "prompt_number": 5
    },
    {
     "cell_type": "markdown",
     "metadata": {},
     "source": [
      "To give the user a more friendly opportunity to write a condition for a sample, a condition macro is introduced. <br>\n",
      "It's purpose is to translate a quoted condition like :(A < 0) into a lookup in the dictionary\n",
      "<br>\n",
      "The macro is not perfect and will be reworked soon"
     ]
    },
    {
     "cell_type": "code",
     "collapsed": false,
     "input": [
      "#function and macro for the rejection sampler condition\n",
      "\n",
      "substitute(expr::Expr) = Expr(expr.head, substitute(expr.args)...)\n",
      "substitute(expr::Symbol) = substitute(eval(expr))\n",
      "substitute(expr::RV) = :($(d[(expr.name)]))\n",
      "substitute(expr::Array) = map(substitute, expr)\n",
      "substitute(expr) = expr\n",
      "\n",
      "macro cond(expr)\n",
      "    return :(substitute(expr))\n",
      "end"
     ],
     "language": "python",
     "metadata": {},
     "outputs": [],
     "prompt_number": 9
    },
    {
     "cell_type": "markdown",
     "metadata": {},
     "source": [
      "A simple version for a rejection sampler.\n",
      "<br>\n",
      "The variable is sampled and the condition checked until the condition returns true, OR the condition could not be fullfilled after a given number of attempts.\n",
      "<br> The return value is a dictionary that contains all values that were needed to sample the RV and fullfills the condition."
     ]
    },
    {
     "cell_type": "code",
     "collapsed": false,
     "input": [
      "function RVrejectionSampler(r :: RV, expr, trys:: Int64 = 10000, margin:: Float64 = 0.0) \n",
      "    global d = sampleRVN(r)\n",
      "    cond = @cond expr\n",
      "    while eval(cond) == false && trys > 0\n",
      "        d = sampleRVN(r)\n",
      "        cond = @cond expr\n",
      "        trys -= 1\n",
      "    end\n",
      "    if trys == 0 return error (\"Did not reach goal within given number of attempts\") end\n",
      "    \n",
      "    return d\n",
      "end"
     ],
     "language": "python",
     "metadata": {},
     "outputs": [
      {
       "metadata": {},
       "output_type": "pyout",
       "prompt_number": 15,
       "text": [
        "RVrejectionSampler (generic function with 3 methods)"
       ]
      }
     ],
     "prompt_number": 15
    },
    {
     "cell_type": "code",
     "collapsed": false,
     "input": [
      "function sampleRVTimes2(r::RV, n :: Integer)\n",
      "    result = Dict[]\n",
      "    for i in 1:n\n",
      "        push!(result, sampleRVH(r))\n",
      "    end\n",
      "    result\n",
      "end\n",
      "\n",
      "#stay"
     ],
     "language": "python",
     "metadata": {},
     "outputs": [
      {
       "metadata": {},
       "output_type": "pyout",
       "prompt_number": 11,
       "text": [
        "sampleRVTimes2 (generic function with 1 method)"
       ]
      }
     ],
     "prompt_number": 11
    },
    {
     "cell_type": "code",
     "collapsed": false,
     "input": [
      "RVrejectionSampler(D, :(A<0 &&B<0&& C >0&& D>0 && A > -1))"
     ],
     "language": "python",
     "metadata": {},
     "outputs": [
      {
       "metadata": {},
       "output_type": "pyout",
       "prompt_number": 23,
       "text": [
        "Dict{Any,Any} with 4 entries:\n",
        "  \"B\" => -0.4634922644573826\n",
        "  \"A\" => -0.1702668885757227\n",
        "  \"C\" => 1.1214148845834133\n",
        "  \"D\" => 0.7862319019169433"
       ]
      }
     ],
     "prompt_number": 23
    },
    {
     "cell_type": "code",
     "collapsed": false,
     "input": [
      "function rejection_sampler()\n",
      " j = 1\n",
      " i = 0\n",
      " x = Array(Float64,1000)\n",
      " f = Array(Float64,1000)\n",
      " for i in 1000 \n",
      "    f[i] = rand(Normal(0.5,1)) \n",
      " end\n",
      "       while i < 1000\n",
      "           y = rand()\n",
      "           u = rand()\n",
      "           if u <= y\n",
      "               x[j] = y\n",
      "               j = j + 1\n",
      "               i = i + 1\n",
      "           end\n",
      "       end\n",
      "       hist(x);\n",
      "end"
     ],
     "language": "python",
     "metadata": {},
     "outputs": [
      {
       "metadata": {},
       "output_type": "pyout",
       "prompt_number": 50,
       "text": [
        "rejection_sampler (generic function with 1 method)"
       ]
      }
     ],
     "prompt_number": 50
    },
    {
     "cell_type": "code",
     "collapsed": false,
     "input": [
      "rejection_sampler()"
     ],
     "language": "python",
     "metadata": {},
     "outputs": [
      {
       "ename": "LoadError",
       "evalue": "InexactError()\nwhile loading In[51], in expression starting on line 1",
       "output_type": "pyerr",
       "traceback": [
        "InexactError()\nwhile loading In[51], in expression starting on line 1",
        "",
        " in searchsortedfirst at sort.jl:191",
        " in hist! at statistics.jl:589",
        " in rejection_sampler at In[50]:18"
       ]
      }
     ],
     "prompt_number": 51
    },
    {
     "cell_type": "code",
     "collapsed": false,
     "input": [],
     "language": "python",
     "metadata": {},
     "outputs": [
      {
       "metadata": {},
       "output_type": "pyout",
       "prompt_number": 32,
       "text": [
        "0.05399096651318806"
       ]
      }
     ],
     "prompt_number": 32
    },
    {
     "cell_type": "code",
     "collapsed": false,
     "input": [],
     "language": "python",
     "metadata": {},
     "outputs": []
    }
   ],
   "metadata": {}
  }
 ]
}