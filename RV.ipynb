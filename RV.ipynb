{
 "metadata": {
  "name": ""
 },
 "nbformat": 3,
 "nbformat_minor": 0,
 "worksheets": [
  {
   "cells": [
    {
     "cell_type": "code",
     "collapsed": false,
     "input": [
      "using Distributions"
     ],
     "language": "python",
     "metadata": {},
     "outputs": [],
     "prompt_number": 1
    },
    {
     "cell_type": "markdown",
     "metadata": {},
     "source": [
      "##First proposal:\n",
      "\n",
      "sample starts a chain of samples, updates the values of the rv and gives the information to the childs\n"
     ]
    },
    {
     "cell_type": "code",
     "collapsed": false,
     "input": [
      "type RV\n",
      "    distgenerator::Function\n",
      "    value\n",
      "    parents    \n",
      "end"
     ],
     "language": "python",
     "metadata": {},
     "outputs": [],
     "prompt_number": 2
    },
    {
     "cell_type": "code",
     "collapsed": false,
     "input": [
      "# Works perfectly for a RV with one parent\n",
      "function sample(r::RV)\n",
      "    print(r.parents)\n",
      "    print(length(r.parents))\n",
      "    if (r.value == null)\n",
      "        if (length(r. parents) == 0)\n",
      "            r.value = rand(r.distgenerator())\n",
      "        elseif (length(r.parents) == 1)\n",
      "            a = r.parents[1] \n",
      "            sample(a)\n",
      "            r.value = rand(r.distgenerator(a.value))\n",
      "        elseif (length(r.parents) == 2)\n",
      "            a = r.parents[1]\n",
      "            b = r.parents[2]\n",
      "            sample(a)\n",
      "            sample(b)\n",
      "            r.value = rand(r.distgenerator(a.value,b.value))\n",
      "        elseif (length(r.parents) == 3)\n",
      "            a = r.parents[1]\n",
      "            b = r.parents[2]\n",
      "            c = r.parents[3]\n",
      "            sample(a)\n",
      "            sample(b)\n",
      "            sample(c)\n",
      "            r.value = rand(r.distgenerator(a.value,b.value,c.value))\n",
      "        else \n",
      "            error (\"Don't know how to deal with more than 3 parents\")\n",
      "        end\n",
      "    else\n",
      "        return r.value\n",
      "    end\n",
      "end\n",
      "\n",
      "##what if a negative??\n"
     ],
     "language": "python",
     "metadata": {},
     "outputs": [
      {
       "metadata": {},
       "output_type": "pyout",
       "prompt_number": 78,
       "text": [
        "sample (generic function with 1 method)"
       ]
      }
     ],
     "prompt_number": 78
    },
    {
     "cell_type": "code",
     "collapsed": false,
     "input": [
      "function addParents(rv::RV, p::Array{RV,1})\n",
      "    rv.parents = [rv.parents, p]\n",
      "end"
     ],
     "language": "python",
     "metadata": {},
     "outputs": [
      {
       "metadata": {},
       "output_type": "pyout",
       "prompt_number": 15,
       "text": [
        "addParents (generic function with 1 method)"
       ]
      }
     ],
     "prompt_number": 15
    },
    {
     "cell_type": "code",
     "collapsed": false,
     "input": [
      "X = RV(() -> Normal(), null, [])\n",
      "Y = RV(()-> Normal(), null, [])\n",
      "Z = RV((x)-> Normal(x,1), null, [X])\n"
     ],
     "language": "python",
     "metadata": {},
     "outputs": [
      {
       "metadata": {},
       "output_type": "pyout",
       "prompt_number": 95,
       "text": [
        "RV((anonymous function),null,[RV((anonymous function),null,None[])])"
       ]
      }
     ],
     "prompt_number": 95
    },
    {
     "cell_type": "code",
     "collapsed": false,
     "input": [
      "sample(Z)"
     ],
     "language": "python",
     "metadata": {},
     "outputs": [
      {
       "output_type": "stream",
       "stream": "stdout",
       "text": [
        "[RV"
       ]
      },
      {
       "output_type": "stream",
       "stream": "stdout",
       "text": [
        "((anonymous function),null,None[])]1None[]0"
       ]
      },
      {
       "metadata": {},
       "output_type": "pyout",
       "prompt_number": 96,
       "text": [
        "0.7723419538081631"
       ]
      }
     ],
     "prompt_number": 96
    },
    {
     "cell_type": "code",
     "collapsed": false,
     "input": [],
     "language": "python",
     "metadata": {},
     "outputs": [
      {
       "ename": "LoadError",
       "evalue": "wrong number of arguments\nwhile loading In[58], in expression starting on line 2",
       "output_type": "pyerr",
       "traceback": [
        "wrong number of arguments\nwhile loading In[58], in expression starting on line 2",
        "",
        " in anonymous at In[58]:1"
       ]
      }
     ],
     "prompt_number": 58
    },
    {
     "cell_type": "code",
     "collapsed": false,
     "input": [],
     "language": "python",
     "metadata": {},
     "outputs": [
      {
       "metadata": {},
       "output_type": "pyout",
       "prompt_number": 39,
       "text": [
        "1"
       ]
      }
     ],
     "prompt_number": 39
    },
    {
     "cell_type": "code",
     "collapsed": false,
     "input": [],
     "language": "python",
     "metadata": {},
     "outputs": [],
     "prompt_number": 4
    },
    {
     "cell_type": "code",
     "collapsed": false,
     "input": [],
     "language": "python",
     "metadata": {},
     "outputs": [],
     "prompt_number": 5
    },
    {
     "cell_type": "code",
     "collapsed": false,
     "input": [],
     "language": "python",
     "metadata": {},
     "outputs": [],
     "prompt_number": 6
    },
    {
     "cell_type": "code",
     "collapsed": false,
     "input": [],
     "language": "python",
     "metadata": {},
     "outputs": [],
     "prompt_number": 7
    },
    {
     "cell_type": "code",
     "collapsed": false,
     "input": [],
     "language": "python",
     "metadata": {},
     "outputs": [],
     "prompt_number": 8
    },
    {
     "cell_type": "code",
     "collapsed": false,
     "input": [],
     "language": "python",
     "metadata": {},
     "outputs": [],
     "prompt_number": 9
    },
    {
     "cell_type": "code",
     "collapsed": false,
     "input": [],
     "language": "python",
     "metadata": {},
     "outputs": [],
     "prompt_number": 10
    },
    {
     "cell_type": "code",
     "collapsed": false,
     "input": [],
     "language": "python",
     "metadata": {},
     "outputs": [],
     "prompt_number": 11
    },
    {
     "cell_type": "code",
     "collapsed": false,
     "input": [],
     "language": "python",
     "metadata": {},
     "outputs": [],
     "prompt_number": 12
    },
    {
     "cell_type": "code",
     "collapsed": false,
     "input": [],
     "language": "python",
     "metadata": {},
     "outputs": []
    }
   ],
   "metadata": {}
  }
 ]
}