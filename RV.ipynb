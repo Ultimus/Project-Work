{
 "metadata": {
  "name": ""
 },
 "nbformat": 3,
 "nbformat_minor": 0,
 "worksheets": [
  {
   "cells": [
    {
     "cell_type": "raw",
     "metadata": {},
     "source": [
      "This is a new, more functional, approach to PPL in julia. \n",
      "\n",
      "\n",
      "Note: functions with a ! set state."
     ]
    },
    {
     "cell_type": "code",
     "collapsed": false,
     "input": [
      "using Distributions\n",
      "#stays"
     ],
     "language": "python",
     "metadata": {},
     "outputs": [],
     "prompt_number": 1
    },
    {
     "cell_type": "code",
     "collapsed": false,
     "input": [
      "using Gadfly"
     ],
     "language": "python",
     "metadata": {},
     "outputs": []
    },
    {
     "cell_type": "code",
     "collapsed": false,
     "input": [
      "type RV\n",
      "    distgenerator::Function\n",
      "    name #String or Char\n",
      "    parents\n",
      "end"
     ],
     "language": "python",
     "metadata": {},
     "outputs": [],
     "prompt_number": 2
    },
    {
     "cell_type": "code",
     "collapsed": false,
     "input": [
      "A = RV(() -> Normal(), \"A\", [])\n",
      "B = RV((x)-> Normal(x,1), \"B\", [A])\n",
      "C = RV((x)-> Normal(x,1), \"C\", [A])\n",
      "D = RV((x,y)-> Normal(x, abs(y)), \"D\", [B,C])\n",
      "\n",
      "\n",
      "W = RV(() -> Bernoulli(), 'W', [])\n",
      "X = RV((x)-> Bernoulli(x), 'X', [W])\n",
      "Y = RV((x)-> Bernoulli(x), 'Y', [W])\n",
      "Z = RV((x,y)-> Binomial(int(x), int(y)), 'Z', [X,Y])\n",
      "\n",
      "#stay"
     ],
     "language": "python",
     "metadata": {},
     "outputs": [
      {
       "metadata": {},
       "output_type": "pyout",
       "prompt_number": 3,
       "text": [
        "RV((anonymous function),'Z',[RV((anonymous function),'X',[RV((anonymous function),'W',None[])]),RV((anonymous function),'Y',[RV((anonymous function),'W',None[])])])"
       ]
      }
     ],
     "prompt_number": 3
    },
    {
     "cell_type": "code",
     "collapsed": false,
     "input": [
      "#hash table approach\n",
      "function sampleRVH(r:: RV, d::Dict{Any,Any} = Dict())\n",
      "    if !haskey(d, hash(r))\n",
      "        if (r.parents == []) # case top variable without parents\n",
      "            return merge(d, {hash(r) => rand(r.distgenerator())}) \n",
      "        end\n",
      "        #case variable with parents\n",
      "       vals = Array(Float64,size(r.parents)[1],1)\n",
      "       counter = 1\n",
      "       for i in r.parents \n",
      "           merge!(d, sampleRVH(i,d))\n",
      "           vals[counter] =  d[hash(i)] #collect all values\n",
      "           counter +=1\n",
      "        end\n",
      "        return merge(d, {hash(r) => rand(r.distgenerator(vals...))})\n",
      "    else\n",
      "        return d\n",
      "    end\n",
      "    return d\n",
      "end\n",
      "\n",
      "function sampleRVH2(r::RV)\n",
      "    function f!(r::RV, d::Dict{Any,Any})\n",
      "        key = hash(r)\n",
      "        if !haskey(d, key)\n",
      "            vals = map((s)->f!(s,d), r.parents)\n",
      "            d[key] = rand(r.distgenerator(vals...))\n",
      "        end\n",
      "        return d[key]\n",
      "    end\n",
      "    d = Dict()\n",
      "    f!(r, d)\n",
      "    return d\n",
      "end\n",
      "\n",
      "function sampleRVHName2(r::RV)\n",
      "    function f!(r::RV, d::Dict{Any,Any})\n",
      "        key = r.name\n",
      "        if !haskey(d, key)\n",
      "            vals = map((s)->f!(s,d), r.parents)\n",
      "            d[key] = rand(r.distgenerator(vals...))\n",
      "        end\n",
      "        return d[key]\n",
      "    end\n",
      "    d = Dict()\n",
      "    f!(r, d)\n",
      "    return d\n",
      "end\n",
      "\n",
      "#stay, maybe rework\n",
      "\n",
      "function sampleRVHName(r:: RV, d::Dict{Any,Any} = Dict())#d:: Dict{Uint64, Float64})#    \n",
      "    if (get(d, r.name, null) == null)\n",
      "        if (r.parents == []) # case top variable without parents\n",
      "            return merge(d, {r.name => rand(r.distgenerator())}) \n",
      "        end\n",
      "        #case variable with parents\n",
      "       vals = Array(Float64,size(r.parents)[1],1)\n",
      "       counter = 1\n",
      "       for i in r.parents \n",
      "           merge!(d, sampleRVHName(i,d))\n",
      "           vals[counter] =  d[i.name] #collect all values\n",
      "           counter +=1\n",
      "        end\n",
      "        return merge(d, {r.name => rand(r.distgenerator(vals...))})\n",
      "    else\n",
      "        return d\n",
      "    end\n",
      "    return d\n",
      "end\n",
      "\n"
     ],
     "language": "python",
     "metadata": {},
     "outputs": [
      {
       "metadata": {},
       "output_type": "pyout",
       "prompt_number": 88,
       "text": [
        "sampleRVHName (generic function with 2 methods)"
       ]
      }
     ],
     "prompt_number": 88
    },
    {
     "cell_type": "code",
     "collapsed": false,
     "input": [
      "sampleRVH2(Z)"
     ],
     "language": "python",
     "metadata": {},
     "outputs": [
      {
       "metadata": {},
       "output_type": "pyout",
       "prompt_number": 7,
       "text": [
        "Dict{Any,Any} with 4 entries:\n",
        "  0xdb2e88955d87254d => 1\n",
        "  0xc96cd373059aadc0 => 1\n",
        "  0x1ca5cf877e3f689b => 1\n",
        "  0x38ad3c5a2a9f593b => 1"
       ]
      }
     ],
     "prompt_number": 7
    },
    {
     "cell_type": "code",
     "collapsed": false,
     "input": [
      "@time sampleRVHName(D)  #name function needs some fewer bytes. maybe the dictionary part can be optimized\n",
      "@time sampleRVH(D)\n",
      "@time sampleRVH2(D)\n",
      "@time sampleRVHName2(D)#"
     ],
     "language": "python",
     "metadata": {},
     "outputs": [
      {
       "output_type": "stream",
       "stream": "stdout",
       "text": [
        "elapsed time: 6"
       ]
      },
      {
       "output_type": "stream",
       "stream": "stdout",
       "text": [
        ".902e-5 seconds (7136 bytes allocated)\n",
        "elapsed time: 4.2367e-5 seconds (7776 bytes allocated)\n",
        "elapsed time: 2.4007e-5 seconds (2520 bytes allocated)\n",
        "elapsed time: 4.1613e-5 seconds (2296 bytes allocated)\n"
       ]
      },
      {
       "metadata": {},
       "output_type": "pyout",
       "prompt_number": 91,
       "text": [
        "Dict{Any,Any} with 4 entries:\n",
        "  \"B\" => -0.21071246694047763\n",
        "  \"A\" => -0.7983707975842845\n",
        "  \"C\" => 0.1489127504604344\n",
        "  \"D\" => -0.2256339789666414"
       ]
      }
     ],
     "prompt_number": 91
    },
    {
     "cell_type": "code",
     "collapsed": false,
     "input": [
      "#function and macro for the rejection sampler condition\n",
      "\n",
      "substitute(expr::Expr) = Expr(expr.head, substitute(expr.args)...)\n",
      "substitute(expr::Symbol) = substitute(eval(expr))\n",
      "substitute(expr::RV) = :($(d[(expr.name)]))\n",
      "substitute(expr::Array) = map(substitute, expr)\n",
      "substitute(expr) = expr\n",
      "\n",
      "macro cond(expr)\n",
      "    return :(substitute(expr))\n",
      "end"
     ],
     "language": "python",
     "metadata": {},
     "outputs": [],
     "prompt_number": 248
    },
    {
     "cell_type": "code",
     "collapsed": false,
     "input": [
      "function RVrejectionSampler(r :: RV, expr, trys:: Int64 = 10000, margin:: Float64 = 0.0) \n",
      "    global d = sampleRVHName2(r)\n",
      "    cond = substitute(expr)\n",
      "    while eval(cond) == false && trys > 0\n",
      "        d = sampleRVHName2(r)\n",
      "        cond = substitute(expr)\n",
      "        trys -= 1\n",
      "    end\n",
      "    if trys == 0 return error (\"Did not reach goal within given number of attempts\") end\n",
      "    \n",
      "    return d\n",
      "end"
     ],
     "language": "python",
     "metadata": {},
     "outputs": [
      {
       "metadata": {},
       "output_type": "pyout",
       "prompt_number": 268,
       "text": [
        "marginCheck (generic function with 1 method)"
       ]
      }
     ],
     "prompt_number": 268
    },
    {
     "cell_type": "code",
     "collapsed": false,
     "input": [
      "RVrejectionSampler(D, :(A< 0 && B < 0 && C > 0 && D < 0))"
     ],
     "language": "python",
     "metadata": {},
     "outputs": [
      {
       "metadata": {},
       "output_type": "pyout",
       "prompt_number": 269,
       "text": [
        "Dict{Any,Any} with 4 entries:\n",
        "  \"B\" => -0.3207069557362202\n",
        "  \"A\" => -0.35595029875216133\n",
        "  \"C\" => 1.5002980132893433\n",
        "  \"D\" => -2.242359540433516"
       ]
      }
     ],
     "prompt_number": 269
    },
    {
     "cell_type": "code",
     "collapsed": false,
     "input": [],
     "language": "python",
     "metadata": {},
     "outputs": [
      {
       "metadata": {},
       "output_type": "pyout",
       "prompt_number": 243,
       "text": [
        "0"
       ]
      }
     ],
     "prompt_number": 243
    },
    {
     "cell_type": "code",
     "collapsed": false,
     "input": [
      "#marginCheck((x)-> x==5, 0.6652729874902327, 9)\n",
      "RVrejectionSampler(Z, (x) -> x <= 0, 10, 50.0) #better work with \"less-than\" or \"greater-than\" and not with \"equals\""
     ],
     "language": "python",
     "metadata": {},
     "outputs": [
      {
       "metadata": {},
       "output_type": "pyout",
       "prompt_number": 21,
       "text": [
        "Dict{Any,Any} with 4 entries:\n",
        "  0x52aac852665895de => 0\n",
        "  0xc3aa06a6ce41f9e7 => 0\n",
        "  0x5ae1fc801426ae68 => 0\n",
        "  0x574996002ad958dd => 0"
       ]
      }
     ],
     "prompt_number": 21
    },
    {
     "cell_type": "code",
     "collapsed": false,
     "input": [
      "#function where a variable is sampled n times. The return value shall be an dict\n",
      "#keys are the hash values of variables and the belonging values are arrays with the sampled values\n",
      "\n",
      "function sampleRVTimes1(r:: RV ,n:: Integer)\n",
      "    dict = sampleRVH(r)\n",
      "    result = Dict()\n",
      "    for key in keys(dict)\n",
      "        merge!(result, {key => [dict[key]]})\n",
      "    end\n",
      "\n",
      "    for i in 1:n \n",
      "        dict = sampleRVH(r)\n",
      "        for key in keys(dict)\n",
      "            merge!(result, {key => push!(result[key], dict[key])})\n",
      "        end\n",
      "    end\n",
      "    result\n",
      "end"
     ],
     "language": "python",
     "metadata": {},
     "outputs": [
      {
       "metadata": {},
       "output_type": "pyout",
       "prompt_number": 7,
       "text": [
        "sampleRVTimes1 (generic function with 1 method)"
       ]
      }
     ],
     "prompt_number": 7
    },
    {
     "cell_type": "code",
     "collapsed": false,
     "input": [
      "function sampleRVTimes11(r:: RV ,n:: Integer)\n",
      "    dict = sampleRVH(r)\n",
      "    result = Dict()\n",
      "    for key in keys(dict)\n",
      "        merge!(result, {key => [dict[key]]})\n",
      "    end\n",
      "    \n",
      "    for key in keys(dict)\n",
      "        merge!(result,  {key => Array(Float64,n,1)})\n",
      "    end\n",
      "    \n",
      "    for i in 1:n \n",
      "        dict = sampleRVH(r)\n",
      "        for key in keys(dict)\n",
      "            result[key][i] = dict[key]\n",
      "            #merge!(result, key => result[key][i] = dict[key])\n",
      "        end\n",
      "    end\n",
      "    result\n",
      "end"
     ],
     "language": "python",
     "metadata": {},
     "outputs": [
      {
       "metadata": {},
       "output_type": "pyout",
       "prompt_number": 8,
       "text": [
        "sampleRVTimes11 (generic function with 1 method)"
       ]
      }
     ],
     "prompt_number": 8
    },
    {
     "cell_type": "code",
     "collapsed": false,
     "input": [
      "function sampleRVTimes2(r::RV, n :: Integer)\n",
      "    result = Dict[]\n",
      "    for i in 1:n\n",
      "        push!(result, sampleRVH(r))\n",
      "    end\n",
      "    result\n",
      "end\n",
      "\n",
      "#stay"
     ],
     "language": "python",
     "metadata": {},
     "outputs": [
      {
       "metadata": {},
       "output_type": "pyout",
       "prompt_number": 9,
       "text": [
        "sampleRVTimes2 (generic function with 1 method)"
       ]
      }
     ],
     "prompt_number": 9
    },
    {
     "cell_type": "code",
     "collapsed": false,
     "input": [
      "#Benchmark for sampleRVHTimes1 and 2\n",
      "@time sampleRVTimes1(D,10000) #lapsed time: 0.49265976 seconds (132503320 bytes allocated, 22.38% gc time)\n",
      "@time sampleRVTimes2(D,10000) #lapsed time: 0.324558497 seconds (76503168 bytes allocated, 36.95% gc time)\n",
      "                                                                #\n",
      "                                                                #79354344 RVTimes1 with array size"
     ],
     "language": "python",
     "metadata": {},
     "outputs": [
      {
       "output_type": "stream",
       "stream": "stdout",
       "text": [
        "elapsed time: 0."
       ]
      },
      {
       "output_type": "stream",
       "stream": "stdout",
       "text": [
        "455586012 seconds (105063376 bytes allocated, 27.75% gc time)\n",
        "elapsed time: "
       ]
      },
      {
       "output_type": "stream",
       "stream": "stdout",
       "text": [
        "0.315462283 seconds (77223168 bytes allocated, 39.48% gc time)\n"
       ]
      },
      {
       "metadata": {},
       "output_type": "pyout",
       "prompt_number": 17,
       "text": [
        "10000-element Array{Dict{K,V},1}:\n",
        " {0x5720ad88b6fd8771=>0.9506630799234177,0xb6ba13dcec505c62=>1.5132350862145443,0xaead1196296d9d17=>0.799319724488626,0x2ebc083399e57183=>1.213688864847434}       \n",
        " {0x5720ad88b6fd8771=>2.2747540633706462,0xb6ba13dcec505c62=>0.6491712518487982,0xaead1196296d9d17=>2.9009769381458455,0x2ebc083399e57183=>0.9148970124369926}     \n",
        " {0x5720ad88b6fd8771=>-2.3305666041675033,0xb6ba13dcec505c62=>-1.7981271356700532,0xaead1196296d9d17=>-2.386835647762277,0x2ebc083399e57183=>-0.5775001192659062}  \n",
        " {0x5720ad88b6fd8771=>-1.2568826191082154,0xb6ba13dcec505c62=>0.3265190496483615,0xaead1196296d9d17=>-1.0817508303003909,0x2ebc083399e57183=>0.510151149017961}    \n",
        " {0x5720ad88b6fd8771=>-1.2938474945949743,0xb6ba13dcec505c62=>0.48606747557634333,0xaead1196296d9d17=>-0.07669047644106852,0x2ebc083399e57183=>1.8447213171625365} \n",
        " {0x5720ad88b6fd8771=>-0.6635796848965322,0xb6ba13dcec505c62=>0.8242531015012715,0xaead1196296d9d17=>-0.7659441160957472,0x2ebc083399e57183=>0.29931223720165867}  \n",
        " {0x5720ad88b6fd8771=>-2.423062916944126,0xb6ba13dcec505c62=>-0.7516185396636947,0xaead1196296d9d17=>-1.6483458760508465,0x2ebc083399e57183=>-0.9292434389135956}  \n",
        " {0x5720ad88b6fd8771=>1.2325454963499007,0xb6ba13dcec505c62=>-0.005997747930169963,0xaead1196296d9d17=>1.4016321164466599,0x2ebc083399e57183=>-0.31126707760795874}\n",
        " {0x5720ad88b6fd8771=>9.383883644562278,0xb6ba13dcec505c62=>1.329368999137876,0xaead1196296d9d17=>2.213685774383438,0x2ebc083399e57183=>1.8400898090607458}        \n",
        " {0x5720ad88b6fd8771=>0.8053548143068558,0xb6ba13dcec505c62=>0.36107184313082813,0xaead1196296d9d17=>0.970401884238095,0x2ebc083399e57183=>0.4218361749600188}     \n",
        " {0x5720ad88b6fd8771=>-0.8374370801683173,0xb6ba13dcec505c62=>-0.2137117405058605,0xaead1196296d9d17=>-0.8029789943322787,0x2ebc083399e57183=>0.04399490670864531} \n",
        " {0x5720ad88b6fd8771=>-1.6148726128115785,0xb6ba13dcec505c62=>-1.2728234488697456,0xaead1196296d9d17=>-1.4469203485443867,0x2ebc083399e57183=>-0.22650028007549738}\n",
        " {0x5720ad88b6fd8771=>-0.2789731731630761,0xb6ba13dcec505c62=>-0.2941172426289244,0xaead1196296d9d17=>-0.03263205233123723,0x2ebc083399e57183=>-0.3293585033176013}\n",
        " \u22ee                                                                                                                                                                 \n",
        " {0x5720ad88b6fd8771=>-1.1884150111088858,0xb6ba13dcec505c62=>-0.43229635857096677,0xaead1196296d9d17=>-1.3147955784941852,0x2ebc083399e57183=>0.47779018075502794}\n",
        " {0x5720ad88b6fd8771=>2.521971168056672,0xb6ba13dcec505c62=>1.0347213031415923,0xaead1196296d9d17=>2.5041134416666324,0x2ebc083399e57183=>0.5824358549986992}      \n",
        " {0x5720ad88b6fd8771=>2.7757518538163226,0xb6ba13dcec505c62=>-0.496915962848818,0xaead1196296d9d17=>0.8236487221598745,0x2ebc083399e57183=>-1.3089044963618957}    \n",
        " {0x5720ad88b6fd8771=>-2.461406872951729,0xb6ba13dcec505c62=>-0.7995680212659925,0xaead1196296d9d17=>0.13982245296120976,0x2ebc083399e57183=>-1.864054605713172}   \n",
        " {0x5720ad88b6fd8771=>1.094166780523739,0xb6ba13dcec505c62=>0.4065653016897954,0xaead1196296d9d17=>1.0022163485421263,0x2ebc083399e57183=>-0.044497030975417295}   \n",
        " {0x5720ad88b6fd8771=>0.7637663912909538,0xb6ba13dcec505c62=>0.7126658978874799,0xaead1196296d9d17=>0.8322276059261239,0x2ebc083399e57183=>0.18443833179997726}    \n",
        " {0x5720ad88b6fd8771=>3.24107820958072,0xb6ba13dcec505c62=>1.344256361137406,0xaead1196296d9d17=>2.118918283455031,0x2ebc083399e57183=>1.3544269864672893}         \n",
        " {0x5720ad88b6fd8771=>-1.0408955131879671,0xb6ba13dcec505c62=>0.8627023741791519,0xaead1196296d9d17=>-0.9208257410772077,0x2ebc083399e57183=>1.5382810349619884}   \n",
        " {0x5720ad88b6fd8771=>-0.27500743259166227,0xb6ba13dcec505c62=>-0.5543850524018868,0xaead1196296d9d17=>-1.0602129551429218,0x2ebc083399e57183=>-1.1824940585414412}\n",
        " {0x5720ad88b6fd8771=>0.8152905044415143,0xb6ba13dcec505c62=>0.6708184222306581,0xaead1196296d9d17=>1.0484320096977593,0x2ebc083399e57183=>0.2731678365716751}     \n",
        " {0x5720ad88b6fd8771=>-0.024736298286092806,0xb6ba13dcec505c62=>0.39175947250072696,0xaead1196296d9d17=>-0.353938830720988,0x2ebc083399e57183=>-0.4925595801420751}\n",
        " {0x5720ad88b6fd8771=>0.1461055088481671,0xb6ba13dcec505c62=>0.4671244431739678,0xaead1196296d9d17=>0.14117621061447383,0x2ebc083399e57183=>0.005538959011710531}  "
       ]
      }
     ],
     "prompt_number": 17
    },
    {
     "cell_type": "code",
     "collapsed": false,
     "input": [
      "function getAverage1(dict)\n",
      "    average = [0.0, 0.0, 0.0, 0.0]\n",
      "    i = 1\n",
      "    for key in keys(dict)\n",
      "        for j in dict[key]\n",
      "            average[i] += j\n",
      "        end\n",
      "        i +=1\n",
      "    end\n",
      "    average\n",
      "end\n",
      "\n",
      "function getAverage2(dict)\n",
      "    average = [0.0, 0.0, 0.0, 0.0]\n",
      "    i = 1\n",
      "    for j in dict\n",
      "        for key in keys(j)\n",
      "                #println(key)\n",
      "                average[i] += j[key] \n",
      "                i +=1\n",
      "        end\n",
      "        i = 1\n",
      "    end\n",
      "    average\n",
      "end"
     ],
     "language": "python",
     "metadata": {},
     "outputs": [
      {
       "metadata": {},
       "output_type": "pyout",
       "prompt_number": 10,
       "text": [
        "getAverage2 (generic function with 1 method)"
       ]
      }
     ],
     "prompt_number": 10
    },
    {
     "cell_type": "code",
     "collapsed": false,
     "input": [
      "@time getAverage1(sampleRVTimes1(D,10000))\n",
      "@time getAverage2(sampleRVTimes2(D, 10000))"
     ],
     "language": "python",
     "metadata": {},
     "outputs": [
      {
       "output_type": "stream",
       "stream": "stdout",
       "text": [
        "elapsed time: 0."
       ]
      },
      {
       "output_type": "stream",
       "stream": "stdout",
       "text": [
        "454454759 seconds (110082280 bytes allocated, 17.37% gc time)\n",
        "elapsed time: "
       ]
      },
      {
       "output_type": "stream",
       "stream": "stdout",
       "text": [
        "0.316839358 seconds (81141228 bytes allocated, 25.28% gc time)\n"
       ]
      },
      {
       "metadata": {},
       "output_type": "pyout",
       "prompt_number": 13,
       "text": [
        "4-element Array{Float64,1}:\n",
        "   32.0924\n",
        "  -41.4891\n",
        " -102.674 \n",
        "  128.251 "
       ]
      }
     ],
     "prompt_number": 13
    },
    {
     "cell_type": "code",
     "collapsed": false,
     "input": [
      "function sampleRV_rejection_ntimes(r::RV, cond :: Function, n :: Integer, trys :: Integer = 10000, margin :: Float64 = 0.0)\n",
      "    result = Dict[]\n",
      "    for i in 1:n\n",
      "        push!(result, RVrejectionSampler(r, cond, trys, margin))\n",
      "    end\n",
      "    result\n",
      "end\n",
      "\n",
      "#stay, maybe rework interface"
     ],
     "language": "python",
     "metadata": {},
     "outputs": [
      {
       "metadata": {},
       "output_type": "pyout",
       "prompt_number": 22,
       "text": [
        "sampleRV_rejection_ntimes (generic function with 3 methods)"
       ]
      }
     ],
     "prompt_number": 22
    },
    {
     "cell_type": "code",
     "collapsed": false,
     "input": [
      "sampleRV_rejection_ntimes(D, (x)-> x < 2 && x> 0, 5)"
     ],
     "language": "python",
     "metadata": {},
     "outputs": [
      {
       "metadata": {},
       "output_type": "pyout",
       "prompt_number": 24,
       "text": [
        "5-element Array{Dict{K,V},1}:\n",
        " {0x5720ad88b6fd8771=>0.57175448068297,0xb6ba13dcec505c62=>-0.005523011791353501,0xaead1196296d9d17=>0.4440469051001697,0x2ebc083399e57183=>0.1188596046875847}\n",
        " {0x5720ad88b6fd8771=>1.086332148090679,0xb6ba13dcec505c62=>-0.2382880030942665,0xaead1196296d9d17=>1.017577651710815,0x2ebc083399e57183=>-1.8482362230197606} \n",
        " {0x5720ad88b6fd8771=>1.38889197288651,0xb6ba13dcec505c62=>1.4645951332732847,0xaead1196296d9d17=>1.3244800501131742,0x2ebc083399e57183=>0.5945017838212686}   \n",
        " {0x5720ad88b6fd8771=>0.8354623627523117,0xb6ba13dcec505c62=>0.10602526992277969,0xaead1196296d9d17=>0.716072816019705,0x2ebc083399e57183=>0.2731851320010862} \n",
        " {0x5720ad88b6fd8771=>0.7518317737803756,0xb6ba13dcec505c62=>0.5262443909222823,0xaead1196296d9d17=>1.3427559101904636,0x2ebc083399e57183=>0.5501875431341543} "
       ]
      }
     ],
     "prompt_number": 24
    },
    {
     "cell_type": "code",
     "collapsed": false,
     "input": [
      "# Problem: what variable will we sample, what if the variables are not dependent from each other?\n",
      "\n",
      "function RVrejectionSampler(rs::Array{RV,1}, expr :: Function, trys :: Int64 = 10000, margin::Float64 = 0.0)\n",
      "    dict=sampleRVHName(r)\n",
      "    #collect values\n",
      "    vals = Float64(size(rs)[1],1)\n",
      "    i = 1\n",
      "    for r in rs\n",
      "        vals[i] = dict(r)\n",
      "        i += 1\n",
      "    end\n",
      "    while expr(vals...) == false && trys > 0\n",
      "        dict = sampleRVH(r)\n",
      "    end\n",
      "    \n",
      "end"
     ],
     "language": "python",
     "metadata": {},
     "outputs": []
    },
    {
     "cell_type": "code",
     "collapsed": false,
     "input": [
      "function condition(d::Dict)\n",
      "   return d[hash(A)] < 8\n",
      "end\n",
      "\n",
      "\n",
      "function rejectionSampleRVH(r::RV, @cond A < 8)\n",
      "    while True\n",
      "        d = sampleRVH2(r)\n",
      "        if condition(d) return d[hash(r)]\n",
      "    end\n",
      "    \n",
      "end\n"
     ],
     "language": "python",
     "metadata": {},
     "outputs": []
    },
    {
     "cell_type": "code",
     "collapsed": false,
     "input": [
      "isRV(expr) = typeof(expr) == RV\n",
      "tf(expr) = d[hash($expr)]\n",
      "function substitute(expr)\n",
      "    if typeof(expr) == expression\n",
      "        substitue(expr.head)\n",
      "        map(substitute, expr.args)\n",
      "    else typeof(expr) = RV\n",
      "        expr = d[hash($expr)]\n",
      "    end\n",
      "    expr\n",
      "end\n",
      "macro cond(expr)\n",
      "    newexpr = substitute(:expr)\n",
      "    quote\n",
      "        (d)->newexpr\n",
      "    end\n",
      "end"
     ],
     "language": "python",
     "metadata": {},
     "outputs": [],
     "prompt_number": 9
    }
   ],
   "metadata": {}
  }
 ]
}