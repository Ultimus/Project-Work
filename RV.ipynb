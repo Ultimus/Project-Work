{
 "metadata": {
  "name": ""
 },
 "nbformat": 3,
 "nbformat_minor": 0,
 "worksheets": [
  {
   "cells": [
    {
     "cell_type": "code",
     "collapsed": false,
     "input": [
      "using Distributions"
     ],
     "language": "python",
     "metadata": {},
     "outputs": [],
     "prompt_number": 13
    },
    {
     "cell_type": "markdown",
     "metadata": {},
     "source": [
      "##First proposal:\n",
      "\n",
      "sample starts a chain of samples, updates the values of the rv and gives the information to the childs\n"
     ]
    },
    {
     "cell_type": "code",
     "collapsed": false,
     "input": [
      "f(a,b) = a+ b\n",
      "f([17,32]...)"
     ],
     "language": "python",
     "metadata": {},
     "outputs": [
      {
       "metadata": {},
       "output_type": "pyout",
       "prompt_number": 8,
       "text": [
        "49"
       ]
      }
     ],
     "prompt_number": 8
    },
    {
     "cell_type": "code",
     "collapsed": false,
     "input": [
      "type RV\n",
      "    distgenerator::Function\n",
      "    value\n",
      "    parents    \n",
      "end"
     ],
     "language": "python",
     "metadata": {},
     "outputs": [],
     "prompt_number": 14
    },
    {
     "cell_type": "code",
     "collapsed": false,
     "input": [
      "# Works perfectly for a RV with one parent\n",
      "function sample(r::RV)\n",
      "    if (r.value == null)\n",
      "        if (length(r. parents) == 0)\n",
      "            r.value = rand(r.distgenerator())\n",
      "        elseif (length(r.parents) == 1)\n",
      "            a = r.parents[1] \n",
      "            sample(a)\n",
      "            r.value = rand(r.distgenerator(a.value))\n",
      "        elseif (length(r.parents) == 2)\n",
      "            a = r.parents[1]\n",
      "            b = r.parents[2]\n",
      "            sample(a)\n",
      "            sample(b)\n",
      "            r.value = rand(r.distgenerator(a.value,b.value))\n",
      "        elseif (length(r.parents) == 3)\n",
      "            a = r.parents[1]\n",
      "            b = r.parents[2]\n",
      "            c = r.parents[3]\n",
      "            sample(a)\n",
      "            sample(b)\n",
      "            sample(c)\n",
      "            r.value = rand(r.distgenerator(a.value,b.value,c.value))\n",
      "        else \n",
      "            error (\"Don't know how to deal with more than 3 parents\")\n",
      "        end\n",
      "    else\n",
      "        return r.value\n",
      "    end\n",
      "end\n",
      "\n",
      "##what if a negative??\n"
     ],
     "language": "python",
     "metadata": {},
     "outputs": [
      {
       "metadata": {},
       "output_type": "pyout",
       "prompt_number": 18,
       "text": [
        "sample (generic function with 2 methods)"
       ]
      }
     ],
     "prompt_number": 18
    },
    {
     "cell_type": "code",
     "collapsed": false,
     "input": [
      "function addParents(rv::RV, p::Array{RV,1})\n",
      "    rv.parents = [rv.parents, p]\n",
      "end"
     ],
     "language": "python",
     "metadata": {},
     "outputs": [
      {
       "metadata": {},
       "output_type": "pyout",
       "prompt_number": 4,
       "text": [
        "addParents (generic function with 1 method)"
       ]
      }
     ],
     "prompt_number": 4
    },
    {
     "cell_type": "code",
     "collapsed": false,
     "input": [
      "X = RV(() -> Normal(), null, [])\n",
      "Y = RV(()-> Normal(), null, [])\n",
      "Z = RV((x)-> Normal(x,1), null, [X])\n"
     ],
     "language": "python",
     "metadata": {},
     "outputs": [
      {
       "metadata": {},
       "output_type": "pyout",
       "prompt_number": 19,
       "text": [
        "RV((anonymous function),null,[RV((anonymous function),null,None[])])"
       ]
      }
     ],
     "prompt_number": 19
    },
    {
     "cell_type": "code",
     "collapsed": false,
     "input": [
      "sample(Z)"
     ],
     "language": "python",
     "metadata": {},
     "outputs": [
      {
       "metadata": {},
       "output_type": "pyout",
       "prompt_number": 20,
       "text": [
        "0.06202901659753941"
       ]
      }
     ],
     "prompt_number": 20
    },
    {
     "cell_type": "code",
     "collapsed": false,
     "input": [],
     "language": "python",
     "metadata": {},
     "outputs": [],
     "prompt_number": 7
    },
    {
     "cell_type": "markdown",
     "metadata": {},
     "source": [
      "### sample_cond([x,z], [[y,1], [a, 17]])\n",
      "\n",
      "for better understanding\n",
      "\n",
      "sample_cond([x,y,z], [[y,1],[x,1]])"
     ]
    },
    {
     "cell_type": "code",
     "collapsed": false,
     "input": [
      "type Model \n",
      "    randomVariables ##Array of RV\n",
      "    conditions ##2 D Array\n",
      "end"
     ],
     "language": "python",
     "metadata": {},
     "outputs": [],
     "prompt_number": 21
    },
    {
     "cell_type": "code",
     "collapsed": false,
     "input": [
      "type condition\n",
      "    rv::RV\n",
      "    value\n",
      "end"
     ],
     "language": "python",
     "metadata": {},
     "outputs": [],
     "prompt_number": 22
    },
    {
     "cell_type": "code",
     "collapsed": false,
     "input": [
      "function sample_cond(m::Model)\n",
      "    for i in m.randomVariables\n",
      "        sample(i)\n",
      "    end\n",
      "    \n",
      "    truthValues = []\n",
      "    for i in m.conditions\n",
      "        truthValues = [truthValues ,i.value((i.rv.value))]\n",
      "    end \n",
      "    return truthValues\n",
      "end"
     ],
     "language": "python",
     "metadata": {},
     "outputs": [
      {
       "metadata": {},
       "output_type": "pyout",
       "prompt_number": 23,
       "text": [
        "sample_cond (generic function with 1 method)"
       ]
      }
     ],
     "prompt_number": 23
    },
    {
     "cell_type": "code",
     "collapsed": false,
     "input": [
      "##What if after the first sample the observation is not fullfilled? with a new sample the value will not change\n",
      "function rejectionSample(m::Model)\n",
      "    for i in m.randomVariables\n",
      "        sample(i) ##sample not defined ????\n",
      "    end\n",
      "    ##go through the conditions and see if they fit\n",
      "    sample = sample_cond(m)\n",
      "    for i in sample\n",
      "        if i == false\n",
      "            return false\n",
      "        end\n",
      "    end\n",
      "    return true\n",
      "end"
     ],
     "language": "python",
     "metadata": {},
     "outputs": [
      {
       "metadata": {},
       "output_type": "pyout",
       "prompt_number": 22,
       "text": [
        "rejectionSample (generic function with 1 method)"
       ]
      }
     ],
     "prompt_number": 22
    },
    {
     "cell_type": "code",
     "collapsed": false,
     "input": [
      "X = RV(() -> Normal(), null, [])\n",
      "Y = RV(()-> Normal(), null, [])\n",
      "Z = RV((x)-> Normal(x,1), null, [X])\n",
      "c = condition(X,(x) -> x < 9)\n",
      "l = condition(Z,(z)-> z < 0)\n",
      "M = Model([X,Y,Z], [c,l])"
     ],
     "language": "python",
     "metadata": {},
     "outputs": [
      {
       "metadata": {},
       "output_type": "pyout",
       "prompt_number": 24,
       "text": [
        "Model([RV((anonymous function),null,None[]),RV((anonymous function),null,None[]),RV((anonymous function),null,[RV((anonymous function),null,None[])])],[condition(RV((anonymous function),null,None[]),(anonymous function)),condition(RV((anonymous function),null,[RV((anonymous function),null,None[])]),(anonymous function))])"
       ]
      }
     ],
     "prompt_number": 24
    },
    {
     "cell_type": "code",
     "collapsed": false,
     "input": [
      "sample_cond(M)"
     ],
     "language": "python",
     "metadata": {},
     "outputs": [
      {
       "metadata": {},
       "output_type": "pyout",
       "prompt_number": 25,
       "text": [
        "2-element Array{Bool,1}:\n",
        "  true\n",
        " false"
       ]
      }
     ],
     "prompt_number": 25
    },
    {
     "cell_type": "markdown",
     "metadata": {},
     "source": [
      "###observe is like a condition. If we run observe(r1 = true) but r1 =false, \n",
      "###we will rerun the programm. Simple rejection sampling"
     ]
    },
    {
     "cell_type": "code",
     "collapsed": false,
     "input": [
      "rejectionSample(M)"
     ],
     "language": "python",
     "metadata": {},
     "outputs": [
      {
       "ename": "LoadError",
       "evalue": "sample not defined\nwhile loading In[23], in expression starting on line 1",
       "output_type": "pyerr",
       "traceback": [
        "sample not defined\nwhile loading In[23], in expression starting on line 1",
        "",
        " in rejectionSample at In[22]:4"
       ]
      }
     ],
     "prompt_number": 23
    },
    {
     "cell_type": "raw",
     "metadata": {},
     "source": [
      "sample_memoized(y) = begin\n",
      "   if y.value exists return y.value\n",
      "  list = map(sample, y.parents)\n",
      "  y.value = sample(acall , list...)\n",
      "    return y.value\n",
      "end\n",
      "sample(y)  =begin\n",
      "  s = sample_memoized(y)\n",
      "  reset(y)\n",
      "end\n",
      "reset(y, exclude=[]) = begin\n",
      "  map(reset, y.parent, exclude)\n",
      "  y.value = null\n",
      "end\n",
      "    "
     ]
    },
    {
     "cell_type": "code",
     "collapsed": false,
     "input": [
      "function resetRV(x::RV, exclude::Array{RV,1})\n",
      "    \n",
      "    for i in uni\n",
      "        resetRV(i, exclude)\n",
      "    end\n",
      "    x.value = null\n",
      "end\n",
      "\n",
      "function sample(x)\n",
      "    s = sample_memoized(x)\n",
      "    reset(x)\n",
      "end\n",
      "\n",
      "function sample_memoized(x)\n",
      "    if (y.value != null)\n",
      "        return x.value\n",
      "    else\n",
      "        l = map(sample, x.panets)\n",
      "        x.value = sample(x)\n",
      "        return x.value\n",
      "    \n",
      "    end\n",
      "end\n",
      "\n"
     ],
     "language": "python",
     "metadata": {},
     "outputs": [
      {
       "metadata": {},
       "output_type": "pyout",
       "prompt_number": 52,
       "text": [
        "sample_memoized (generic function with 1 method)"
       ]
      }
     ],
     "prompt_number": 52
    },
    {
     "cell_type": "code",
     "collapsed": false,
     "input": [],
     "language": "python",
     "metadata": {},
     "outputs": [
      {
       "metadata": {},
       "output_type": "pyout",
       "prompt_number": 4,
       "text": [
        "sample (generic function with 1 method)"
       ]
      }
     ],
     "prompt_number": 4
    },
    {
     "cell_type": "code",
     "collapsed": false,
     "input": [],
     "language": "python",
     "metadata": {},
     "outputs": [
      {
       "metadata": {},
       "output_type": "pyout",
       "prompt_number": 9,
       "text": [
        "resetRV (generic function with 1 method)"
       ]
      }
     ],
     "prompt_number": 9
    },
    {
     "cell_type": "code",
     "collapsed": false,
     "input": [
      "sample_cond(y, cond, args) = \n",
      "  repeat \n",
      "    sample_memoized(args)\n",
      "    if counter++ > max, error('') end\n",
      "  until cond(args)\n",
      "  yval = sample_memoized(y)\n",
      "  reset...\n",
      "end\n",
      "    "
     ],
     "language": "python",
     "metadata": {},
     "outputs": []
    },
    {
     "cell_type": "code",
     "collapsed": false,
     "input": [
      "sample_cond(y, (x,z) -> x>0 and z<0), [X,Z])"
     ],
     "language": "python",
     "metadata": {},
     "outputs": [],
     "prompt_number": 17
    },
    {
     "cell_type": "code",
     "collapsed": false,
     "input": [
      "i = Null"
     ],
     "language": "python",
     "metadata": {},
     "outputs": [
      {
       "ename": "LoadError",
       "evalue": "Null not defined\nwhile loading In[6], in expression starting on line 1",
       "output_type": "pyerr",
       "traceback": [
        "Null not defined\nwhile loading In[6], in expression starting on line 1",
        ""
       ]
      }
     ],
     "prompt_number": 6
    },
    {
     "cell_type": "code",
     "collapsed": false,
     "input": [
      "X = RV(() -> Normal(), null, [])\n",
      "Y = RV(()-> Normal(), null, [])\n",
      "Z = RV((x)-> Normal(x,1), null, [X])\n",
      "U = X\n",
      "\n",
      "\n"
     ],
     "language": "python",
     "metadata": {},
     "outputs": [
      {
       "metadata": {},
       "output_type": "pyout",
       "prompt_number": 15,
       "text": [
        "3-element Array{RV,1}:\n",
        " RV((anonymous function),null,None[])                                \n",
        " RV((anonymous function),null,None[])                                \n",
        " RV((anonymous function),null,[RV((anonymous function),null,None[])])"
       ]
      }
     ],
     "prompt_number": 15
    },
    {
     "cell_type": "code",
     "collapsed": false,
     "input": [
      "resetRV(Z, [X])\n",
      "(X Z) "
     ],
     "language": "python",
     "metadata": {},
     "outputs": [
      {
       "output_type": "stream",
       "stream": "stdout",
       "text": [
        "[RV"
       ]
      },
      {
       "output_type": "stream",
       "stream": "stdout",
       "text": [
        "((anonymous function),2.1367677880059213,None[])]\n",
        "[RV((anonymous function),2.1367677880059213,None[])]\n",
        "[RV((anonymous function),2.1367677880059213,None[])]\n"
       ]
      },
      {
       "ename": "LoadError",
       "evalue": "mismatch in dimension 1\nwhile loading In[53], in expression starting on line 1",
       "output_type": "pyerr",
       "traceback": [
        "mismatch in dimension 1\nwhile loading In[53], in expression starting on line 1",
        "",
        " in cat_t at abstractarray.jl:698",
        " in hcat at abstractarray.jl:737",
        " in resetRV at In[52]:4",
        " in resetRV at In[52]:8"
       ]
      }
     ],
     "prompt_number": 53
    },
    {
     "cell_type": "code",
     "collapsed": false,
     "input": [],
     "language": "python",
     "metadata": {},
     "outputs": [
      {
       "ename": "LoadError",
       "evalue": "`unique` has no method matching unique(::Array{Int64,1}, ::Array{Int64,1})\nwhile loading In[58], in expression starting on line 1",
       "output_type": "pyerr",
       "traceback": [
        "`unique` has no method matching unique(::Array{Int64,1}, ::Array{Int64,1})\nwhile loading In[58], in expression starting on line 1",
        ""
       ]
      }
     ],
     "prompt_number": 58
    }
   ],
   "metadata": {}
  }
 ]
}