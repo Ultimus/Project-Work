{
 "metadata": {
  "name": ""
 },
 "nbformat": 3,
 "nbformat_minor": 0,
 "worksheets": [
  {
   "cells": [
    {
     "cell_type": "raw",
     "metadata": {},
     "source": [
      "This is a new, more functional, approach to PPL in julia. \n",
      "\n",
      "\n",
      "Note: functions with a ! set state."
     ]
    },
    {
     "cell_type": "code",
     "collapsed": false,
     "input": [
      "using Distributions\n",
      "#stays"
     ],
     "language": "python",
     "metadata": {},
     "outputs": [],
     "prompt_number": 1
    },
    {
     "cell_type": "code",
     "collapsed": false,
     "input": [
      "using Gadfly"
     ],
     "language": "python",
     "metadata": {},
     "outputs": []
    },
    {
     "cell_type": "code",
     "collapsed": false,
     "input": [
      "type RV\n",
      "    distgenerator::Function\n",
      "    name #String or Char\n",
      "    parents\n",
      "end"
     ],
     "language": "python",
     "metadata": {},
     "outputs": [],
     "prompt_number": 2
    },
    {
     "cell_type": "code",
     "collapsed": false,
     "input": [
      "A = RV(() -> Normal(), \"A\", [])\n",
      "B = RV((x)-> Normal(x,1), \"B\", [A])\n",
      "C = RV((x)-> Normal(x,1), \"C\", [A])\n",
      "D = RV((x,y)-> Normal(x, abs(y)), \"D\", [B,C])\n",
      "\n",
      "\n",
      "W = RV(() -> Bernoulli(), 'W', [])\n",
      "X = RV((x)-> Bernoulli(x), 'X', [W])\n",
      "Y = RV((x)-> Bernoulli(x), 'Y', [W])\n",
      "Z = RV((x,y)-> Binomial(int(x), int(y)), 'Z', [X,Y])\n",
      "#stay"
     ],
     "language": "python",
     "metadata": {},
     "outputs": [
      {
       "metadata": {},
       "output_type": "pyout",
       "prompt_number": 3,
       "text": [
        "RV((anonymous function),'Z',[RV((anonymous function),'X',[RV((anonymous function),'W',None[])]),RV((anonymous function),'Y',[RV((anonymous function),'W',None[])])])"
       ]
      }
     ],
     "prompt_number": 3
    },
    {
     "cell_type": "code",
     "collapsed": false,
     "input": [
      "#hash table approach\n",
      "function sampleRVH(r:: RV, d::Dict{Any,Any} = Dict())\n",
      "    if (get(d, hash(r), null) == null)\n",
      "        if (r.parents == []) # case top variable without parents\n",
      "            return merge(d, {hash(r) => rand(r.distgenerator())}) \n",
      "        end\n",
      "        #case variable with parents\n",
      "       vals = Array(Float64,size(r.parents)[1],1)\n",
      "       counter = 1\n",
      "       for i in r.parents \n",
      "           merge!(d, sampleRVH(i,d))\n",
      "           vals[counter] =  d[hash(i)] #collect all values\n",
      "           counter +=1\n",
      "        end\n",
      "        return merge(d, {hash(r) => rand(r.distgenerator(vals...))})\n",
      "    else\n",
      "        return d\n",
      "    end\n",
      "    return d\n",
      "end\n",
      "\n",
      "#stay, maybe rework\n",
      "\n",
      "function sampleRVHName(r:: RV, d::Dict{Any,Any} = Dict())#d:: Dict{Uint64, Float64})#    \n",
      "    if (get(d, r.name, null) == null)\n",
      "        if (r.parents == []) # case top variable without parents\n",
      "            return merge(d, {r.name => rand(r.distgenerator())}) \n",
      "        end\n",
      "        #case variable with parents\n",
      "       vals = Array(Float64,size(r.parents)[1],1)\n",
      "       counter = 1\n",
      "       for i in r.parents \n",
      "           merge!(d, sampleRVHName(i,d))\n",
      "           vals[counter] =  d[i.name] #collect all values\n",
      "           counter +=1\n",
      "        end\n",
      "        return merge(d, {r.name => rand(r.distgenerator(vals...))})\n",
      "    else\n",
      "        return d\n",
      "    end\n",
      "    return d\n",
      "end\n",
      "\n"
     ],
     "language": "python",
     "metadata": {},
     "outputs": [
      {
       "metadata": {},
       "output_type": "pyout",
       "prompt_number": 4,
       "text": [
        "sampleRVHName (generic function with 2 methods)"
       ]
      }
     ],
     "prompt_number": 4
    },
    {
     "cell_type": "code",
     "collapsed": false,
     "input": [
      "@time sampleRVHName(D)  #name function needs some fewer bytes. maybe the dictionary part can be optimized\n",
      "@time sampleRVH(D)"
     ],
     "language": "python",
     "metadata": {},
     "outputs": [
      {
       "output_type": "stream",
       "stream": "stdout",
       "text": [
        "elapsed time: 0."
       ]
      },
      {
       "output_type": "stream",
       "stream": "stdout",
       "text": [
        "155605313 seconds (3483132 bytes allocated)\n",
        "elapsed time: "
       ]
      },
      {
       "output_type": "stream",
       "stream": "stdout",
       "text": [
        "0.0826018 seconds (2479496 bytes allocated)\n"
       ]
      },
      {
       "metadata": {},
       "output_type": "pyout",
       "prompt_number": 5,
       "text": [
        "Dict{Any,Any} with 4 entries:\n",
        "  0x7cb3125482fe5b4d => -0.8684058673464636\n",
        "  0x89f25e2bac259280 => 0.11603733491944472\n",
        "  0xaa821f248ddcc0f4 => 1.0028225590971114\n",
        "  0x22e0da4756d543dc => 0.06611834526302673"
       ]
      }
     ],
     "prompt_number": 5
    },
    {
     "cell_type": "code",
     "collapsed": false,
     "input": [
      "function RVrejectionSampler(r :: RV, expr :: Function, trys:: Int64 = 10000, margin:: Float64 = 0.0)\n",
      "    dict = sampleRVH(r)\n",
      "    while marginCheck(expr, dict[hash(r)], margin) == false && trys > 0 # check if condition succeeds\n",
      "        #expr(dict[hash(r)]) == false && trys > 0.0                      #if not, sample again\n",
      "        dict = sampleRVH(r)\n",
      "        trys = trys -1\n",
      "    end\n",
      "    if trys == 0 return error(\"Did not reach goal within given number of attempts\") end\n",
      "    dict\n",
      "end\n",
      "\n",
      "function marginCheck(expr, value, margin) #needs to be private\n",
      "            minimum = value - margin\n",
      "            maximum = value + margin\n",
      "            return (expr(minimum) || expr(maximum))\n",
      "end\n",
      "\n",
      "#stay, maybe rework"
     ],
     "language": "python",
     "metadata": {},
     "outputs": [
      {
       "metadata": {},
       "output_type": "pyout",
       "prompt_number": 29,
       "text": [
        "marginCheck (generic function with 1 method)"
       ]
      }
     ],
     "prompt_number": 29
    },
    {
     "cell_type": "code",
     "collapsed": false,
     "input": [
      "#marginCheck((x)-> x==5, 0.6652729874902327, 9)\n",
      "RVrejectionSampler(Z, (x) -> x <= 0, 10, 50.0) #better work with \"less-than\" or \"greater-than\" and not with \"equals\""
     ],
     "language": "python",
     "metadata": {},
     "outputs": [
      {
       "metadata": {},
       "output_type": "pyout",
       "prompt_number": 28,
       "text": [
        "Dict{Any,Any} with 4 entries:\n",
        "  0x54843d1b597e3646 => 1\n",
        "  0x3c5109392d05b6f7 => 1\n",
        "  0xd7a781df48109635 => 1\n",
        "  0x1533027ab512f1ac => 1"
       ]
      }
     ],
     "prompt_number": 28
    },
    {
     "cell_type": "code",
     "collapsed": false,
     "input": [
      "#function where a variable is sampled n times. The return value shall be an dict\n",
      "#keys are the hash values of variables and the belonging values are arrays with the sampled values\n",
      "\n",
      "function sampleRVTimes1(r:: RV ,n:: Integer)\n",
      "    dict = sampleRVH(r)\n",
      "    result = Dict()\n",
      "    for key in keys(dict)\n",
      "        merge!(result, {key => [dict[key]]})\n",
      "    end\n",
      "\n",
      "    for i in 1:n \n",
      "        dict = sampleRVH(r)\n",
      "        for key in keys(dict)\n",
      "            merge!(result, {key => push!(result[key], dict[key])})\n",
      "        end\n",
      "    end\n",
      "    result\n",
      "end"
     ],
     "language": "python",
     "metadata": {},
     "outputs": [
      {
       "metadata": {},
       "output_type": "pyout",
       "prompt_number": 8,
       "text": [
        "sampleRVTimes1 (generic function with 1 method)"
       ]
      }
     ],
     "prompt_number": 8
    },
    {
     "cell_type": "code",
     "collapsed": false,
     "input": [
      "function sampleRVTimes11(r:: RV ,n:: Integer)\n",
      "    dict = sampleRVH(r)\n",
      "    result = Dict()\n",
      "    for key in keys(dict)\n",
      "        merge!(result, {key => [dict[key]]})\n",
      "    end\n",
      "    \n",
      "    for key in keys(dict)\n",
      "        merge!(result,  {key => Array(Float64,n,1)})\n",
      "    end\n",
      "    \n",
      "    for i in 1:n \n",
      "        dict = sampleRVH(r)\n",
      "        for key in keys(dict)\n",
      "            result[key][i] = dict[key]\n",
      "            #merge!(result, key => result[key][i] = dict[key])\n",
      "        end\n",
      "    end\n",
      "    result\n",
      "end"
     ],
     "language": "python",
     "metadata": {},
     "outputs": [
      {
       "metadata": {},
       "output_type": "pyout",
       "prompt_number": 9,
       "text": [
        "sampleRVTimes11 (generic function with 1 method)"
       ]
      }
     ],
     "prompt_number": 9
    },
    {
     "cell_type": "code",
     "collapsed": false,
     "input": [
      "function sampleRVTimes2(r::RV, n :: Integer)\n",
      "    result = Dict[]\n",
      "    for i in 1:n\n",
      "        push!(result, sampleRVH(r))\n",
      "    end\n",
      "    result\n",
      "end\n",
      "\n",
      "#stay"
     ],
     "language": "python",
     "metadata": {},
     "outputs": [
      {
       "metadata": {},
       "output_type": "pyout",
       "prompt_number": 10,
       "text": [
        "sampleRVTimes2 (generic function with 1 method)"
       ]
      }
     ],
     "prompt_number": 10
    },
    {
     "cell_type": "code",
     "collapsed": false,
     "input": [
      "#Benchmark for sampleRVHTimes1 and 2\n",
      "@time sampleRVTimes1(D,10000) #lapsed time: 0.49265976 seconds (132503320 bytes allocated, 22.38% gc time)\n",
      "@time sampleRVTimes2(D,10000) #lapsed time: 0.324558497 seconds (76503168 bytes allocated, 36.95% gc time)\n",
      "                                                                #\n",
      "                                                                #79354344 RVTimes1 with array size"
     ],
     "language": "python",
     "metadata": {},
     "outputs": [
      {
       "output_type": "stream",
       "stream": "stdout",
       "text": [
        "elapsed time: 0."
       ]
      },
      {
       "output_type": "stream",
       "stream": "stdout",
       "text": [
        "489199881 seconds (106771064 bytes allocated, 21.27% gc time)\n",
        "elapsed time: "
       ]
      },
      {
       "output_type": "stream",
       "stream": "stdout",
       "text": [
        "0.249605914 seconds (77760556 bytes allocated, 13.71% gc time)\n"
       ]
      },
      {
       "metadata": {},
       "output_type": "pyout",
       "prompt_number": 11,
       "text": [
        "10000-element Array{Dict{K,V},1}:\n",
        " {0x7cb3125482fe5b4d=>1.9885790374645906,0x89f25e2bac259280=>1.932277794038208,0xaa821f248ddcc0f4=>0.38197289499703646,0x22e0da4756d543dc=>1.9882324357726076}      \n",
        " {0x7cb3125482fe5b4d=>-0.2191514535638021,0x89f25e2bac259280=>-0.147028228470407,0xaa821f248ddcc0f4=>0.9201848504508439,0x22e0da4756d543dc=>0.23095889191499636}    \n",
        " {0x7cb3125482fe5b4d=>-3.6468868770250147,0x89f25e2bac259280=>-1.121214637381737,0xaa821f248ddcc0f4=>-0.4139312932435616,0x22e0da4756d543dc=>-2.997536332480292}    \n",
        " {0x7cb3125482fe5b4d=>-1.1295646126135888,0x89f25e2bac259280=>-0.8273554423838474,0xaa821f248ddcc0f4=>-0.33114658916619766,0x22e0da4756d543dc=>-1.2079089939251597} \n",
        " {0x7cb3125482fe5b4d=>0.49721871161880293,0x89f25e2bac259280=>-1.5251396382453721,0xaa821f248ddcc0f4=>-2.4844626692346825,0x22e0da4756d543dc=>1.6781822529552215}   \n",
        " {0x7cb3125482fe5b4d=>-0.015859819131582076,0x89f25e2bac259280=>0.6572274960164592,0xaa821f248ddcc0f4=>0.9715964091665026,0x22e0da4756d543dc=>-0.20221159395459193} \n",
        " {0x7cb3125482fe5b4d=>1.5722475216258056,0x89f25e2bac259280=>0.8107023425233888,0xaa821f248ddcc0f4=>1.3988249654538123,0x22e0da4756d543dc=>1.504254744022274}       \n",
        " {0x7cb3125482fe5b4d=>-1.4059479296958735,0x89f25e2bac259280=>-0.45698751453078956,0xaa821f248ddcc0f4=>-0.17968721149348665,0x22e0da4756d543dc=>-1.2778196786193536}\n",
        " {0x7cb3125482fe5b4d=>0.18060093525691057,0x89f25e2bac259280=>-0.4802359032364154,0xaa821f248ddcc0f4=>-1.1425587708161808,0x22e0da4756d543dc=>0.7236226135612468}   \n",
        " {0x7cb3125482fe5b4d=>1.6910275786029412,0x89f25e2bac259280=>0.4339867260504447,0xaa821f248ddcc0f4=>-0.6148971171233142,0x22e0da4756d543dc=>1.4814842905377479}     \n",
        " {0x7cb3125482fe5b4d=>2.591018977685507,0x89f25e2bac259280=>1.324581695189417,0xaa821f248ddcc0f4=>2.4390139047051114,0x22e0da4756d543dc=>1.4524011234983243}        \n",
        " {0x7cb3125482fe5b4d=>-1.4871499305462816,0x89f25e2bac259280=>-0.44944017406967723,0xaa821f248ddcc0f4=>0.035019790114584004,0x22e0da4756d543dc=>-1.4472327007037111}\n",
        " {0x7cb3125482fe5b4d=>0.34769830266009394,0x89f25e2bac259280=>0.018593305624488812,0xaa821f248ddcc0f4=>0.7981719308758558,0x22e0da4756d543dc=>0.9541093111552613}   \n",
        " \u22ee                                                                                                                                                                  \n",
        " {0x7cb3125482fe5b4d=>3.1361687141123618,0x89f25e2bac259280=>1.2379315617982662,0xaa821f248ddcc0f4=>-1.2890342514397144,0x22e0da4756d543dc=>1.180176080399115}      \n",
        " {0x7cb3125482fe5b4d=>1.604387592599235,0x89f25e2bac259280=>0.5659089663515694,0xaa821f248ddcc0f4=>-0.6007977509317005,0x22e0da4756d543dc=>1.44758643633928}        \n",
        " {0x7cb3125482fe5b4d=>-1.7106757775275894,0x89f25e2bac259280=>-1.032201914286336,0xaa821f248ddcc0f4=>-1.5195630203616495,0x22e0da4756d543dc=>0.7102330650499378}    \n",
        " {0x7cb3125482fe5b4d=>0.2261215171598226,0x89f25e2bac259280=>-0.4043424168409841,0xaa821f248ddcc0f4=>-0.5090852591901164,0x22e0da4756d543dc=>0.3305607694089036}    \n",
        " {0x7cb3125482fe5b4d=>-0.4719903075250279,0x89f25e2bac259280=>-0.34277917859802004,0xaa821f248ddcc0f4=>-1.3403429825327067,0x22e0da4756d543dc=>-1.5979662063232594} \n",
        " {0x7cb3125482fe5b4d=>-0.9505980830176555,0x89f25e2bac259280=>1.0875228133429748,0xaa821f248ddcc0f4=>-0.43275291085973255,0x22e0da4756d543dc=>-0.4174417044551181}  \n",
        " {0x7cb3125482fe5b4d=>1.9229124862393263,0x89f25e2bac259280=>1.1655185750826396,0xaa821f248ddcc0f4=>1.084475374532359,0x22e0da4756d543dc=>2.5868279155970426}       \n",
        " {0x7cb3125482fe5b4d=>-3.7479476258379663,0x89f25e2bac259280=>-1.8788966663489362,0xaa821f248ddcc0f4=>-1.9955424335273224,0x22e0da4756d543dc=>-2.736111566827798}   \n",
        " {0x7cb3125482fe5b4d=>-2.4075169414952757,0x89f25e2bac259280=>-1.2099413551273261,0xaa821f248ddcc0f4=>-0.4316289387325011,0x22e0da4756d543dc=>-2.5748691876176735}  \n",
        " {0x7cb3125482fe5b4d=>2.332831249562461,0x89f25e2bac259280=>1.6508451329628309,0xaa821f248ddcc0f4=>2.9124478499088147,0x22e0da4756d543dc=>7.901362384290503}        \n",
        " {0x7cb3125482fe5b4d=>1.7732795252370512,0x89f25e2bac259280=>0.8740554121685813,0xaa821f248ddcc0f4=>0.9823423761121368,0x22e0da4756d543dc=>0.9394601059857646}      \n",
        " {0x7cb3125482fe5b4d=>3.1102934389030827,0x89f25e2bac259280=>0.5479411071380658,0xaa821f248ddcc0f4=>1.1239117820434537,0x22e0da4756d543dc=>3.4514824566173465}      "
       ]
      }
     ],
     "prompt_number": 11
    },
    {
     "cell_type": "code",
     "collapsed": false,
     "input": [
      "function getAverage1(dict)\n",
      "    average = [0.0, 0.0, 0.0, 0.0]\n",
      "    i = 1\n",
      "    for key in keys(dict)\n",
      "        for j in dict[key]\n",
      "            average[i] += j\n",
      "        end\n",
      "        i +=1\n",
      "    end\n",
      "    average\n",
      "end\n",
      "\n",
      "function getAverage2(dict)\n",
      "    average = [0.0, 0.0, 0.0, 0.0]\n",
      "    i = 1\n",
      "    for j in dict\n",
      "        for key in keys(j)\n",
      "                #println(key)\n",
      "                average[i] += j[key] \n",
      "                i +=1\n",
      "        end\n",
      "        i = 1\n",
      "    end\n",
      "    average\n",
      "end"
     ],
     "language": "python",
     "metadata": {},
     "outputs": [
      {
       "metadata": {},
       "output_type": "pyout",
       "prompt_number": 12,
       "text": [
        "getAverage2 (generic function with 1 method)"
       ]
      }
     ],
     "prompt_number": 12
    },
    {
     "cell_type": "code",
     "collapsed": false,
     "input": [
      "@time getAverage1(sampleRVTimes1(D,10000))\n",
      "@time getAverage2(sampleRVTimes2(D, 10000))"
     ],
     "language": "python",
     "metadata": {},
     "outputs": [
      {
       "output_type": "stream",
       "stream": "stdout",
       "text": [
        "elapsed time: 0."
       ]
      },
      {
       "output_type": "stream",
       "stream": "stdout",
       "text": [
        "454454759 seconds (110082280 bytes allocated, 17.37% gc time)\n",
        "elapsed time: "
       ]
      },
      {
       "output_type": "stream",
       "stream": "stdout",
       "text": [
        "0.316839358 seconds (81141228 bytes allocated, 25.28% gc time)\n"
       ]
      },
      {
       "metadata": {},
       "output_type": "pyout",
       "prompt_number": 13,
       "text": [
        "4-element Array{Float64,1}:\n",
        "   32.0924\n",
        "  -41.4891\n",
        " -102.674 \n",
        "  128.251 "
       ]
      }
     ],
     "prompt_number": 13
    },
    {
     "cell_type": "code",
     "collapsed": false,
     "input": [
      "function sampleRV_rejection_ntimes(r::RV, cond :: Function, n :: Integer, trys :: Integer = 10000, margin :: Float64 = 0.0)\n",
      "    result = Dict[]\n",
      "    for i in 1:n\n",
      "        push!(result, RVrejectionSampler(r, cond, trys, margin))\n",
      "    end\n",
      "    result\n",
      "end\n",
      "\n",
      "#stay, maybe rework interface"
     ],
     "language": "python",
     "metadata": {},
     "outputs": [
      {
       "metadata": {},
       "output_type": "pyout",
       "prompt_number": 14,
       "text": [
        "sampleRV_rejection_ntimes (generic function with 3 methods)"
       ]
      }
     ],
     "prompt_number": 14
    },
    {
     "cell_type": "code",
     "collapsed": false,
     "input": [
      "sampleRV_rejection_ntimes(A, (x)-> x < 2 && x> 0, 5)"
     ],
     "language": "python",
     "metadata": {},
     "outputs": [
      {
       "metadata": {},
       "output_type": "pyout",
       "prompt_number": 15,
       "text": [
        "5-element Array{Dict{K,V},1}:\n",
        " {0x89f25e2bac259280=>0.34530898957606343}\n",
        " {0x89f25e2bac259280=>1.7186263909587929} \n",
        " {0x89f25e2bac259280=>0.3743377419659063} \n",
        " {0x89f25e2bac259280=>0.6791667761635554} \n",
        " {0x89f25e2bac259280=>0.3871620199641402} "
       ]
      }
     ],
     "prompt_number": 15
    },
    {
     "cell_type": "code",
     "collapsed": false,
     "input": [
      "# Problem: what variable will we sample, what if the variables are not dependent from each other?\n",
      "\n",
      "function RVrejectionSampler(rs::Array{RV,1}, expr :: Function, trys :: Int64 = 10000, margin::Float64 = 0.0)\n",
      "    dict=sampleRVHName(r)\n",
      "    #collect values\n",
      "    vals = Float64(size(rs)[1],1)\n",
      "    i = 1\n",
      "    for r in rs\n",
      "        vals[i] = dict(r)\n",
      "        i += 1\n",
      "    end\n",
      "    while expr(vals...) == false && trys > 0\n",
      "        dict = sampleRVH(r)\n",
      "    end\n",
      "    \n",
      "end"
     ],
     "language": "python",
     "metadata": {},
     "outputs": []
    }
   ],
   "metadata": {}
  }
 ]
}